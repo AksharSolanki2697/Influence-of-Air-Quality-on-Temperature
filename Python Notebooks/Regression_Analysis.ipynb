{
 "cells": [
  {
   "cell_type": "code",
   "execution_count": 1,
   "metadata": {},
   "outputs": [],
   "source": [
    "import pandas as pd\n",
    "import numpy as np\n",
    "import random\n",
    "from sklearn import preprocessing"
   ]
  },
  {
   "cell_type": "code",
   "execution_count": 2,
   "metadata": {},
   "outputs": [],
   "source": [
    "data = pd.read_csv(\"Data//Preprocessed Data//Preprocessed_data.csv\")"
   ]
  },
  {
   "cell_type": "code",
   "execution_count": 3,
   "metadata": {},
   "outputs": [
    {
     "data": {
      "text/html": [
       "<div>\n",
       "<style scoped>\n",
       "    .dataframe tbody tr th:only-of-type {\n",
       "        vertical-align: middle;\n",
       "    }\n",
       "\n",
       "    .dataframe tbody tr th {\n",
       "        vertical-align: top;\n",
       "    }\n",
       "\n",
       "    .dataframe thead th {\n",
       "        text-align: right;\n",
       "    }\n",
       "</style>\n",
       "<table border=\"1\" class=\"dataframe\">\n",
       "  <thead>\n",
       "    <tr style=\"text-align: right;\">\n",
       "      <th></th>\n",
       "      <th>Unnamed: 0</th>\n",
       "      <th>No</th>\n",
       "      <th>year</th>\n",
       "      <th>month</th>\n",
       "      <th>day</th>\n",
       "      <th>hour</th>\n",
       "      <th>PM2.5</th>\n",
       "      <th>PM10</th>\n",
       "      <th>SO2</th>\n",
       "      <th>NO2</th>\n",
       "      <th>...</th>\n",
       "      <th>RAIN</th>\n",
       "      <th>wd</th>\n",
       "      <th>WSPM</th>\n",
       "      <th>station</th>\n",
       "      <th>PM25_AQI</th>\n",
       "      <th>PM10_AQI</th>\n",
       "      <th>SO2_AQI</th>\n",
       "      <th>NO2_AQI</th>\n",
       "      <th>CO_AQI</th>\n",
       "      <th>O3_AQI</th>\n",
       "    </tr>\n",
       "  </thead>\n",
       "  <tbody>\n",
       "    <tr>\n",
       "      <th>0</th>\n",
       "      <td>0</td>\n",
       "      <td>1</td>\n",
       "      <td>2013</td>\n",
       "      <td>3</td>\n",
       "      <td>1</td>\n",
       "      <td>0</td>\n",
       "      <td>4.0</td>\n",
       "      <td>4.0</td>\n",
       "      <td>1.526718</td>\n",
       "      <td>3.723404</td>\n",
       "      <td>...</td>\n",
       "      <td>0.0</td>\n",
       "      <td>329.976194</td>\n",
       "      <td>4.4</td>\n",
       "      <td>Aotizhongxin</td>\n",
       "      <td>16.666667</td>\n",
       "      <td>3.636364</td>\n",
       "      <td>2.120441</td>\n",
       "      <td>3.447597</td>\n",
       "      <td>2.911208</td>\n",
       "      <td>30.8</td>\n",
       "    </tr>\n",
       "    <tr>\n",
       "      <th>1</th>\n",
       "      <td>1</td>\n",
       "      <td>2</td>\n",
       "      <td>2013</td>\n",
       "      <td>3</td>\n",
       "      <td>1</td>\n",
       "      <td>1</td>\n",
       "      <td>8.0</td>\n",
       "      <td>8.0</td>\n",
       "      <td>1.526718</td>\n",
       "      <td>3.723404</td>\n",
       "      <td>...</td>\n",
       "      <td>0.0</td>\n",
       "      <td>350.471596</td>\n",
       "      <td>4.7</td>\n",
       "      <td>Aotizhongxin</td>\n",
       "      <td>33.333333</td>\n",
       "      <td>7.272727</td>\n",
       "      <td>2.120441</td>\n",
       "      <td>3.447597</td>\n",
       "      <td>2.911208</td>\n",
       "      <td>30.8</td>\n",
       "    </tr>\n",
       "    <tr>\n",
       "      <th>2</th>\n",
       "      <td>2</td>\n",
       "      <td>3</td>\n",
       "      <td>2013</td>\n",
       "      <td>3</td>\n",
       "      <td>1</td>\n",
       "      <td>2</td>\n",
       "      <td>7.0</td>\n",
       "      <td>7.0</td>\n",
       "      <td>1.908397</td>\n",
       "      <td>5.319149</td>\n",
       "      <td>...</td>\n",
       "      <td>0.0</td>\n",
       "      <td>329.976194</td>\n",
       "      <td>5.6</td>\n",
       "      <td>Aotizhongxin</td>\n",
       "      <td>29.166667</td>\n",
       "      <td>6.363636</td>\n",
       "      <td>2.650551</td>\n",
       "      <td>4.925138</td>\n",
       "      <td>2.911208</td>\n",
       "      <td>29.2</td>\n",
       "    </tr>\n",
       "    <tr>\n",
       "      <th>3</th>\n",
       "      <td>3</td>\n",
       "      <td>4</td>\n",
       "      <td>2013</td>\n",
       "      <td>3</td>\n",
       "      <td>1</td>\n",
       "      <td>3</td>\n",
       "      <td>6.0</td>\n",
       "      <td>6.0</td>\n",
       "      <td>4.198473</td>\n",
       "      <td>5.851064</td>\n",
       "      <td>...</td>\n",
       "      <td>0.0</td>\n",
       "      <td>314.006221</td>\n",
       "      <td>3.1</td>\n",
       "      <td>Aotizhongxin</td>\n",
       "      <td>25.000000</td>\n",
       "      <td>5.454545</td>\n",
       "      <td>5.831213</td>\n",
       "      <td>5.417652</td>\n",
       "      <td>2.911208</td>\n",
       "      <td>28.8</td>\n",
       "    </tr>\n",
       "    <tr>\n",
       "      <th>4</th>\n",
       "      <td>4</td>\n",
       "      <td>5</td>\n",
       "      <td>2013</td>\n",
       "      <td>3</td>\n",
       "      <td>1</td>\n",
       "      <td>4</td>\n",
       "      <td>3.0</td>\n",
       "      <td>3.0</td>\n",
       "      <td>4.580153</td>\n",
       "      <td>6.382979</td>\n",
       "      <td>...</td>\n",
       "      <td>0.0</td>\n",
       "      <td>350.471596</td>\n",
       "      <td>2.0</td>\n",
       "      <td>Aotizhongxin</td>\n",
       "      <td>12.500000</td>\n",
       "      <td>2.727273</td>\n",
       "      <td>6.361323</td>\n",
       "      <td>5.910165</td>\n",
       "      <td>2.911208</td>\n",
       "      <td>28.8</td>\n",
       "    </tr>\n",
       "  </tbody>\n",
       "</table>\n",
       "<p>5 rows × 25 columns</p>\n",
       "</div>"
      ],
      "text/plain": [
       "   Unnamed: 0  No  year  month  day  hour  PM2.5  PM10       SO2       NO2  \\\n",
       "0           0   1  2013      3    1     0    4.0   4.0  1.526718  3.723404   \n",
       "1           1   2  2013      3    1     1    8.0   8.0  1.526718  3.723404   \n",
       "2           2   3  2013      3    1     2    7.0   7.0  1.908397  5.319149   \n",
       "3           3   4  2013      3    1     3    6.0   6.0  4.198473  5.851064   \n",
       "4           4   5  2013      3    1     4    3.0   3.0  4.580153  6.382979   \n",
       "\n",
       "   ...  RAIN          wd  WSPM       station   PM25_AQI  PM10_AQI   SO2_AQI  \\\n",
       "0  ...   0.0  329.976194   4.4  Aotizhongxin  16.666667  3.636364  2.120441   \n",
       "1  ...   0.0  350.471596   4.7  Aotizhongxin  33.333333  7.272727  2.120441   \n",
       "2  ...   0.0  329.976194   5.6  Aotizhongxin  29.166667  6.363636  2.650551   \n",
       "3  ...   0.0  314.006221   3.1  Aotizhongxin  25.000000  5.454545  5.831213   \n",
       "4  ...   0.0  350.471596   2.0  Aotizhongxin  12.500000  2.727273  6.361323   \n",
       "\n",
       "    NO2_AQI    CO_AQI  O3_AQI  \n",
       "0  3.447597  2.911208    30.8  \n",
       "1  3.447597  2.911208    30.8  \n",
       "2  4.925138  2.911208    29.2  \n",
       "3  5.417652  2.911208    28.8  \n",
       "4  5.910165  2.911208    28.8  \n",
       "\n",
       "[5 rows x 25 columns]"
      ]
     },
     "execution_count": 3,
     "metadata": {},
     "output_type": "execute_result"
    }
   ],
   "source": [
    "data.head()"
   ]
  },
  {
   "cell_type": "code",
   "execution_count": null,
   "metadata": {},
   "outputs": [],
   "source": []
  },
  {
   "cell_type": "markdown",
   "metadata": {},
   "source": [
    "# Preparing Train and Test Set "
   ]
  },
  {
   "cell_type": "markdown",
   "metadata": {},
   "source": [
    "#### There are 3 models created in order to depict the importance of feature creation and influence of air quality on temperature. \n",
    "Feature1 : Uses Pressure, Rain, and Wind speed in order to predict the temperature.\n",
    "\n",
    "Feature2 : Uses the 4 Pollutant concentration and 2 particle sizes concentration along with the previous 3 features to predict temperature.\n",
    "\n",
    "Feature3 : Uses the created features (Air quality indices of 6 pollutants) along with the previous 3 features to predict the temperature."
   ]
  },
  {
   "cell_type": "code",
   "execution_count": 4,
   "metadata": {},
   "outputs": [],
   "source": [
    "temp_array = data['TEMP'].values\n",
    "y = temp_array.reshape(-1,1) # Because only one attribute has to be predicted"
   ]
  },
  {
   "cell_type": "code",
   "execution_count": 12,
   "metadata": {},
   "outputs": [],
   "source": [
    "feature1 = ['PRES','RAIN','WSPM']\n",
    "\n",
    "feature2 = ['PM2.5','PM10','SO2','NO2','O3','CO','PRES','RAIN','WSPM']\n",
    "\n",
    "feature3 = ['PM25_AQI','PM10_AQI','SO2_AQI','NO2_AQI','O3_AQI','CO_AQI','PRES','RAIN','WSPM']\n",
    "\n",
    "X1 = data.loc[:, feature1].values\n",
    "X2 = data.loc[:, feature2].values\n",
    "X3 = data.loc[:, feature3].values\n"
   ]
  },
  {
   "cell_type": "code",
   "execution_count": 6,
   "metadata": {},
   "outputs": [],
   "source": []
  },
  {
   "cell_type": "code",
   "execution_count": 13,
   "metadata": {},
   "outputs": [],
   "source": [
    "from sklearn.model_selection import train_test_split\n",
    "\n",
    "X1_train, X1_test, y1_train, y1_test = train_test_split(X1, y, test_size = 0.2, random_state = 0)\n",
    "X2_train, X2_test, y2_train, y2_test = train_test_split(X2, y, test_size = 0.2, random_state = 0)\n",
    "X3_train, X3_test, y3_train, y3_test = train_test_split(X3, y, test_size = 0.2, random_state = 0)\n",
    "\n"
   ]
  },
  {
   "cell_type": "markdown",
   "metadata": {},
   "source": [
    "## DecisionTree Regression"
   ]
  },
  {
   "cell_type": "code",
   "execution_count": 14,
   "metadata": {},
   "outputs": [
    {
     "name": "stdout",
     "output_type": "stream",
     "text": [
      " R^2 Score with feature1<-- on test set: 0.7226228398476233\n",
      " R^2 Score with feature2 <-- on test set: 0.7255236235567473\n",
      " R^2 Score with feature3 <-- on test set: 0.7254002902689967\n"
     ]
    }
   ],
   "source": [
    "from sklearn.tree import DecisionTreeRegressor\n",
    "\n",
    "dtree1 = DecisionTreeRegressor()\n",
    "dtree2 = DecisionTreeRegressor()\n",
    "dtree3 = DecisionTreeRegressor()\n",
    "\n",
    "dtree1.fit(X1_train, y1_train)\n",
    "\n",
    "dtree2.fit(X2_train, y2_train)\n",
    "\n",
    "dtree3.fit(X3_train, y3_train)\n",
    "\n",
    "print(\" R^2 Score with feature1 <-- on test set: {}\".format(dtree1.score(X1_test, y1_test)))\n",
    "\n",
    "print(\" R^2 Score with feature2 <-- on test set: {}\".format(dtree2.score(X2_test, y2_test)))\n",
    "\n",
    "print(\" R^2 Score with feature3 <-- on test set: {}\".format(dtree3.score(X3_test, y3_test)))\n"
   ]
  },
  {
   "cell_type": "markdown",
   "metadata": {},
   "source": [
    "## Ridge Regression "
   ]
  },
  {
   "cell_type": "code",
   "execution_count": 15,
   "metadata": {},
   "outputs": [
    {
     "name": "stdout",
     "output_type": "stream",
     "text": [
      " R^2 Score with feature1 <-- on test set: 0.668813412604142\n",
      " R^2 Score with feature2 <-- on test set: 0.7502428511220475\n",
      " R^2 Score with feature3 <-- on test set: 0.7507785142635952\n"
     ]
    }
   ],
   "source": [
    "from sklearn.linear_model import Ridge\n",
    "\n",
    "ridge1 = Ridge(alpha = 1.0, tol = 1, solver = 'svd').fit(X1_train, y1_train)\n",
    "ridge2 = Ridge(alpha = 1.0, tol = 1, solver = 'svd').fit(X2_train, y2_train)\n",
    "ridge3 = Ridge(alpha = 1.0, tol = 1, solver = 'svd').fit(X3_train, y3_train)\n",
    "\n",
    "\n",
    "print(\" R^2 Score with feature1 <-- on test set: {}\".format(ridge1.score(X1_test, y1_test)))\n",
    "\n",
    "print(\" R^2 Score with feature2 <-- on test set: {}\".format(ridge2.score(X2_test, y2_test)))\n",
    "\n",
    "print(\" R^2 Score with feature3 <-- on test set: {}\".format(ridge3.score(X3_test, y3_test)))\n"
   ]
  },
  {
   "cell_type": "markdown",
   "metadata": {},
   "source": [
    "## Lasso Regression\n"
   ]
  },
  {
   "cell_type": "code",
   "execution_count": 16,
   "metadata": {},
   "outputs": [
    {
     "name": "stdout",
     "output_type": "stream",
     "text": [
      " R^2 Score with feature1 <-- on test set: 0.6632206984150215\n",
      " R^2 Score with feature2 <-- on test set: 0.7437820410345286\n",
      " R^2 Score with feature3 <-- on test set: 0.7502508124379266\n"
     ]
    }
   ],
   "source": [
    "from sklearn.linear_model import Lasso\n",
    "\n",
    "lasso1 = Lasso(alpha=1.0, precompute = False,selection = 'random',tol = 0.000001)\n",
    "lasso1.fit(X1_train,y1_train)\n",
    "\n",
    "lasso2 = Lasso(alpha=1.0, precompute = False,selection = 'random',tol = 0.000001)\n",
    "lasso2.fit(X2_train,y2_train)\n",
    "\n",
    "\n",
    "lasso3 = Lasso(alpha=1.0, precompute = False,selection = 'random',tol = 0.000001)\n",
    "lasso3.fit(X3_train,y3_train)\n",
    "\n",
    "\n",
    "print(\" R^2 Score with feature1 <-- on test set: {}\".format(lasso1.score(X1_test, y1_test)))\n",
    "\n",
    "print(\" R^2 Score with feature2 <-- on test set: {}\".format(lasso2.score(X2_test, y2_test)))\n",
    "\n",
    "print(\" R^2 Score with feature3 <-- on test set: {}\".format(lasso3.score(X3_test, y3_test)))\n"
   ]
  },
  {
   "cell_type": "markdown",
   "metadata": {},
   "source": [
    "## ElasticNet Regression"
   ]
  },
  {
   "cell_type": "code",
   "execution_count": 19,
   "metadata": {},
   "outputs": [
    {
     "name": "stdout",
     "output_type": "stream",
     "text": [
      " R^2 Score with feature1 <-- on test set: 0.6660343309393048\n",
      " R^2 Score with feature2 <-- on test set: 0.7439282443449935\n",
      " R^2 Score with feature3 <-- on test set: 0.7504926807317898\n"
     ]
    }
   ],
   "source": [
    "from sklearn.linear_model import ElasticNet\n",
    "\n",
    "enet1 = ElasticNet().fit(X1_train,y1_train)\n",
    "enet2 = ElasticNet().fit(X2_train,y2_train)\n",
    "enet3 = ElasticNet().fit(X3_train,y3_train)\n",
    "\n",
    "\n",
    "print(\" R^2 Score with feature1 <-- on test set: {}\".format(enet1.score(X1_test, y1_test)))\n",
    "\n",
    "print(\" R^2 Score with feature2 <-- on test set: {}\".format(enet2.score(X2_test, y2_test)))\n",
    "\n",
    "print(\" R^2 Score with feature3 <-- on test set: {}\".format(enet3.score(X3_test, y3_test)))"
   ]
  },
  {
   "cell_type": "code",
   "execution_count": null,
   "metadata": {},
   "outputs": [],
   "source": []
  }
 ],
 "metadata": {
  "kernelspec": {
   "display_name": "Python 3",
   "language": "python",
   "name": "python3"
  },
  "language_info": {
   "codemirror_mode": {
    "name": "ipython",
    "version": 3
   },
   "file_extension": ".py",
   "mimetype": "text/x-python",
   "name": "python",
   "nbconvert_exporter": "python",
   "pygments_lexer": "ipython3",
   "version": "3.7.6"
  }
 },
 "nbformat": 4,
 "nbformat_minor": 4
}
