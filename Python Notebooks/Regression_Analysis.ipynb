{
 "cells": [
  {
   "cell_type": "code",
   "execution_count": 1,
   "metadata": {},
   "outputs": [],
   "source": [
    "import pandas as pd\n",
    "import numpy as np\n",
    "import random\n",
    "from sklearn import preprocessing"
   ]
  },
  {
   "cell_type": "code",
   "execution_count": 2,
   "metadata": {},
   "outputs": [],
   "source": [
    "data = pd.read_csv(\"Data//Preprocessed Data//Preprocessed_data.csv\")"
   ]
  },
  {
   "cell_type": "code",
   "execution_count": 3,
   "metadata": {},
   "outputs": [
    {
     "data": {
      "text/html": [
       "<div>\n",
       "<style scoped>\n",
       "    .dataframe tbody tr th:only-of-type {\n",
       "        vertical-align: middle;\n",
       "    }\n",
       "\n",
       "    .dataframe tbody tr th {\n",
       "        vertical-align: top;\n",
       "    }\n",
       "\n",
       "    .dataframe thead th {\n",
       "        text-align: right;\n",
       "    }\n",
       "</style>\n",
       "<table border=\"1\" class=\"dataframe\">\n",
       "  <thead>\n",
       "    <tr style=\"text-align: right;\">\n",
       "      <th></th>\n",
       "      <th>Unnamed: 0</th>\n",
       "      <th>No</th>\n",
       "      <th>year</th>\n",
       "      <th>month</th>\n",
       "      <th>day</th>\n",
       "      <th>hour</th>\n",
       "      <th>PM2.5</th>\n",
       "      <th>PM10</th>\n",
       "      <th>SO2</th>\n",
       "      <th>NO2</th>\n",
       "      <th>...</th>\n",
       "      <th>RAIN</th>\n",
       "      <th>wd</th>\n",
       "      <th>WSPM</th>\n",
       "      <th>station</th>\n",
       "      <th>PM25_AQI</th>\n",
       "      <th>PM10_AQI</th>\n",
       "      <th>SO2_AQI</th>\n",
       "      <th>NO2_AQI</th>\n",
       "      <th>CO_AQI</th>\n",
       "      <th>O3_AQI</th>\n",
       "    </tr>\n",
       "  </thead>\n",
       "  <tbody>\n",
       "    <tr>\n",
       "      <th>0</th>\n",
       "      <td>0</td>\n",
       "      <td>1</td>\n",
       "      <td>2013</td>\n",
       "      <td>3</td>\n",
       "      <td>1</td>\n",
       "      <td>0</td>\n",
       "      <td>4.0</td>\n",
       "      <td>4.0</td>\n",
       "      <td>1.526718</td>\n",
       "      <td>3.723404</td>\n",
       "      <td>...</td>\n",
       "      <td>0.0</td>\n",
       "      <td>329.976194</td>\n",
       "      <td>4.4</td>\n",
       "      <td>Aotizhongxin</td>\n",
       "      <td>16.666667</td>\n",
       "      <td>3.636364</td>\n",
       "      <td>2.120441</td>\n",
       "      <td>3.447597</td>\n",
       "      <td>2.911208</td>\n",
       "      <td>30.8</td>\n",
       "    </tr>\n",
       "    <tr>\n",
       "      <th>1</th>\n",
       "      <td>1</td>\n",
       "      <td>2</td>\n",
       "      <td>2013</td>\n",
       "      <td>3</td>\n",
       "      <td>1</td>\n",
       "      <td>1</td>\n",
       "      <td>8.0</td>\n",
       "      <td>8.0</td>\n",
       "      <td>1.526718</td>\n",
       "      <td>3.723404</td>\n",
       "      <td>...</td>\n",
       "      <td>0.0</td>\n",
       "      <td>350.471596</td>\n",
       "      <td>4.7</td>\n",
       "      <td>Aotizhongxin</td>\n",
       "      <td>33.333333</td>\n",
       "      <td>7.272727</td>\n",
       "      <td>2.120441</td>\n",
       "      <td>3.447597</td>\n",
       "      <td>2.911208</td>\n",
       "      <td>30.8</td>\n",
       "    </tr>\n",
       "    <tr>\n",
       "      <th>2</th>\n",
       "      <td>2</td>\n",
       "      <td>3</td>\n",
       "      <td>2013</td>\n",
       "      <td>3</td>\n",
       "      <td>1</td>\n",
       "      <td>2</td>\n",
       "      <td>7.0</td>\n",
       "      <td>7.0</td>\n",
       "      <td>1.908397</td>\n",
       "      <td>5.319149</td>\n",
       "      <td>...</td>\n",
       "      <td>0.0</td>\n",
       "      <td>329.976194</td>\n",
       "      <td>5.6</td>\n",
       "      <td>Aotizhongxin</td>\n",
       "      <td>29.166667</td>\n",
       "      <td>6.363636</td>\n",
       "      <td>2.650551</td>\n",
       "      <td>4.925138</td>\n",
       "      <td>2.911208</td>\n",
       "      <td>29.2</td>\n",
       "    </tr>\n",
       "    <tr>\n",
       "      <th>3</th>\n",
       "      <td>3</td>\n",
       "      <td>4</td>\n",
       "      <td>2013</td>\n",
       "      <td>3</td>\n",
       "      <td>1</td>\n",
       "      <td>3</td>\n",
       "      <td>6.0</td>\n",
       "      <td>6.0</td>\n",
       "      <td>4.198473</td>\n",
       "      <td>5.851064</td>\n",
       "      <td>...</td>\n",
       "      <td>0.0</td>\n",
       "      <td>314.006221</td>\n",
       "      <td>3.1</td>\n",
       "      <td>Aotizhongxin</td>\n",
       "      <td>25.000000</td>\n",
       "      <td>5.454545</td>\n",
       "      <td>5.831213</td>\n",
       "      <td>5.417652</td>\n",
       "      <td>2.911208</td>\n",
       "      <td>28.8</td>\n",
       "    </tr>\n",
       "    <tr>\n",
       "      <th>4</th>\n",
       "      <td>4</td>\n",
       "      <td>5</td>\n",
       "      <td>2013</td>\n",
       "      <td>3</td>\n",
       "      <td>1</td>\n",
       "      <td>4</td>\n",
       "      <td>3.0</td>\n",
       "      <td>3.0</td>\n",
       "      <td>4.580153</td>\n",
       "      <td>6.382979</td>\n",
       "      <td>...</td>\n",
       "      <td>0.0</td>\n",
       "      <td>350.471596</td>\n",
       "      <td>2.0</td>\n",
       "      <td>Aotizhongxin</td>\n",
       "      <td>12.500000</td>\n",
       "      <td>2.727273</td>\n",
       "      <td>6.361323</td>\n",
       "      <td>5.910165</td>\n",
       "      <td>2.911208</td>\n",
       "      <td>28.8</td>\n",
       "    </tr>\n",
       "  </tbody>\n",
       "</table>\n",
       "<p>5 rows × 25 columns</p>\n",
       "</div>"
      ],
      "text/plain": [
       "   Unnamed: 0  No  year  month  day  hour  PM2.5  PM10       SO2       NO2  \\\n",
       "0           0   1  2013      3    1     0    4.0   4.0  1.526718  3.723404   \n",
       "1           1   2  2013      3    1     1    8.0   8.0  1.526718  3.723404   \n",
       "2           2   3  2013      3    1     2    7.0   7.0  1.908397  5.319149   \n",
       "3           3   4  2013      3    1     3    6.0   6.0  4.198473  5.851064   \n",
       "4           4   5  2013      3    1     4    3.0   3.0  4.580153  6.382979   \n",
       "\n",
       "   ...  RAIN          wd  WSPM       station   PM25_AQI  PM10_AQI   SO2_AQI  \\\n",
       "0  ...   0.0  329.976194   4.4  Aotizhongxin  16.666667  3.636364  2.120441   \n",
       "1  ...   0.0  350.471596   4.7  Aotizhongxin  33.333333  7.272727  2.120441   \n",
       "2  ...   0.0  329.976194   5.6  Aotizhongxin  29.166667  6.363636  2.650551   \n",
       "3  ...   0.0  314.006221   3.1  Aotizhongxin  25.000000  5.454545  5.831213   \n",
       "4  ...   0.0  350.471596   2.0  Aotizhongxin  12.500000  2.727273  6.361323   \n",
       "\n",
       "    NO2_AQI    CO_AQI  O3_AQI  \n",
       "0  3.447597  2.911208    30.8  \n",
       "1  3.447597  2.911208    30.8  \n",
       "2  4.925138  2.911208    29.2  \n",
       "3  5.417652  2.911208    28.8  \n",
       "4  5.910165  2.911208    28.8  \n",
       "\n",
       "[5 rows x 25 columns]"
      ]
     },
     "execution_count": 3,
     "metadata": {},
     "output_type": "execute_result"
    }
   ],
   "source": [
    "data.head()"
   ]
  },
  {
   "cell_type": "code",
   "execution_count": null,
   "metadata": {},
   "outputs": [],
   "source": []
  },
  {
   "cell_type": "markdown",
   "metadata": {},
   "source": [
    "# Preparing Train and Test Set "
   ]
  },
  {
   "cell_type": "code",
   "execution_count": 4,
   "metadata": {},
   "outputs": [],
   "source": [
    "temp_array = data['TEMP'].values\n",
    "y = temp_array.reshape(-1,1) # Because only one attribute has to be predicted"
   ]
  },
  {
   "cell_type": "code",
   "execution_count": 5,
   "metadata": {},
   "outputs": [],
   "source": [
    "features = ['PM2.5','PM10','SO2','NO2','O3','CO','PRES','RAIN','WSPM']\n",
    "X = data.loc[:, features].values"
   ]
  },
  {
   "cell_type": "code",
   "execution_count": 6,
   "metadata": {},
   "outputs": [],
   "source": [
    "features_aqi = ['PM25_AQI','PM10_AQI','SO2_AQI','NO2_AQI','O3_AQI','CO_AQI','PRES','RAIN','WSPM']\n",
    "\n",
    "X_aqi = data.loc[:, features_aqi].values"
   ]
  },
  {
   "cell_type": "code",
   "execution_count": 7,
   "metadata": {},
   "outputs": [],
   "source": [
    "from sklearn.model_selection import train_test_split\n",
    "\n",
    "X_train, X_test, y_train, y_test = train_test_split(X, y, test_size = 0.2, random_state = 0)\n",
    "X_train_aqi, X_test_aqi, y_train_aqi, y_test_aqi = train_test_split(X_aqi, y, test_size = 0.2, random_state = 0)\n"
   ]
  },
  {
   "cell_type": "markdown",
   "metadata": {},
   "source": [
    "## DecisionTree Regression"
   ]
  },
  {
   "cell_type": "code",
   "execution_count": 8,
   "metadata": {},
   "outputs": [
    {
     "name": "stdout",
     "output_type": "stream",
     "text": [
      " R^2 Score <-- on test set: 0.7250546089852411\n",
      " R^2 Score with features <-- on test set: 0.7253724876936607\n"
     ]
    }
   ],
   "source": [
    "from sklearn.tree import DecisionTreeRegressor\n",
    "\n",
    "dtree = DecisionTreeRegressor()\n",
    "dtree_aqi = DecisionTreeRegressor()\n",
    "dtree.fit(X_train, y_train)\n",
    "dtree_aqi.fit(X_train_aqi, y_train_aqi)\n",
    "\n",
    "print(\" R^2 Score <-- on test set: {}\".format(dtree.score(X_test, y_test)))\n",
    "\n",
    "print(\" R^2 Score with features <-- on test set: {}\".format(dtree_aqi.score(X_test_aqi, y_test_aqi)))\n"
   ]
  },
  {
   "cell_type": "markdown",
   "metadata": {},
   "source": [
    "## Ridge Regression "
   ]
  },
  {
   "cell_type": "code",
   "execution_count": 9,
   "metadata": {},
   "outputs": [
    {
     "name": "stdout",
     "output_type": "stream",
     "text": [
      " R^2 Score <-- on test set: 0.7502428511220475\n",
      " R^2 Score with features <-- on test set: 0.7507785142635952\n"
     ]
    }
   ],
   "source": [
    "from sklearn.linear_model import Ridge\n",
    "\n",
    "ridge = Ridge(alpha = 1.0, tol = 1, solver = 'svd').fit(X_train, y_train)\n",
    "ridge_aqi = Ridge(alpha = 1.0, tol = 1, solver = 'svd').fit(X_train_aqi, y_train_aqi)\n",
    "\n",
    "print(\" R^2 Score <-- on test set: {}\".format(ridge.score(X_test, y_test)))\n",
    "\n",
    "print(\" R^2 Score with features <-- on test set: {}\".format(ridge_aqi.score(X_test_aqi, y_test_aqi)))\n"
   ]
  },
  {
   "cell_type": "markdown",
   "metadata": {},
   "source": [
    "## Lasso Regression\n"
   ]
  },
  {
   "cell_type": "code",
   "execution_count": 10,
   "metadata": {},
   "outputs": [
    {
     "name": "stdout",
     "output_type": "stream",
     "text": [
      " R^2 Score <-- on test set: 0.743782038753257\n",
      " R^2 Score with features <-- on test set: 0.7502508584525543\n"
     ]
    }
   ],
   "source": [
    "from sklearn.linear_model import Lasso\n",
    "\n",
    "lasso = Lasso(alpha=1.0, precompute = False,selection = 'random',tol = 0.000001)\n",
    "lasso.fit(X_train,y_train)\n",
    "\n",
    "lasso_aqi = Lasso(alpha=1.0, precompute = False,selection = 'random',tol = 0.000001)\n",
    "lasso_aqi.fit(X_train_aqi,y_train_aqi)\n",
    "\n",
    "print(\" R^2 Score <-- on test set: {}\".format(lasso.score(X_test, y_test)))\n",
    "\n",
    "print(\" R^2 Score with features <-- on test set: {}\".format(lasso_aqi.score(X_test_aqi, y_test_aqi)))"
   ]
  },
  {
   "cell_type": "markdown",
   "metadata": {},
   "source": [
    "## ElasticNet Regression"
   ]
  },
  {
   "cell_type": "code",
   "execution_count": 11,
   "metadata": {},
   "outputs": [
    {
     "name": "stdout",
     "output_type": "stream",
     "text": [
      " R^2 Score <-- on test set: 0.7439282443449935\n",
      " R^2 Score with features <-- on test set: 0.7504926807317898\n"
     ]
    }
   ],
   "source": [
    "from sklearn.linear_model import ElasticNet\n",
    "\n",
    "enet = ElasticNet().fit(X_train,y_train)\n",
    "enet_aqi = ElasticNet().fit(X_train_aqi,y_train_aqi)\n",
    "\n",
    "print(\" R^2 Score <-- on test set: {}\".format(enet.score(X_test, y_test)))\n",
    "\n",
    "print(\" R^2 Score with features <-- on test set: {}\".format(enet_aqi.score(X_test_aqi, y_test_aqi)))"
   ]
  },
  {
   "cell_type": "code",
   "execution_count": null,
   "metadata": {},
   "outputs": [],
   "source": []
  }
 ],
 "metadata": {
  "kernelspec": {
   "display_name": "Python 3",
   "language": "python",
   "name": "python3"
  },
  "language_info": {
   "codemirror_mode": {
    "name": "ipython",
    "version": 3
   },
   "file_extension": ".py",
   "mimetype": "text/x-python",
   "name": "python",
   "nbconvert_exporter": "python",
   "pygments_lexer": "ipython3",
   "version": "3.7.6"
  }
 },
 "nbformat": 4,
 "nbformat_minor": 4
}
