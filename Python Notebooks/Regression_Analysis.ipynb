{
 "cells": [
  {
   "cell_type": "code",
   "execution_count": 1,
   "metadata": {},
   "outputs": [],
   "source": [
    "import pandas as pd\n",
    "import numpy as np\n",
    "import random\n",
    "import sklearn.metrics\n",
    "import math\n"
   ]
  },
  {
   "cell_type": "code",
   "execution_count": 9,
   "metadata": {},
   "outputs": [],
   "source": [
    "data = pd.read_csv(\"..\\\\Data\\\\Preprocessed Data\\\\Preprocessed_data.csv\")\n",
    "data = data.drop(['Unnamed: 0','No'], axis = 1)"
   ]
  },
  {
   "cell_type": "code",
   "execution_count": 10,
   "metadata": {
    "scrolled": true
   },
   "outputs": [
    {
     "data": {
      "text/html": [
       "<div>\n",
       "<style scoped>\n",
       "    .dataframe tbody tr th:only-of-type {\n",
       "        vertical-align: middle;\n",
       "    }\n",
       "\n",
       "    .dataframe tbody tr th {\n",
       "        vertical-align: top;\n",
       "    }\n",
       "\n",
       "    .dataframe thead th {\n",
       "        text-align: right;\n",
       "    }\n",
       "</style>\n",
       "<table border=\"1\" class=\"dataframe\">\n",
       "  <thead>\n",
       "    <tr style=\"text-align: right;\">\n",
       "      <th></th>\n",
       "      <th>year</th>\n",
       "      <th>month</th>\n",
       "      <th>day</th>\n",
       "      <th>hour</th>\n",
       "      <th>PM2.5</th>\n",
       "      <th>PM10</th>\n",
       "      <th>SO2</th>\n",
       "      <th>NO2</th>\n",
       "      <th>CO</th>\n",
       "      <th>O3</th>\n",
       "      <th>...</th>\n",
       "      <th>RAIN</th>\n",
       "      <th>wd</th>\n",
       "      <th>WSPM</th>\n",
       "      <th>station</th>\n",
       "      <th>PM25_AQI</th>\n",
       "      <th>PM10_AQI</th>\n",
       "      <th>SO2_AQI</th>\n",
       "      <th>NO2_AQI</th>\n",
       "      <th>CO_AQI</th>\n",
       "      <th>O3_AQI</th>\n",
       "    </tr>\n",
       "  </thead>\n",
       "  <tbody>\n",
       "    <tr>\n",
       "      <th>0</th>\n",
       "      <td>2013</td>\n",
       "      <td>3</td>\n",
       "      <td>1</td>\n",
       "      <td>0</td>\n",
       "      <td>4.0</td>\n",
       "      <td>4.0</td>\n",
       "      <td>1.526718</td>\n",
       "      <td>3.723404</td>\n",
       "      <td>0.262009</td>\n",
       "      <td>38.5</td>\n",
       "      <td>...</td>\n",
       "      <td>0.0</td>\n",
       "      <td>329.976194</td>\n",
       "      <td>4.4</td>\n",
       "      <td>Aotizhongxin</td>\n",
       "      <td>16.666667</td>\n",
       "      <td>3.636364</td>\n",
       "      <td>2.120441</td>\n",
       "      <td>3.447597</td>\n",
       "      <td>2.911208</td>\n",
       "      <td>30.8</td>\n",
       "    </tr>\n",
       "    <tr>\n",
       "      <th>1</th>\n",
       "      <td>2013</td>\n",
       "      <td>3</td>\n",
       "      <td>1</td>\n",
       "      <td>1</td>\n",
       "      <td>8.0</td>\n",
       "      <td>8.0</td>\n",
       "      <td>1.526718</td>\n",
       "      <td>3.723404</td>\n",
       "      <td>0.262009</td>\n",
       "      <td>38.5</td>\n",
       "      <td>...</td>\n",
       "      <td>0.0</td>\n",
       "      <td>350.471596</td>\n",
       "      <td>4.7</td>\n",
       "      <td>Aotizhongxin</td>\n",
       "      <td>33.333333</td>\n",
       "      <td>7.272727</td>\n",
       "      <td>2.120441</td>\n",
       "      <td>3.447597</td>\n",
       "      <td>2.911208</td>\n",
       "      <td>30.8</td>\n",
       "    </tr>\n",
       "    <tr>\n",
       "      <th>2</th>\n",
       "      <td>2013</td>\n",
       "      <td>3</td>\n",
       "      <td>1</td>\n",
       "      <td>2</td>\n",
       "      <td>7.0</td>\n",
       "      <td>7.0</td>\n",
       "      <td>1.908397</td>\n",
       "      <td>5.319149</td>\n",
       "      <td>0.262009</td>\n",
       "      <td>36.5</td>\n",
       "      <td>...</td>\n",
       "      <td>0.0</td>\n",
       "      <td>329.976194</td>\n",
       "      <td>5.6</td>\n",
       "      <td>Aotizhongxin</td>\n",
       "      <td>29.166667</td>\n",
       "      <td>6.363636</td>\n",
       "      <td>2.650551</td>\n",
       "      <td>4.925138</td>\n",
       "      <td>2.911208</td>\n",
       "      <td>29.2</td>\n",
       "    </tr>\n",
       "    <tr>\n",
       "      <th>3</th>\n",
       "      <td>2013</td>\n",
       "      <td>3</td>\n",
       "      <td>1</td>\n",
       "      <td>3</td>\n",
       "      <td>6.0</td>\n",
       "      <td>6.0</td>\n",
       "      <td>4.198473</td>\n",
       "      <td>5.851064</td>\n",
       "      <td>0.262009</td>\n",
       "      <td>36.0</td>\n",
       "      <td>...</td>\n",
       "      <td>0.0</td>\n",
       "      <td>314.006221</td>\n",
       "      <td>3.1</td>\n",
       "      <td>Aotizhongxin</td>\n",
       "      <td>25.000000</td>\n",
       "      <td>5.454545</td>\n",
       "      <td>5.831213</td>\n",
       "      <td>5.417652</td>\n",
       "      <td>2.911208</td>\n",
       "      <td>28.8</td>\n",
       "    </tr>\n",
       "    <tr>\n",
       "      <th>4</th>\n",
       "      <td>2013</td>\n",
       "      <td>3</td>\n",
       "      <td>1</td>\n",
       "      <td>4</td>\n",
       "      <td>3.0</td>\n",
       "      <td>3.0</td>\n",
       "      <td>4.580153</td>\n",
       "      <td>6.382979</td>\n",
       "      <td>0.262009</td>\n",
       "      <td>36.0</td>\n",
       "      <td>...</td>\n",
       "      <td>0.0</td>\n",
       "      <td>350.471596</td>\n",
       "      <td>2.0</td>\n",
       "      <td>Aotizhongxin</td>\n",
       "      <td>12.500000</td>\n",
       "      <td>2.727273</td>\n",
       "      <td>6.361323</td>\n",
       "      <td>5.910165</td>\n",
       "      <td>2.911208</td>\n",
       "      <td>28.8</td>\n",
       "    </tr>\n",
       "  </tbody>\n",
       "</table>\n",
       "<p>5 rows × 23 columns</p>\n",
       "</div>"
      ],
      "text/plain": [
       "   year  month  day  hour  PM2.5  PM10       SO2       NO2        CO    O3  \\\n",
       "0  2013      3    1     0    4.0   4.0  1.526718  3.723404  0.262009  38.5   \n",
       "1  2013      3    1     1    8.0   8.0  1.526718  3.723404  0.262009  38.5   \n",
       "2  2013      3    1     2    7.0   7.0  1.908397  5.319149  0.262009  36.5   \n",
       "3  2013      3    1     3    6.0   6.0  4.198473  5.851064  0.262009  36.0   \n",
       "4  2013      3    1     4    3.0   3.0  4.580153  6.382979  0.262009  36.0   \n",
       "\n",
       "   ...  RAIN          wd  WSPM       station   PM25_AQI  PM10_AQI   SO2_AQI  \\\n",
       "0  ...   0.0  329.976194   4.4  Aotizhongxin  16.666667  3.636364  2.120441   \n",
       "1  ...   0.0  350.471596   4.7  Aotizhongxin  33.333333  7.272727  2.120441   \n",
       "2  ...   0.0  329.976194   5.6  Aotizhongxin  29.166667  6.363636  2.650551   \n",
       "3  ...   0.0  314.006221   3.1  Aotizhongxin  25.000000  5.454545  5.831213   \n",
       "4  ...   0.0  350.471596   2.0  Aotizhongxin  12.500000  2.727273  6.361323   \n",
       "\n",
       "    NO2_AQI    CO_AQI  O3_AQI  \n",
       "0  3.447597  2.911208    30.8  \n",
       "1  3.447597  2.911208    30.8  \n",
       "2  4.925138  2.911208    29.2  \n",
       "3  5.417652  2.911208    28.8  \n",
       "4  5.910165  2.911208    28.8  \n",
       "\n",
       "[5 rows x 23 columns]"
      ]
     },
     "execution_count": 10,
     "metadata": {},
     "output_type": "execute_result"
    }
   ],
   "source": [
    "data.head()"
   ]
  },
  {
   "cell_type": "code",
   "execution_count": null,
   "metadata": {},
   "outputs": [],
   "source": []
  },
  {
   "cell_type": "markdown",
   "metadata": {},
   "source": [
    "# Preparing Train and Test Set "
   ]
  },
  {
   "cell_type": "markdown",
   "metadata": {},
   "source": [
    "#### There are 3 models created in order to depict the importance of feature creation and influence of air quality on temperature. \n",
    "\n",
    "Feature1 : Uses Pressure, Rain, and Wind speed in order to predict the temperature.\n",
    "\n",
    "Feature2 : Uses the 4 Pollutant concentration and 2 particle sizes concentration along with the previous 3 features to predict temperature.\n",
    "\n",
    "Feature3 : Uses the created features (Air quality indices of 6 pollutants) along with the previous 3 features to predict the temperature."
   ]
  },
  {
   "cell_type": "code",
   "execution_count": 11,
   "metadata": {},
   "outputs": [],
   "source": [
    "temp_array = data['TEMP'].values\n",
    "y = temp_array.reshape(-1,1) # Because only one attribute has to be predicted"
   ]
  },
  {
   "cell_type": "code",
   "execution_count": 12,
   "metadata": {},
   "outputs": [],
   "source": [
    "feature1 = ['PRES','RAIN','WSPM', 'DEWP']\n",
    "\n",
    "feature2 = ['PM2.5','PM10','SO2','NO2','O3','CO','PRES','RAIN','WSPM', 'DEWP']\n",
    "\n",
    "feature3 = ['PM25_AQI','PM10_AQI','SO2_AQI','NO2_AQI','O3_AQI','CO_AQI','PRES','RAIN','WSPM','DEWP']\n",
    "\n",
    "X1 = data.loc[:, feature1].values\n",
    "X2 = data.loc[:, feature2].values\n",
    "X3 = data.loc[:, feature3].values\n"
   ]
  },
  {
   "cell_type": "code",
   "execution_count": 15,
   "metadata": {},
   "outputs": [],
   "source": [
    "from sklearn.model_selection import train_test_split\n",
    "X1_train, X1_test, y1_train, y1_test = train_test_split(X1, y, test_size = 0.2, random_state = 0)\n",
    "X2_train, X2_test, y2_train, y2_test = train_test_split(X2, y, test_size = 0.2, random_state = 0)\n",
    "X3_train, X3_test, y3_train, y3_test = train_test_split(X3, y, test_size = 0.2, random_state = 0)\n"
   ]
  },
  {
   "cell_type": "markdown",
   "metadata": {},
   "source": [
    "## DecisionTree Regression"
   ]
  },
  {
   "cell_type": "code",
   "execution_count": 16,
   "metadata": {},
   "outputs": [
    {
     "name": "stdout",
     "output_type": "stream",
     "text": [
      " R^2 Score with feature1 <-- on test set: 0.8797417842911273\n",
      " R^2 Score with feature2 <-- on test set: 0.89158842235077\n",
      " R^2 Score with feature3 <-- on test set: 0.8909930796788632\n"
     ]
    }
   ],
   "source": [
    "from sklearn.tree import DecisionTreeRegressor\n",
    "\n",
    "dtree1 = DecisionTreeRegressor()\n",
    "dtree2 = DecisionTreeRegressor()\n",
    "dtree3 = DecisionTreeRegressor()\n",
    "\n",
    "dtree1.fit(X1_train, y1_train)\n",
    "\n",
    "dtree2.fit(X2_train, y2_train)\n",
    "\n",
    "dtree3.fit(X3_train, y3_train)\n",
    "\n",
    "print(\" R^2 Score with feature1 <-- on test set: {}\".format(dtree1.score(X1_test, y1_test)))\n",
    "\n",
    "print(\" R^2 Score with feature2 <-- on test set: {}\".format(dtree2.score(X2_test, y2_test)))\n",
    "\n",
    "print(\" R^2 Score with feature3 <-- on test set: {}\".format(dtree3.score(X3_test, y3_test)))\n"
   ]
  },
  {
   "cell_type": "markdown",
   "metadata": {},
   "source": [
    "## Ridge Regression "
   ]
  },
  {
   "cell_type": "code",
   "execution_count": 17,
   "metadata": {},
   "outputs": [
    {
     "name": "stdout",
     "output_type": "stream",
     "text": [
      " R^2 Score with feature1 <-- on test set: 0.8137456586577634\n",
      " R^2 Score with feature2 <-- on test set: 0.873592083039969\n",
      " R^2 Score with feature3 <-- on test set: 0.8750426117823807\n"
     ]
    }
   ],
   "source": [
    "from sklearn.linear_model import Ridge\n",
    "\n",
    "ridge1 = Ridge(alpha = 1.0, tol = 1, solver = 'svd').fit(X1_train, y1_train)\n",
    "ridge2 = Ridge(alpha = 1.0, tol = 1, solver = 'svd').fit(X2_train, y2_train)\n",
    "ridge3 = Ridge(alpha = 1.0, tol = 1, solver = 'svd').fit(X3_train, y3_train)\n",
    "\n",
    "\n",
    "print(\" R^2 Score with feature1 <-- on test set: {}\".format(ridge1.score(X1_test, y1_test)))\n",
    "\n",
    "print(\" R^2 Score with feature2 <-- on test set: {}\".format(ridge2.score(X2_test, y2_test)))\n",
    "\n",
    "print(\" R^2 Score with feature3 <-- on test set: {}\".format(ridge3.score(X3_test, y3_test)))\n",
    "\n",
    "\n",
    "\n"
   ]
  },
  {
   "cell_type": "markdown",
   "metadata": {},
   "source": [
    "## Lasso Regression\n"
   ]
  },
  {
   "cell_type": "code",
   "execution_count": 18,
   "metadata": {},
   "outputs": [
    {
     "name": "stdout",
     "output_type": "stream",
     "text": [
      " R^2 Score with feature1 <-- on test set: 0.8055535666393012\n",
      " R^2 Score with feature2 <-- on test set: 0.8590314881516887\n",
      " R^2 Score with feature3 <-- on test set: 0.8650864940930765\n"
     ]
    }
   ],
   "source": [
    "from sklearn.linear_model import Lasso\n",
    "\n",
    "lasso1 = Lasso(alpha=1.0, precompute = False,selection = 'random',tol = 0.000001)\n",
    "lasso1.fit(X1_train,y1_train)\n",
    "\n",
    "lasso2 = Lasso(alpha=1.0, precompute = False,selection = 'random',tol = 0.000001)\n",
    "lasso2.fit(X2_train,y2_train)\n",
    "\n",
    "\n",
    "lasso3 = Lasso(alpha=1.0, precompute = False,selection = 'random',tol = 0.000001)\n",
    "lasso3.fit(X3_train,y3_train)\n",
    "\n",
    "\n",
    "print(\" R^2 Score with feature1 <-- on test set: {}\".format(lasso1.score(X1_test, y1_test)))\n",
    "\n",
    "print(\" R^2 Score with feature2 <-- on test set: {}\".format(lasso2.score(X2_test, y2_test)))\n",
    "\n",
    "print(\" R^2 Score with feature3 <-- on test set: {}\".format(lasso3.score(X3_test, y3_test)))\n"
   ]
  },
  {
   "cell_type": "markdown",
   "metadata": {},
   "source": [
    "## ElasticNet Regression"
   ]
  },
  {
   "cell_type": "code",
   "execution_count": 19,
   "metadata": {},
   "outputs": [
    {
     "name": "stdout",
     "output_type": "stream",
     "text": [
      " R^2 Score with feature1 <-- on test set: 0.8035776722446638\n",
      " R^2 Score with feature2 <-- on test set: 0.8625700148276056\n",
      " R^2 Score with feature3 <-- on test set: 0.8691704577793922\n"
     ]
    }
   ],
   "source": [
    "from sklearn.linear_model import ElasticNet\n",
    "\n",
    "enet1 = ElasticNet().fit(X1_train,y1_train)\n",
    "enet2 = ElasticNet().fit(X2_train,y2_train)\n",
    "enet3 = ElasticNet().fit(X3_train,y3_train)\n",
    "\n",
    "\n",
    "print(\" R^2 Score with feature1 <-- on test set: {}\".format(enet1.score(X1_test, y1_test)))\n",
    "\n",
    "print(\" R^2 Score with feature2 <-- on test set: {}\".format(enet2.score(X2_test, y2_test)))\n",
    "\n",
    "print(\" R^2 Score with feature3 <-- on test set: {}\".format(enet3.score(X3_test, y3_test)))\n",
    "\n"
   ]
  },
  {
   "cell_type": "markdown",
   "metadata": {},
   "source": [
    "## Forward Selection"
   ]
  },
  {
   "cell_type": "code",
   "execution_count": 21,
   "metadata": {},
   "outputs": [],
   "source": [
    "data1 = data.drop(['day','year','month','hour','station','TEMP'], axis = 1)\n",
    "#Dropping columns of whose corelation cannot be found out."
   ]
  },
  {
   "cell_type": "code",
   "execution_count": 24,
   "metadata": {},
   "outputs": [],
   "source": [
    "import warnings\n",
    "warnings.filterwarnings('ignore')"
   ]
  },
  {
   "cell_type": "code",
   "execution_count": 25,
   "metadata": {},
   "outputs": [],
   "source": [
    "from statsmodels.api import OLS\n",
    "import statsmodels.api as sm\n",
    "\n",
    "def forward_selection(data, target, significance_level=0.05):\n",
    "    initial_features = data.columns.tolist()\n",
    "    best_features = []\n",
    "    while (len(initial_features)>0):\n",
    "        remaining_features = list(set(initial_features)-set(best_features))\n",
    "        new_pval = pd.Series(index=remaining_features)\n",
    "        for new_column in remaining_features:\n",
    "            model = sm.OLS(target.astype(float), sm.add_constant(data[best_features+[new_column]]).astype(float)).fit()\n",
    "            new_pval[new_column] = model.pvalues[new_column]\n",
    "        min_p_value = new_pval.min()\n",
    "        if(min_p_value<significance_level):\n",
    "            best_features.append(new_pval.idxmin())\n",
    "        else:\n",
    "            break\n",
    "    return best_features\n",
    "target = data['TEMP']\n",
    "feature4 = forward_selection(data1,target) "
   ]
  },
  {
   "cell_type": "code",
   "execution_count": 26,
   "metadata": {},
   "outputs": [
    {
     "data": {
      "text/plain": [
       "['SO2',\n",
       " 'SO2_AQI',\n",
       " 'PM10_AQI',\n",
       " 'O3_AQI',\n",
       " 'DEWP',\n",
       " 'WSPM',\n",
       " 'PM25_AQI',\n",
       " 'O3',\n",
       " 'NO2_AQI',\n",
       " 'RAIN',\n",
       " 'PRES',\n",
       " 'CO_AQI',\n",
       " 'CO',\n",
       " 'PM10',\n",
       " 'wd',\n",
       " 'NO2']"
      ]
     },
     "execution_count": 26,
     "metadata": {},
     "output_type": "execute_result"
    }
   ],
   "source": [
    "feature4"
   ]
  },
  {
   "cell_type": "code",
   "execution_count": 27,
   "metadata": {},
   "outputs": [],
   "source": [
    "X4 = data.loc[:, feature4].values\n",
    "X4_train, X4_test, y4_train, y4_test = train_test_split(X4, y, test_size = 0.2, random_state = 0)\n"
   ]
  },
  {
   "cell_type": "code",
   "execution_count": 28,
   "metadata": {},
   "outputs": [
    {
     "name": "stdout",
     "output_type": "stream",
     "text": [
      " R^2 Score with feature4 for DecisionTree Regressor <-- on test set: 0.8946235850323392\n"
     ]
    }
   ],
   "source": [
    "dtree4 = DecisionTreeRegressor()\n",
    "dtree4.fit(X4_train, y4_train)\n",
    "print(\" R^2 Score with feature4 for DecisionTree Regressor <-- on test set: {}\".format(dtree4.score(X4_test, y4_test)))"
   ]
  },
  {
   "cell_type": "code",
   "execution_count": 29,
   "metadata": {},
   "outputs": [
    {
     "name": "stdout",
     "output_type": "stream",
     "text": [
      " R^2 Score with feature4 <-- on test set: 0.8770318636053822\n"
     ]
    }
   ],
   "source": [
    "ridge4 = Ridge(alpha = 1.0, tol = 1, solver = 'svd')\n",
    "ridge4.fit(X4_train, y4_train)\n",
    "print(\" R^2 Score with feature4 <-- on test set: {}\".format(ridge4.score(X4_test, y4_test)))"
   ]
  },
  {
   "cell_type": "code",
   "execution_count": 30,
   "metadata": {},
   "outputs": [
    {
     "name": "stdout",
     "output_type": "stream",
     "text": [
      " R^2 Score with feature4 for Lasso Regressor<-- on test set: 0.8655030148683419\n"
     ]
    }
   ],
   "source": [
    "lasso4 = Lasso(alpha=1.0, precompute = False,selection = 'random',tol = 0.000001)\n",
    "lasso4.fit(X4_train,y4_train)\n",
    "print(\" R^2 Score with feature4 for Lasso Regressor<-- on test set: {}\".format(lasso4.score(X4_test, y4_test)))\n"
   ]
  },
  {
   "cell_type": "code",
   "execution_count": 31,
   "metadata": {},
   "outputs": [
    {
     "name": "stdout",
     "output_type": "stream",
     "text": [
      " R^2 Score with feature3 for ElastiNet Regressor<-- on test set: 0.8697057308922778\n"
     ]
    }
   ],
   "source": [
    "enet4 = ElasticNet().fit(X4_train,y4_train)\n",
    "print(\" R^2 Score with feature3 for ElastiNet Regressor<-- on test set: {}\".format(enet4.score(X4_test, y4_test)))"
   ]
  },
  {
   "cell_type": "markdown",
   "metadata": {},
   "source": [
    "## Adjusted R-Squared and Root Mean Squared Error"
   ]
  },
  {
   "cell_type": "markdown",
   "metadata": {},
   "source": [
    "### DecisionTree"
   ]
  },
  {
   "cell_type": "code",
   "execution_count": 32,
   "metadata": {},
   "outputs": [
    {
     "name": "stdout",
     "output_type": "stream",
     "text": [
      "Adjusted R^2 Score with feature1 <-- on test set: 0.8797403552358648\n",
      "Mean Squared Error with feature1 <-- on test set: 15.762025096432561 \n",
      "Root Mean Squared Error with feature1 <-- on test set: 3.9701416972738595 \n"
     ]
    }
   ],
   "source": [
    "R_Score_DT1 = dtree1.score(X1_test,y1_test)\n",
    "Adj_R_Score_DT1 = 1 - (1-R_Score_DT1)*(len(y1_train)-1)/(len(y1_train)-X1_train.shape[1]-1)\n",
    "print(\"Adjusted R^2 Score with feature1 <-- on test set: {}\".format(Adj_R_Score_DT1))\n",
    "\n",
    "predicted_values = dtree1.predict(X1_test)\n",
    "mse = sklearn.metrics.mean_squared_error(y1_test, predicted_values)\n",
    "print(\"Mean Squared Error with feature1 <-- on test set: {} \".format(mse))\n",
    "rmse = math.sqrt(mse)\n",
    "print(\"Root Mean Squared Error with feature1 <-- on test set: {} \".format(rmse))"
   ]
  },
  {
   "cell_type": "code",
   "execution_count": 33,
   "metadata": {},
   "outputs": [
    {
     "name": "stdout",
     "output_type": "stream",
     "text": [
      "Adjusted R^2 Score with feature2 <-- on test set: 0.8915852015958258\n",
      "Mean Squared Error with feature2 <-- on test set: 14.209307842947931 \n",
      "Root Mean Squared Error with feature2 <-- on test set: 3.7695235564919782 \n"
     ]
    }
   ],
   "source": [
    "R_Score_DT2 = dtree2.score(X2_test,y2_test)\n",
    "Adj_R_Score_DT2 = 1 - (1-R_Score_DT2)*(len(y2_train)-1)/(len(y2_train)-X2_train.shape[1]-1)\n",
    "print(\"Adjusted R^2 Score with feature2 <-- on test set: {}\".format(Adj_R_Score_DT2))\n",
    "\n",
    "predicted_values = dtree2.predict(X2_test)\n",
    "mse = sklearn.metrics.mean_squared_error(y2_test, predicted_values)\n",
    "print(\"Mean Squared Error with feature2 <-- on test set: {} \".format(mse))\n",
    "rmse = math.sqrt(mse)\n",
    "print(\"Root Mean Squared Error with feature2 <-- on test set: {} \".format(rmse))"
   ]
  },
  {
   "cell_type": "code",
   "execution_count": 34,
   "metadata": {},
   "outputs": [
    {
     "name": "stdout",
     "output_type": "stream",
     "text": [
      "Adjusted R^2 Score with feature3 <-- on test set: 0.8909898412371285\n",
      "Mean Squared Error with feature3 <-- on test set: 14.287338321616334 \n",
      "Root Mean Squared Error with feature3 <-- on test set: 3.7798595637425914 \n"
     ]
    }
   ],
   "source": [
    "R_Score_DT3 = dtree3.score(X3_test,y3_test)\n",
    "Adj_R_Score_DT3 = 1 - (1-R_Score_DT3)*(len(y3_train)-1)/(len(y3_train)-X3_train.shape[1]-1)\n",
    "print(\"Adjusted R^2 Score with feature3 <-- on test set: {}\".format(Adj_R_Score_DT3))\n",
    "\n",
    "predicted_values = dtree3.predict(X3_test)\n",
    "mse = sklearn.metrics.mean_squared_error(y3_test, predicted_values)\n",
    "print(\"Mean Squared Error with feature3 <-- on test set: {} \".format(mse))\n",
    "rmse = math.sqrt(mse)\n",
    "print(\"Root Mean Squared Error with feature3 <-- on test set: {} \".format(rmse))"
   ]
  },
  {
   "cell_type": "code",
   "execution_count": 35,
   "metadata": {},
   "outputs": [
    {
     "name": "stdout",
     "output_type": "stream",
     "text": [
      "Adjusted R^2 Score with feature4 <-- on test set: 0.8946185760077802\n",
      "Mean Squared Error with feature4 <-- on test set: 13.811494603522672 \n",
      "Root Mean Squared Error with feature4 <-- on test set: 3.7163819237966744 \n"
     ]
    }
   ],
   "source": [
    "R_Score_DT4 = dtree4.score(X4_test,y4_test)\n",
    "Adj_R_Score_DT4 = 1 - (1-R_Score_DT4)*(len(y4_train)-1)/(len(y4_train)-X4_train.shape[1]-1)\n",
    "print(\"Adjusted R^2 Score with feature4 <-- on test set: {}\".format(Adj_R_Score_DT4))\n",
    "\n",
    "predicted_values = dtree4.predict(X4_test)\n",
    "mse = sklearn.metrics.mean_squared_error(y4_test, predicted_values)\n",
    "print(\"Mean Squared Error with feature4 <-- on test set: {} \".format(mse))\n",
    "rmse = math.sqrt(mse)\n",
    "print(\"Root Mean Squared Error with feature4 <-- on test set: {} \".format(rmse))"
   ]
  },
  {
   "cell_type": "markdown",
   "metadata": {},
   "source": [
    "### Ridge Regression"
   ]
  },
  {
   "cell_type": "code",
   "execution_count": 36,
   "metadata": {},
   "outputs": [
    {
     "name": "stdout",
     "output_type": "stream",
     "text": [
      "Adjusted R^2 Score with feature1 <-- on test set: 0.8137434453557858\n",
      "Mean Squared Error with feature1 <-- on test set: 24.412016969076387 \n",
      "Root Mean Squared Error with feature1 <-- on test set: 4.94085184650141 \n"
     ]
    }
   ],
   "source": [
    "R_Score_RR1 = ridge1.score(X1_test,y1_test)\n",
    "Adj_R_Score_RR1 = 1 - (1-R_Score_RR1)*(len(y1_train)-1)/(len(y1_train)-X1_train.shape[1]-1)\n",
    "print(\"Adjusted R^2 Score with feature1 <-- on test set: {}\".format(Adj_R_Score_RR1))\n",
    "\n",
    "predicted_values = ridge1.predict(X1_test)\n",
    "mse = sklearn.metrics.mean_squared_error(y1_test, predicted_values)\n",
    "print(\"Mean Squared Error with feature1 <-- on test set: {} \".format(mse))\n",
    "rmse = math.sqrt(mse)\n",
    "print(\"Root Mean Squared Error with feature1 <-- on test set: {} \".format(rmse))"
   ]
  },
  {
   "cell_type": "code",
   "execution_count": 37,
   "metadata": {},
   "outputs": [
    {
     "name": "stdout",
     "output_type": "stream",
     "text": [
      "Adjusted R^2 Score with feature2 <-- on test set: 0.8735883276391865\n",
      "Mean Squared Error with feature2 <-- on test set: 16.56805522821977 \n",
      "Root Mean Squared Error with feature2 <-- on test set: 4.07038760171802 \n"
     ]
    }
   ],
   "source": [
    "R_Score_RR2 = ridge2.score(X2_test,y2_test)\n",
    "Adj_R_Score_RR2 = 1 - (1-R_Score_RR2)*(len(y2_train)-1)/(len(y2_train)-X2_train.shape[1]-1)\n",
    "print(\"Adjusted R^2 Score with feature2 <-- on test set: {}\".format(Adj_R_Score_RR2))\n",
    "\n",
    "predicted_values = ridge2.predict(X2_test)\n",
    "mse = sklearn.metrics.mean_squared_error(y2_test, predicted_values)\n",
    "print(\"Mean Squared Error with feature2 <-- on test set: {} \".format(mse))\n",
    "rmse = math.sqrt(mse)\n",
    "print(\"Root Mean Squared Error with feature2 <-- on test set: {} \".format(rmse))"
   ]
  },
  {
   "cell_type": "code",
   "execution_count": 38,
   "metadata": {},
   "outputs": [
    {
     "name": "stdout",
     "output_type": "stream",
     "text": [
      "Adjusted R^2 Score with feature3 <-- on test set: 0.8750388994747597\n",
      "Mean Squared Error with feature3 <-- on test set: 16.377937070335758 \n",
      "Root Mean Squared Error with feature3 <-- on test set: 4.046966403410801 \n"
     ]
    }
   ],
   "source": [
    "R_Score_RR3 = ridge3.score(X3_test,y3_test)\n",
    "Adj_R_Score_RR3 = 1 - (1-R_Score_RR3)*(len(y3_train)-1)/(len(y3_train)-X3_train.shape[1]-1)\n",
    "print(\"Adjusted R^2 Score with feature3 <-- on test set: {}\".format(Adj_R_Score_RR3))\n",
    "\n",
    "predicted_values = ridge3.predict(X3_test)\n",
    "mse = sklearn.metrics.mean_squared_error(y3_test, predicted_values)\n",
    "print(\"Mean Squared Error with feature3 <-- on test set: {} \".format(mse))\n",
    "rmse = math.sqrt(mse)\n",
    "print(\"Root Mean Squared Error with feature3 <-- on test set: {} \".format(rmse))"
   ]
  },
  {
   "cell_type": "code",
   "execution_count": 39,
   "metadata": {},
   "outputs": [
    {
     "name": "stdout",
     "output_type": "stream",
     "text": [
      "Adjusted R^2 Score with feature4 <-- on test set: 0.8770260183655781\n",
      "Mean Squared Error with feature4 <-- on test set: 16.117209460396992 \n",
      "Root Mean Squared Error with feature4 <-- on test set: 4.014624448238838 \n"
     ]
    }
   ],
   "source": [
    "R_Score_RR4 = ridge4.score(X4_test,y4_test)\n",
    "Adj_R_Score_RR4 = 1 - (1-R_Score_RR4)*(len(y4_train)-1)/(len(y4_train)-X4_train.shape[1]-1)\n",
    "print(\"Adjusted R^2 Score with feature4 <-- on test set: {}\".format(Adj_R_Score_RR4))\n",
    "\n",
    "predicted_values = ridge4.predict(X4_test)\n",
    "mse = sklearn.metrics.mean_squared_error(y4_test, predicted_values)\n",
    "print(\"Mean Squared Error with feature4 <-- on test set: {} \".format(mse))\n",
    "rmse = math.sqrt(mse)\n",
    "print(\"Root Mean Squared Error with feature4 <-- on test set: {} \".format(rmse))"
   ]
  },
  {
   "cell_type": "markdown",
   "metadata": {},
   "source": [
    "### Lasso Regression"
   ]
  },
  {
   "cell_type": "code",
   "execution_count": 40,
   "metadata": {},
   "outputs": [
    {
     "name": "stdout",
     "output_type": "stream",
     "text": [
      "Adjusted R^2 Score with feature1 <-- on test set: 0.8055512559888628\n",
      "Mean Squared Error with feature1 <-- on test set: 25.485739535357222 \n",
      "Root Mean Squared Error with feature1 <-- on test set: 5.048340275313979 \n"
     ]
    }
   ],
   "source": [
    "R_Score_La1 = lasso1.score(X1_test,y1_test)\n",
    "Adj_R_Score_La1 = 1 - (1-R_Score_La1)*(len(y1_train)-1)/(len(y1_train)-X1_train.shape[1]-1)\n",
    "print(\"Adjusted R^2 Score with feature1 <-- on test set: {}\".format(Adj_R_Score_La1))\n",
    "\n",
    "predicted_values = lasso1.predict(X1_test)\n",
    "mse = sklearn.metrics.mean_squared_error(y1_test, predicted_values)\n",
    "print(\"Mean Squared Error with feature1 <-- on test set: {} \".format(mse))\n",
    "rmse = math.sqrt(mse)\n",
    "print(\"Root Mean Squared Error with feature1 <-- on test set: {} \".format(rmse))"
   ]
  },
  {
   "cell_type": "code",
   "execution_count": 41,
   "metadata": {},
   "outputs": [
    {
     "name": "stdout",
     "output_type": "stream",
     "text": [
      "Adjusted R^2 Score with feature2 <-- on test set: 0.859027300176185\n",
      "Mean Squared Error with feature2 <-- on test set: 18.47648585555968 \n",
      "Root Mean Squared Error with feature2 <-- on test set: 4.29842830061869 \n"
     ]
    }
   ],
   "source": [
    "R_Score_La2 = lasso2.score(X2_test,y2_test)\n",
    "Adj_R_Score_La2 = 1 - (1-R_Score_La2)*(len(y2_train)-1)/(len(y2_train)-X2_train.shape[1]-1)\n",
    "print(\"Adjusted R^2 Score with feature2 <-- on test set: {}\".format(Adj_R_Score_La2))\n",
    "\n",
    "predicted_values = lasso2.predict(X2_test)\n",
    "mse = sklearn.metrics.mean_squared_error(y2_test, predicted_values)\n",
    "print(\"Mean Squared Error with feature2 <-- on test set: {} \".format(mse))\n",
    "rmse = math.sqrt(mse)\n",
    "print(\"Root Mean Squared Error with feature2 <-- on test set: {} \".format(rmse))"
   ]
  },
  {
   "cell_type": "code",
   "execution_count": 42,
   "metadata": {},
   "outputs": [
    {
     "name": "stdout",
     "output_type": "stream",
     "text": [
      "Adjusted R^2 Score with feature3 <-- on test set: 0.8650824860032523\n",
      "Mean Squared Error with feature3 <-- on test set: 17.68286726538995 \n",
      "Root Mean Squared Error with feature3 <-- on test set: 4.205100149269926 \n"
     ]
    }
   ],
   "source": [
    "R_Score_La3 = lasso3.score(X3_test,y3_test)\n",
    "Adj_R_Score_La3 = 1 - (1-R_Score_La3)*(len(y3_train)-1)/(len(y3_train)-X3_train.shape[1]-1)\n",
    "print(\"Adjusted R^2 Score with feature3 <-- on test set: {}\".format(Adj_R_Score_La3))\n",
    "\n",
    "predicted_values = lasso3.predict(X3_test)\n",
    "mse = sklearn.metrics.mean_squared_error(y3_test, predicted_values)\n",
    "print(\"Mean Squared Error with feature3 <-- on test set: {} \".format(mse))\n",
    "rmse = math.sqrt(mse)\n",
    "print(\"Root Mean Squared Error with feature3 <-- on test set: {} \".format(rmse))"
   ]
  },
  {
   "cell_type": "code",
   "execution_count": 43,
   "metadata": {},
   "outputs": [
    {
     "name": "stdout",
     "output_type": "stream",
     "text": [
      "Adjusted R^2 Score with feature4 <-- on test set: 0.8654966216094534\n",
      "Mean Squared Error with feature4 <-- on test set: 17.62827464671339 \n",
      "Root Mean Squared Error with feature4 <-- on test set: 4.198603892571123 \n"
     ]
    }
   ],
   "source": [
    "R_Score_La4 = lasso4.score(X4_test,y4_test)\n",
    "Adj_R_Score_La4 = 1 - (1-R_Score_La4)*(len(y4_train)-1)/(len(y4_train)-X4_train.shape[1]-1)\n",
    "print(\"Adjusted R^2 Score with feature4 <-- on test set: {}\".format(Adj_R_Score_La4))\n",
    "\n",
    "predicted_values = lasso4.predict(X4_test)\n",
    "mse = sklearn.metrics.mean_squared_error(y4_test, predicted_values)\n",
    "print(\"Mean Squared Error with feature4 <-- on test set: {} \".format(mse))\n",
    "rmse = math.sqrt(mse)\n",
    "print(\"Root Mean Squared Error with feature4 <-- on test set: {} \".format(rmse))"
   ]
  },
  {
   "cell_type": "markdown",
   "metadata": {},
   "source": [
    "### ElastiNet Regression"
   ]
  },
  {
   "cell_type": "code",
   "execution_count": 44,
   "metadata": {},
   "outputs": [
    {
     "name": "stdout",
     "output_type": "stream",
     "text": [
      "Adjusted R^2 Score with feature1 <-- on test set: 0.8035753381142305\n",
      "Mean Squared Error with feature1 <-- on test set: 25.74471641151153 \n",
      "Root Mean Squared Error with feature1 <-- on test set: 5.073925148394636 \n"
     ]
    }
   ],
   "source": [
    "R_Score_EN1 = enet1.score(X1_test,y1_test)\n",
    "Adj_R_Score_EN1 = 1 - (1-R_Score_EN1)*(len(y1_train)-1)/(len(y1_train)-X1_train.shape[1]-1)\n",
    "print(\"Adjusted R^2 Score with feature1 <-- on test set: {}\".format(Adj_R_Score_EN1))\n",
    "\n",
    "predicted_values = enet1.predict(X1_test)\n",
    "mse = sklearn.metrics.mean_squared_error(y1_test, predicted_values)\n",
    "print(\"Mean Squared Error with feature1 <-- on test set: {} \".format(mse))\n",
    "rmse = math.sqrt(mse)\n",
    "print(\"Root Mean Squared Error with feature1 <-- on test set: {} \".format(rmse))"
   ]
  },
  {
   "cell_type": "code",
   "execution_count": 45,
   "metadata": {},
   "outputs": [
    {
     "name": "stdout",
     "output_type": "stream",
     "text": [
      "Adjusted R^2 Score with feature2 <-- on test set: 0.8625659319767347\n",
      "Mean Squared Error with feature2 <-- on test set: 18.012697615052108 \n",
      "Root Mean Squared Error with feature2 <-- on test set: 4.244136851593279 \n"
     ]
    }
   ],
   "source": [
    "R_Score_EN2 = enet2.score(X2_test,y2_test)\n",
    "Adj_R_Score_EN2 = 1 - (1-R_Score_EN2)*(len(y2_train)-1)/(len(y2_train)-X2_train.shape[1]-1)\n",
    "print(\"Adjusted R^2 Score with feature2 <-- on test set: {}\".format(Adj_R_Score_EN2))\n",
    "\n",
    "predicted_values = enet2.predict(X2_test)\n",
    "mse = sklearn.metrics.mean_squared_error(y2_test, predicted_values)\n",
    "print(\"Mean Squared Error with feature2 <-- on test set: {} \".format(mse))\n",
    "rmse = math.sqrt(mse)\n",
    "print(\"Root Mean Squared Error with feature2 <-- on test set: {} \".format(rmse))\n"
   ]
  },
  {
   "cell_type": "code",
   "execution_count": 46,
   "metadata": {},
   "outputs": [
    {
     "name": "stdout",
     "output_type": "stream",
     "text": [
      "Adjusted R^2 Score with feature3 <-- on test set: 0.8691665710183645\n",
      "Mean Squared Error with feature3 <-- on test set: 17.14758959028741 \n",
      "Root Mean Squared Error with feature3 <-- on test set: 4.140964813939791 \n"
     ]
    }
   ],
   "source": [
    "R_Score_EN3 = enet3.score(X3_test,y3_test)\n",
    "Adj_R_Score_EN3 = 1 - (1-R_Score_EN3)*(len(y3_train)-1)/(len(y3_train)-X3_train.shape[1]-1)\n",
    "print(\"Adjusted R^2 Score with feature3 <-- on test set: {}\".format(Adj_R_Score_EN3))\n",
    "\n",
    "predicted_values = enet3.predict(X3_test)\n",
    "mse = sklearn.metrics.mean_squared_error(y3_test, predicted_values)\n",
    "print(\"Mean Squared Error with feature3 <-- on test set: {} \".format(mse))\n",
    "rmse = math.sqrt(mse)\n",
    "print(\"Root Mean Squared Error with feature3 <-- on test set: {} \".format(rmse))\n"
   ]
  },
  {
   "cell_type": "code",
   "execution_count": 47,
   "metadata": {},
   "outputs": [
    {
     "name": "stdout",
     "output_type": "stream",
     "text": [
      "Adjusted R^2 Score with feature4 <-- on test set: 0.8696995374077674\n",
      "Mean Squared Error with feature1 <-- on test set: 17.077432319210207 \n",
      "Root Mean Squared Error with feature1 <-- on test set: 4.132485005321883 \n"
     ]
    }
   ],
   "source": [
    "R_Score_EN4 = enet4.score(X4_test,y4_test)\n",
    "Adj_R_Score_EN4 = 1 - (1-R_Score_EN4)*(len(y4_train)-1)/(len(y4_train)-X4_train.shape[1]-1)\n",
    "print(\"Adjusted R^2 Score with feature4 <-- on test set: {}\".format(Adj_R_Score_EN4))\n",
    "\n",
    "predicted_values = enet4.predict(X4_test)\n",
    "mse = sklearn.metrics.mean_squared_error(y4_test, predicted_values)\n",
    "print(\"Mean Squared Error with feature1 <-- on test set: {} \".format(mse))\n",
    "rmse = math.sqrt(mse)\n",
    "print(\"Root Mean Squared Error with feature1 <-- on test set: {} \".format(rmse))"
   ]
  },
  {
   "cell_type": "code",
   "execution_count": null,
   "metadata": {},
   "outputs": [],
   "source": []
  }
 ],
 "metadata": {
  "kernelspec": {
   "display_name": "Python 3",
   "language": "python",
   "name": "python3"
  },
  "language_info": {
   "codemirror_mode": {
    "name": "ipython",
    "version": 3
   },
   "file_extension": ".py",
   "mimetype": "text/x-python",
   "name": "python",
   "nbconvert_exporter": "python",
   "pygments_lexer": "ipython3",
   "version": "3.8.5"
  }
 },
 "nbformat": 4,
 "nbformat_minor": 4
}
