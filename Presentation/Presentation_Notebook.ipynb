{
 "cells": [
  {
   "cell_type": "markdown",
   "metadata": {},
   "source": [
    "# Introduction"
   ]
  },
  {
   "cell_type": "markdown",
   "metadata": {},
   "source": [
    "Hello, I am Akshar Solanki and I am very excited to be here. I would like to thank all of you for giving me an opportunity to present my project. I am very passionate about Data Analytics and love to find insights from data. I generally follow a structured and statistical approach to solving problems. I came across this dataset when I had enrolled in Pattern Recognition Data Mining course at Santa Clara University. After identifying the problem statement, I always create a process flowchart that explains my approach in brief. "
   ]
  },
  {
   "cell_type": "markdown",
   "metadata": {},
   "source": [
    "## Problem Statement"
   ]
  },
  {
   "cell_type": "markdown",
   "metadata": {},
   "source": [
    "Air pollution refers to the release of pollutants into the air that are\n",
    "detrimental to human health and the planet as a whole. It has been proven through\n",
    "studies that air pollution directly affects the temperature of a location. Energy production\n",
    "and transportation are one of the major causes of air pollution. The burning of fossil\n",
    "fuels leads to release of various harmful and hazardous chemicals into the atmosphere.\n",
    "These chemicals along with pressure, wind, altitude and oceanic movement affect the\n",
    "temperature of a specific location. The main aim of this project is to analyze the relation between\n",
    "temperature and concentration of some of these pollutants in the\n",
    "atmosphere. Moreover, this project also emphasizes on the importance of Feature Creation in Data Mining.\n",
    "\n",
    "##### Objective\n",
    "The main objective of this project is to analyze whether concentration of pollutants in the atmosphere has an effect on the temperature and whether this data can be used to predict the temperature."
   ]
  },
  {
   "cell_type": "markdown",
   "metadata": {},
   "source": [
    "## Data"
   ]
  },
  {
   "cell_type": "markdown",
   "metadata": {},
   "source": [
    "The Data was downloaded from the UCI Repository for Machine Learning. It is one of the best places to source real-world datasets. This data set includes hourly air pollutants data from 12 nationally-controlled air-quality monitoring sites. The air-quality data are from the Beijing Municipal Environmental Monitoring Center. The time period is from March 1st, 2013 to February 28th, 2017. Missing data are denoted as NA. "
   ]
  },
  {
   "cell_type": "markdown",
   "metadata": {},
   "source": [
    "Source - https://archive.ics.uci.edu/ml/datasets/Beijing+Multi-Site+Air-Quality+Data#\n",
    "\n",
    "Since data was sourced from 12 different monitoring stations, the data was categorized into 12 different .csv files. Each of the .csv files had the following data attributes/columns:\n",
    "\n",
    "1. No - Row Number\n",
    "2. Year - year of measurement\n",
    "3. Month - month of measurement\n",
    "4. Day - day of measurement\n",
    "5. Hour - hour of measurement\n",
    "6. PM2.5 - concentration of PM2.5 (μg/m3)\n",
    "7. PM10 - concentration of PM10 (μg/m3)\n",
    "8. SO2 - concentration of SO2 (μg/m3)\n",
    "9. NO2 - concentration NO2 (μg/m3)\n",
    "10. CO - concentration of CO (μg/m3)\n",
    "11. O3 - concentration of O3 (μg/m3)\n",
    "12. TEMP - temperature (degree Celsius)\n",
    "13. PRES - pressure (hPa)\n",
    "14. DEWP - dew point temperature (degree Celsius)\n",
    "15. RAIN - precipitation (mm)\n",
    "16. Wd - wind direction\n",
    "17. WSPM - wind speed (m/s)\n",
    "18. Station - name of the city/air-quality monitoring site\n",
    "\n",
    "Size of the Dataset:\n",
    "1. Number of attributes (columns) = 18\n",
    "2. Number of data samples (rows) / monitoring station = 35064\n",
    "3. Number of Regions: 12\n",
    "\n",
    "Total Instances = 18 * 35064 * 12 = 7,573,824\n",
    "\n",
    "###### After understanding the types of attributes better, I was able to create a process flowchart as follows: "
   ]
  },
  {
   "cell_type": "markdown",
   "metadata": {},
   "source": [
    "![Process Flowchart](flowchart.png)"
   ]
  },
  {
   "cell_type": "markdown",
   "metadata": {},
   "source": [
    "## Preprocess Data"
   ]
  },
  {
   "cell_type": "markdown",
   "metadata": {},
   "source": [
    "Importing the required Python Libraries"
   ]
  },
  {
   "cell_type": "code",
   "execution_count": 1,
   "metadata": {},
   "outputs": [],
   "source": [
    "import pandas as pd\n",
    "import numpy as np\n",
    "import random\n",
    "from sklearn import preprocessing"
   ]
  },
  {
   "cell_type": "markdown",
   "metadata": {},
   "source": [
    "Importing data of the .csv files into different Pandas DataFrames. Appending the DataFrames into one huge DataFrame."
   ]
  },
  {
   "cell_type": "code",
   "execution_count": 2,
   "metadata": {},
   "outputs": [],
   "source": [
    "data1 = pd.read_csv('..//Data//Original Data//PRSA_Data_Aotizhongxin_20130301-20170228.csv')\n",
    "data2 = pd.read_csv('..//Data//Original Data//PRSA_Data_Changping_20130301-20170228.csv')\n",
    "data3 = pd.read_csv('..//Data//Original Data//PRSA_Data_Dingling_20130301-20170228.csv')\n",
    "data4 = pd.read_csv('..//Data//Original Data//PRSA_Data_Dongsi_20130301-20170228.csv')\n",
    "data5 = pd.read_csv('..//Data//Original Data//PRSA_Data_Guanyuan_20130301-20170228.csv')\n",
    "data6 = pd.read_csv('..//Data//Original Data//PRSA_Data_Gucheng_20130301-20170228.csv')\n",
    "data7 = pd.read_csv('..//Data//Original Data//PRSA_Data_Huairou_20130301-20170228.csv')\n",
    "data8 = pd.read_csv('..//Data//Original Data//PRSA_Data_Nongzhanguan_20130301-20170228.csv')\n",
    "data9 = pd.read_csv('..//Data//Original Data//PRSA_Data_Shunyi_20130301-20170228.csv')\n",
    "data10 = pd.read_csv('..//Data//Original Data//PRSA_Data_Tiantan_20130301-20170228.csv')\n",
    "data11 = pd.read_csv('..//Data//Original Data//PRSA_Data_Wanliu_20130301-20170228.csv')\n",
    "data12 = pd.read_csv('..//Data//Original Data//PRSA_Data_Wanshouxigong_20130301-20170228.csv')"
   ]
  },
  {
   "cell_type": "code",
   "execution_count": 3,
   "metadata": {},
   "outputs": [],
   "source": [
    "data = data1.append(data2) #Appending the data into a single dataframe\n",
    "data = data.append(data3) \n",
    "data = data.append(data4)\n",
    "data = data.append(data5)\n",
    "data = data.append(data6)\n",
    "data = data.append(data7)\n",
    "data = data.append(data8)\n",
    "data = data.append(data9)\n",
    "data = data.append(data10)\n",
    "data = data.append(data11)\n",
    "data = data.append(data12)\n",
    "data = data.drop(['No'], axis = 1)"
   ]
  },
  {
   "cell_type": "markdown",
   "metadata": {},
   "source": [
    "Displaying the first five rows of the Pandas DataFrame and Finding if it has Null/NA values."
   ]
  },
  {
   "cell_type": "code",
   "execution_count": 4,
   "metadata": {},
   "outputs": [
    {
     "data": {
      "text/html": [
       "<div>\n",
       "<style scoped>\n",
       "    .dataframe tbody tr th:only-of-type {\n",
       "        vertical-align: middle;\n",
       "    }\n",
       "\n",
       "    .dataframe tbody tr th {\n",
       "        vertical-align: top;\n",
       "    }\n",
       "\n",
       "    .dataframe thead th {\n",
       "        text-align: right;\n",
       "    }\n",
       "</style>\n",
       "<table border=\"1\" class=\"dataframe\">\n",
       "  <thead>\n",
       "    <tr style=\"text-align: right;\">\n",
       "      <th></th>\n",
       "      <th>year</th>\n",
       "      <th>month</th>\n",
       "      <th>day</th>\n",
       "      <th>hour</th>\n",
       "      <th>PM2.5</th>\n",
       "      <th>PM10</th>\n",
       "      <th>SO2</th>\n",
       "      <th>NO2</th>\n",
       "      <th>CO</th>\n",
       "      <th>O3</th>\n",
       "      <th>TEMP</th>\n",
       "      <th>PRES</th>\n",
       "      <th>DEWP</th>\n",
       "      <th>RAIN</th>\n",
       "      <th>wd</th>\n",
       "      <th>WSPM</th>\n",
       "      <th>station</th>\n",
       "    </tr>\n",
       "  </thead>\n",
       "  <tbody>\n",
       "    <tr>\n",
       "      <th>0</th>\n",
       "      <td>2013</td>\n",
       "      <td>3</td>\n",
       "      <td>1</td>\n",
       "      <td>0</td>\n",
       "      <td>4.0</td>\n",
       "      <td>4.0</td>\n",
       "      <td>4.0</td>\n",
       "      <td>7.0</td>\n",
       "      <td>300.0</td>\n",
       "      <td>77.0</td>\n",
       "      <td>-0.7</td>\n",
       "      <td>1023.0</td>\n",
       "      <td>-18.8</td>\n",
       "      <td>0.0</td>\n",
       "      <td>NNW</td>\n",
       "      <td>4.4</td>\n",
       "      <td>Aotizhongxin</td>\n",
       "    </tr>\n",
       "    <tr>\n",
       "      <th>1</th>\n",
       "      <td>2013</td>\n",
       "      <td>3</td>\n",
       "      <td>1</td>\n",
       "      <td>1</td>\n",
       "      <td>8.0</td>\n",
       "      <td>8.0</td>\n",
       "      <td>4.0</td>\n",
       "      <td>7.0</td>\n",
       "      <td>300.0</td>\n",
       "      <td>77.0</td>\n",
       "      <td>-1.1</td>\n",
       "      <td>1023.2</td>\n",
       "      <td>-18.2</td>\n",
       "      <td>0.0</td>\n",
       "      <td>N</td>\n",
       "      <td>4.7</td>\n",
       "      <td>Aotizhongxin</td>\n",
       "    </tr>\n",
       "    <tr>\n",
       "      <th>2</th>\n",
       "      <td>2013</td>\n",
       "      <td>3</td>\n",
       "      <td>1</td>\n",
       "      <td>2</td>\n",
       "      <td>7.0</td>\n",
       "      <td>7.0</td>\n",
       "      <td>5.0</td>\n",
       "      <td>10.0</td>\n",
       "      <td>300.0</td>\n",
       "      <td>73.0</td>\n",
       "      <td>-1.1</td>\n",
       "      <td>1023.5</td>\n",
       "      <td>-18.2</td>\n",
       "      <td>0.0</td>\n",
       "      <td>NNW</td>\n",
       "      <td>5.6</td>\n",
       "      <td>Aotizhongxin</td>\n",
       "    </tr>\n",
       "    <tr>\n",
       "      <th>3</th>\n",
       "      <td>2013</td>\n",
       "      <td>3</td>\n",
       "      <td>1</td>\n",
       "      <td>3</td>\n",
       "      <td>6.0</td>\n",
       "      <td>6.0</td>\n",
       "      <td>11.0</td>\n",
       "      <td>11.0</td>\n",
       "      <td>300.0</td>\n",
       "      <td>72.0</td>\n",
       "      <td>-1.4</td>\n",
       "      <td>1024.5</td>\n",
       "      <td>-19.4</td>\n",
       "      <td>0.0</td>\n",
       "      <td>NW</td>\n",
       "      <td>3.1</td>\n",
       "      <td>Aotizhongxin</td>\n",
       "    </tr>\n",
       "    <tr>\n",
       "      <th>4</th>\n",
       "      <td>2013</td>\n",
       "      <td>3</td>\n",
       "      <td>1</td>\n",
       "      <td>4</td>\n",
       "      <td>3.0</td>\n",
       "      <td>3.0</td>\n",
       "      <td>12.0</td>\n",
       "      <td>12.0</td>\n",
       "      <td>300.0</td>\n",
       "      <td>72.0</td>\n",
       "      <td>-2.0</td>\n",
       "      <td>1025.2</td>\n",
       "      <td>-19.5</td>\n",
       "      <td>0.0</td>\n",
       "      <td>N</td>\n",
       "      <td>2.0</td>\n",
       "      <td>Aotizhongxin</td>\n",
       "    </tr>\n",
       "  </tbody>\n",
       "</table>\n",
       "</div>"
      ],
      "text/plain": [
       "   year  month  day  hour  PM2.5  PM10   SO2   NO2     CO    O3  TEMP    PRES  \\\n",
       "0  2013      3    1     0    4.0   4.0   4.0   7.0  300.0  77.0  -0.7  1023.0   \n",
       "1  2013      3    1     1    8.0   8.0   4.0   7.0  300.0  77.0  -1.1  1023.2   \n",
       "2  2013      3    1     2    7.0   7.0   5.0  10.0  300.0  73.0  -1.1  1023.5   \n",
       "3  2013      3    1     3    6.0   6.0  11.0  11.0  300.0  72.0  -1.4  1024.5   \n",
       "4  2013      3    1     4    3.0   3.0  12.0  12.0  300.0  72.0  -2.0  1025.2   \n",
       "\n",
       "   DEWP  RAIN   wd  WSPM       station  \n",
       "0 -18.8   0.0  NNW   4.4  Aotizhongxin  \n",
       "1 -18.2   0.0    N   4.7  Aotizhongxin  \n",
       "2 -18.2   0.0  NNW   5.6  Aotizhongxin  \n",
       "3 -19.4   0.0   NW   3.1  Aotizhongxin  \n",
       "4 -19.5   0.0    N   2.0  Aotizhongxin  "
      ]
     },
     "execution_count": 4,
     "metadata": {},
     "output_type": "execute_result"
    }
   ],
   "source": [
    "data.head()"
   ]
  },
  {
   "cell_type": "code",
   "execution_count": 5,
   "metadata": {},
   "outputs": [
    {
     "data": {
      "text/plain": [
       "year           0\n",
       "month          0\n",
       "day            0\n",
       "hour           0\n",
       "PM2.5       8739\n",
       "PM10        6449\n",
       "SO2         9021\n",
       "NO2        12116\n",
       "CO         20701\n",
       "O3         13277\n",
       "TEMP         398\n",
       "PRES         393\n",
       "DEWP         403\n",
       "RAIN         390\n",
       "wd          1822\n",
       "WSPM         318\n",
       "station        0\n",
       "dtype: int64"
      ]
     },
     "execution_count": 5,
     "metadata": {},
     "output_type": "execute_result"
    }
   ],
   "source": [
    "data.isna().sum()"
   ]
  },
  {
   "cell_type": "markdown",
   "metadata": {},
   "source": [
    "Replacing the values with the mean of the attributes"
   ]
  },
  {
   "cell_type": "code",
   "execution_count": 6,
   "metadata": {},
   "outputs": [],
   "source": [
    "columns = ['PM2.5','PM10','SO2','NO2','CO','O3','TEMP','PRES','DEWP','RAIN','WSPM']\n",
    "\n",
    "def replace_NaN(x):\n",
    "    data[x].fillna((data[x].mean()), inplace=True) \n",
    "\n",
    "for x in columns:\n",
    "    replace_NaN(x)"
   ]
  },
  {
   "cell_type": "code",
   "execution_count": 7,
   "metadata": {},
   "outputs": [
    {
     "data": {
      "text/plain": [
       "year          0\n",
       "month         0\n",
       "day           0\n",
       "hour          0\n",
       "PM2.5         0\n",
       "PM10          0\n",
       "SO2           0\n",
       "NO2           0\n",
       "CO            0\n",
       "O3            0\n",
       "TEMP          0\n",
       "PRES          0\n",
       "DEWP          0\n",
       "RAIN          0\n",
       "wd         1822\n",
       "WSPM          0\n",
       "station       0\n",
       "dtype: int64"
      ]
     },
     "execution_count": 7,
     "metadata": {},
     "output_type": "execute_result"
    }
   ],
   "source": [
    "data.isna().sum()"
   ]
  },
  {
   "cell_type": "markdown",
   "metadata": {},
   "source": [
    "Now the only NA / NULL values are that of Wind Direction. Since the column is a string type, I need to convert it to a type of which I can take an average"
   ]
  },
  {
   "cell_type": "markdown",
   "metadata": {},
   "source": [
    "Therefore, there are 16 directions given in the data. These categories are as follows: \n",
    "\n",
    "1. 'N' : North\n",
    "2. 'S': South\n",
    "3. 'W' : West\n",
    "4. 'E' : East\n",
    "5. 'NE' : North-East\n",
    "6. 'SE': South-East\n",
    "7. 'SW' : South-West\n",
    "8. 'NW' : North-West\n",
    "9. 'NNE' : North of North-East\n",
    "10. 'NNW' : North of North-West\n",
    "11. 'ENE': East of North-East\n",
    "12. 'ESE' : East of South-East\n",
    "13. 'SSE' : South of South-East\n",
    "14. 'SSW' : South of South-West\n",
    "15. 'WSW' : West of South-West\n",
    "16. 'WNW' : West of North-West\n"
   ]
  },
  {
   "cell_type": "code",
   "execution_count": 10,
   "metadata": {},
   "outputs": [
    {
     "name": "stderr",
     "output_type": "stream",
     "text": [
      "C:\\Users\\dsola\\anaconda3\\lib\\site-packages\\pandas\\core\\indexing.py:670: SettingWithCopyWarning: \n",
      "A value is trying to be set on a copy of a slice from a DataFrame\n",
      "\n",
      "See the caveats in the documentation: https://pandas.pydata.org/pandas-docs/stable/user_guide/indexing.html#returning-a-view-versus-a-copy\n",
      "  iloc._setitem_with_indexer(indexer, value)\n"
     ]
    }
   ],
   "source": [
    "Dictionary = {\n",
    "    'N' : random.uniform(348.75, 360) or random.uniform(0,11.25), \n",
    "    'NNE' : random.uniform(11.25,33.75),\n",
    "    'NE' : random.uniform(33.75,56.25),\n",
    "    'ENE': random.uniform(56.25,78.75),\n",
    "    'E' : random.uniform(78.75,101.25), \n",
    "    'ESE' : random.uniform(101.25,123.75), \n",
    "    'SE': random.uniform(123.75,146.25),\n",
    "    'SSE' : random.uniform(146.25,168.75), \n",
    "    'S': random.uniform(168.75,191.25), \n",
    "    'SSW' : random.uniform(191.25,213.75), \n",
    "    'SW' : random.uniform(213.75,236.25),\n",
    "    'WSW' : random.uniform(236.25,258.75),\n",
    "    'W' : random.uniform(258.75,281.25), \n",
    "    'WNW' : random.uniform(281.25,303.75), \n",
    "    'NW' : random.uniform(303.75,326.25),\n",
    "    'NNW' : random.uniform(326.25,348.75)\n",
    "             }\n",
    "for i in range(len(data)):\n",
    "    if data['wd'].iloc[i] in Dictionary.keys():\n",
    "        data['wd'].iloc[i] = Dictionary[data['wd'].iloc[i]]\n",
    "    else:\n",
    "        continue\n",
    "\n",
    "\n",
    "# data = convert_wind_direction(data)"
   ]
  },
  {
   "cell_type": "code",
   "execution_count": 11,
   "metadata": {},
   "outputs": [
    {
     "data": {
      "text/html": [
       "<div>\n",
       "<style scoped>\n",
       "    .dataframe tbody tr th:only-of-type {\n",
       "        vertical-align: middle;\n",
       "    }\n",
       "\n",
       "    .dataframe tbody tr th {\n",
       "        vertical-align: top;\n",
       "    }\n",
       "\n",
       "    .dataframe thead th {\n",
       "        text-align: right;\n",
       "    }\n",
       "</style>\n",
       "<table border=\"1\" class=\"dataframe\">\n",
       "  <thead>\n",
       "    <tr style=\"text-align: right;\">\n",
       "      <th></th>\n",
       "      <th>year</th>\n",
       "      <th>month</th>\n",
       "      <th>day</th>\n",
       "      <th>hour</th>\n",
       "      <th>PM2.5</th>\n",
       "      <th>PM10</th>\n",
       "      <th>SO2</th>\n",
       "      <th>NO2</th>\n",
       "      <th>CO</th>\n",
       "      <th>O3</th>\n",
       "      <th>TEMP</th>\n",
       "      <th>PRES</th>\n",
       "      <th>DEWP</th>\n",
       "      <th>RAIN</th>\n",
       "      <th>wd</th>\n",
       "      <th>WSPM</th>\n",
       "      <th>station</th>\n",
       "    </tr>\n",
       "  </thead>\n",
       "  <tbody>\n",
       "    <tr>\n",
       "      <th>0</th>\n",
       "      <td>2013</td>\n",
       "      <td>3</td>\n",
       "      <td>1</td>\n",
       "      <td>0</td>\n",
       "      <td>4.0</td>\n",
       "      <td>4.0</td>\n",
       "      <td>4.0</td>\n",
       "      <td>7.0</td>\n",
       "      <td>300.0</td>\n",
       "      <td>77.0</td>\n",
       "      <td>-0.7</td>\n",
       "      <td>1023.0</td>\n",
       "      <td>-18.8</td>\n",
       "      <td>0.0</td>\n",
       "      <td>338.078</td>\n",
       "      <td>4.4</td>\n",
       "      <td>Aotizhongxin</td>\n",
       "    </tr>\n",
       "    <tr>\n",
       "      <th>1</th>\n",
       "      <td>2013</td>\n",
       "      <td>3</td>\n",
       "      <td>1</td>\n",
       "      <td>1</td>\n",
       "      <td>8.0</td>\n",
       "      <td>8.0</td>\n",
       "      <td>4.0</td>\n",
       "      <td>7.0</td>\n",
       "      <td>300.0</td>\n",
       "      <td>77.0</td>\n",
       "      <td>-1.1</td>\n",
       "      <td>1023.2</td>\n",
       "      <td>-18.2</td>\n",
       "      <td>0.0</td>\n",
       "      <td>353.564</td>\n",
       "      <td>4.7</td>\n",
       "      <td>Aotizhongxin</td>\n",
       "    </tr>\n",
       "    <tr>\n",
       "      <th>2</th>\n",
       "      <td>2013</td>\n",
       "      <td>3</td>\n",
       "      <td>1</td>\n",
       "      <td>2</td>\n",
       "      <td>7.0</td>\n",
       "      <td>7.0</td>\n",
       "      <td>5.0</td>\n",
       "      <td>10.0</td>\n",
       "      <td>300.0</td>\n",
       "      <td>73.0</td>\n",
       "      <td>-1.1</td>\n",
       "      <td>1023.5</td>\n",
       "      <td>-18.2</td>\n",
       "      <td>0.0</td>\n",
       "      <td>326.919</td>\n",
       "      <td>5.6</td>\n",
       "      <td>Aotizhongxin</td>\n",
       "    </tr>\n",
       "    <tr>\n",
       "      <th>3</th>\n",
       "      <td>2013</td>\n",
       "      <td>3</td>\n",
       "      <td>1</td>\n",
       "      <td>3</td>\n",
       "      <td>6.0</td>\n",
       "      <td>6.0</td>\n",
       "      <td>11.0</td>\n",
       "      <td>11.0</td>\n",
       "      <td>300.0</td>\n",
       "      <td>72.0</td>\n",
       "      <td>-1.4</td>\n",
       "      <td>1024.5</td>\n",
       "      <td>-19.4</td>\n",
       "      <td>0.0</td>\n",
       "      <td>325.644</td>\n",
       "      <td>3.1</td>\n",
       "      <td>Aotizhongxin</td>\n",
       "    </tr>\n",
       "    <tr>\n",
       "      <th>4</th>\n",
       "      <td>2013</td>\n",
       "      <td>3</td>\n",
       "      <td>1</td>\n",
       "      <td>4</td>\n",
       "      <td>3.0</td>\n",
       "      <td>3.0</td>\n",
       "      <td>12.0</td>\n",
       "      <td>12.0</td>\n",
       "      <td>300.0</td>\n",
       "      <td>72.0</td>\n",
       "      <td>-2.0</td>\n",
       "      <td>1025.2</td>\n",
       "      <td>-19.5</td>\n",
       "      <td>0.0</td>\n",
       "      <td>353.564</td>\n",
       "      <td>2.0</td>\n",
       "      <td>Aotizhongxin</td>\n",
       "    </tr>\n",
       "  </tbody>\n",
       "</table>\n",
       "</div>"
      ],
      "text/plain": [
       "   year  month  day  hour  PM2.5  PM10   SO2   NO2     CO    O3  TEMP    PRES  \\\n",
       "0  2013      3    1     0    4.0   4.0   4.0   7.0  300.0  77.0  -0.7  1023.0   \n",
       "1  2013      3    1     1    8.0   8.0   4.0   7.0  300.0  77.0  -1.1  1023.2   \n",
       "2  2013      3    1     2    7.0   7.0   5.0  10.0  300.0  73.0  -1.1  1023.5   \n",
       "3  2013      3    1     3    6.0   6.0  11.0  11.0  300.0  72.0  -1.4  1024.5   \n",
       "4  2013      3    1     4    3.0   3.0  12.0  12.0  300.0  72.0  -2.0  1025.2   \n",
       "\n",
       "   DEWP  RAIN       wd  WSPM       station  \n",
       "0 -18.8   0.0  338.078   4.4  Aotizhongxin  \n",
       "1 -18.2   0.0  353.564   4.7  Aotizhongxin  \n",
       "2 -18.2   0.0  326.919   5.6  Aotizhongxin  \n",
       "3 -19.4   0.0  325.644   3.1  Aotizhongxin  \n",
       "4 -19.5   0.0  353.564   2.0  Aotizhongxin  "
      ]
     },
     "execution_count": 11,
     "metadata": {},
     "output_type": "execute_result"
    }
   ],
   "source": [
    "data.head()"
   ]
  },
  {
   "cell_type": "markdown",
   "metadata": {},
   "source": [
    "Replacing NaN values with average of Wind Direction\n"
   ]
  },
  {
   "cell_type": "code",
   "execution_count": 12,
   "metadata": {},
   "outputs": [],
   "source": [
    "replace_NaN('wd')"
   ]
  },
  {
   "cell_type": "markdown",
   "metadata": {},
   "source": [
    "Now Describing various statistical values of the data attributes. Confirmed the Data Integrity of the data attributes."
   ]
  },
  {
   "cell_type": "code",
   "execution_count": 13,
   "metadata": {},
   "outputs": [
    {
     "data": {
      "text/html": [
       "<div>\n",
       "<style scoped>\n",
       "    .dataframe tbody tr th:only-of-type {\n",
       "        vertical-align: middle;\n",
       "    }\n",
       "\n",
       "    .dataframe tbody tr th {\n",
       "        vertical-align: top;\n",
       "    }\n",
       "\n",
       "    .dataframe thead th {\n",
       "        text-align: right;\n",
       "    }\n",
       "</style>\n",
       "<table border=\"1\" class=\"dataframe\">\n",
       "  <thead>\n",
       "    <tr style=\"text-align: right;\">\n",
       "      <th></th>\n",
       "      <th>year</th>\n",
       "      <th>month</th>\n",
       "      <th>day</th>\n",
       "      <th>hour</th>\n",
       "      <th>PM2.5</th>\n",
       "      <th>PM10</th>\n",
       "      <th>SO2</th>\n",
       "      <th>NO2</th>\n",
       "      <th>CO</th>\n",
       "      <th>O3</th>\n",
       "      <th>TEMP</th>\n",
       "      <th>PRES</th>\n",
       "      <th>DEWP</th>\n",
       "      <th>RAIN</th>\n",
       "      <th>wd</th>\n",
       "      <th>WSPM</th>\n",
       "    </tr>\n",
       "  </thead>\n",
       "  <tbody>\n",
       "    <tr>\n",
       "      <th>count</th>\n",
       "      <td>420768.000000</td>\n",
       "      <td>420768.000000</td>\n",
       "      <td>420768.000000</td>\n",
       "      <td>420768.000000</td>\n",
       "      <td>420768.000000</td>\n",
       "      <td>420768.000000</td>\n",
       "      <td>420768.000000</td>\n",
       "      <td>420768.000000</td>\n",
       "      <td>420768.000000</td>\n",
       "      <td>420768.000000</td>\n",
       "      <td>420768.000000</td>\n",
       "      <td>420768.000000</td>\n",
       "      <td>420768.000000</td>\n",
       "      <td>420768.000000</td>\n",
       "      <td>420768.000000</td>\n",
       "      <td>420768.000000</td>\n",
       "    </tr>\n",
       "    <tr>\n",
       "      <th>mean</th>\n",
       "      <td>2014.662560</td>\n",
       "      <td>6.522930</td>\n",
       "      <td>15.729637</td>\n",
       "      <td>11.500000</td>\n",
       "      <td>79.793428</td>\n",
       "      <td>104.602618</td>\n",
       "      <td>15.830835</td>\n",
       "      <td>50.638586</td>\n",
       "      <td>1230.766454</td>\n",
       "      <td>57.372271</td>\n",
       "      <td>13.538976</td>\n",
       "      <td>1010.746982</td>\n",
       "      <td>2.490822</td>\n",
       "      <td>0.064476</td>\n",
       "      <td>181.211279</td>\n",
       "      <td>1.729711</td>\n",
       "    </tr>\n",
       "    <tr>\n",
       "      <th>std</th>\n",
       "      <td>1.177198</td>\n",
       "      <td>3.448707</td>\n",
       "      <td>8.800102</td>\n",
       "      <td>6.922195</td>\n",
       "      <td>79.978679</td>\n",
       "      <td>91.066422</td>\n",
       "      <td>21.417257</td>\n",
       "      <td>34.618463</td>\n",
       "      <td>1131.283304</td>\n",
       "      <td>55.760484</td>\n",
       "      <td>11.430729</td>\n",
       "      <td>10.469162</td>\n",
       "      <td>13.787240</td>\n",
       "      <td>0.820624</td>\n",
       "      <td>110.342828</td>\n",
       "      <td>1.245914</td>\n",
       "    </tr>\n",
       "    <tr>\n",
       "      <th>min</th>\n",
       "      <td>2013.000000</td>\n",
       "      <td>1.000000</td>\n",
       "      <td>1.000000</td>\n",
       "      <td>0.000000</td>\n",
       "      <td>2.000000</td>\n",
       "      <td>2.000000</td>\n",
       "      <td>0.285600</td>\n",
       "      <td>1.026500</td>\n",
       "      <td>100.000000</td>\n",
       "      <td>0.214200</td>\n",
       "      <td>-19.900000</td>\n",
       "      <td>982.400000</td>\n",
       "      <td>-43.400000</td>\n",
       "      <td>0.000000</td>\n",
       "      <td>12.238294</td>\n",
       "      <td>0.000000</td>\n",
       "    </tr>\n",
       "    <tr>\n",
       "      <th>25%</th>\n",
       "      <td>2014.000000</td>\n",
       "      <td>4.000000</td>\n",
       "      <td>8.000000</td>\n",
       "      <td>5.750000</td>\n",
       "      <td>21.000000</td>\n",
       "      <td>36.000000</td>\n",
       "      <td>3.000000</td>\n",
       "      <td>24.000000</td>\n",
       "      <td>500.000000</td>\n",
       "      <td>12.000000</td>\n",
       "      <td>3.100000</td>\n",
       "      <td>1002.300000</td>\n",
       "      <td>-8.900000</td>\n",
       "      <td>0.000000</td>\n",
       "      <td>62.080591</td>\n",
       "      <td>0.900000</td>\n",
       "    </tr>\n",
       "    <tr>\n",
       "      <th>50%</th>\n",
       "      <td>2015.000000</td>\n",
       "      <td>7.000000</td>\n",
       "      <td>16.000000</td>\n",
       "      <td>11.500000</td>\n",
       "      <td>57.000000</td>\n",
       "      <td>84.000000</td>\n",
       "      <td>8.000000</td>\n",
       "      <td>45.000000</td>\n",
       "      <td>900.000000</td>\n",
       "      <td>47.000000</td>\n",
       "      <td>14.500000</td>\n",
       "      <td>1010.400000</td>\n",
       "      <td>3.000000</td>\n",
       "      <td>0.000000</td>\n",
       "      <td>173.885570</td>\n",
       "      <td>1.400000</td>\n",
       "    </tr>\n",
       "    <tr>\n",
       "      <th>75%</th>\n",
       "      <td>2016.000000</td>\n",
       "      <td>10.000000</td>\n",
       "      <td>23.000000</td>\n",
       "      <td>17.250000</td>\n",
       "      <td>109.000000</td>\n",
       "      <td>144.000000</td>\n",
       "      <td>19.000000</td>\n",
       "      <td>70.000000</td>\n",
       "      <td>1500.000000</td>\n",
       "      <td>80.000000</td>\n",
       "      <td>23.200000</td>\n",
       "      <td>1019.000000</td>\n",
       "      <td>15.100000</td>\n",
       "      <td>0.000000</td>\n",
       "      <td>283.472360</td>\n",
       "      <td>2.200000</td>\n",
       "    </tr>\n",
       "    <tr>\n",
       "      <th>max</th>\n",
       "      <td>2017.000000</td>\n",
       "      <td>12.000000</td>\n",
       "      <td>31.000000</td>\n",
       "      <td>23.000000</td>\n",
       "      <td>999.000000</td>\n",
       "      <td>999.000000</td>\n",
       "      <td>500.000000</td>\n",
       "      <td>290.000000</td>\n",
       "      <td>10000.000000</td>\n",
       "      <td>1071.000000</td>\n",
       "      <td>41.600000</td>\n",
       "      <td>1042.800000</td>\n",
       "      <td>29.100000</td>\n",
       "      <td>72.500000</td>\n",
       "      <td>353.564492</td>\n",
       "      <td>13.200000</td>\n",
       "    </tr>\n",
       "  </tbody>\n",
       "</table>\n",
       "</div>"
      ],
      "text/plain": [
       "                year          month            day           hour  \\\n",
       "count  420768.000000  420768.000000  420768.000000  420768.000000   \n",
       "mean     2014.662560       6.522930      15.729637      11.500000   \n",
       "std         1.177198       3.448707       8.800102       6.922195   \n",
       "min      2013.000000       1.000000       1.000000       0.000000   \n",
       "25%      2014.000000       4.000000       8.000000       5.750000   \n",
       "50%      2015.000000       7.000000      16.000000      11.500000   \n",
       "75%      2016.000000      10.000000      23.000000      17.250000   \n",
       "max      2017.000000      12.000000      31.000000      23.000000   \n",
       "\n",
       "               PM2.5           PM10            SO2            NO2  \\\n",
       "count  420768.000000  420768.000000  420768.000000  420768.000000   \n",
       "mean       79.793428     104.602618      15.830835      50.638586   \n",
       "std        79.978679      91.066422      21.417257      34.618463   \n",
       "min         2.000000       2.000000       0.285600       1.026500   \n",
       "25%        21.000000      36.000000       3.000000      24.000000   \n",
       "50%        57.000000      84.000000       8.000000      45.000000   \n",
       "75%       109.000000     144.000000      19.000000      70.000000   \n",
       "max       999.000000     999.000000     500.000000     290.000000   \n",
       "\n",
       "                  CO             O3           TEMP           PRES  \\\n",
       "count  420768.000000  420768.000000  420768.000000  420768.000000   \n",
       "mean     1230.766454      57.372271      13.538976    1010.746982   \n",
       "std      1131.283304      55.760484      11.430729      10.469162   \n",
       "min       100.000000       0.214200     -19.900000     982.400000   \n",
       "25%       500.000000      12.000000       3.100000    1002.300000   \n",
       "50%       900.000000      47.000000      14.500000    1010.400000   \n",
       "75%      1500.000000      80.000000      23.200000    1019.000000   \n",
       "max     10000.000000    1071.000000      41.600000    1042.800000   \n",
       "\n",
       "                DEWP           RAIN             wd           WSPM  \n",
       "count  420768.000000  420768.000000  420768.000000  420768.000000  \n",
       "mean        2.490822       0.064476     181.211279       1.729711  \n",
       "std        13.787240       0.820624     110.342828       1.245914  \n",
       "min       -43.400000       0.000000      12.238294       0.000000  \n",
       "25%        -8.900000       0.000000      62.080591       0.900000  \n",
       "50%         3.000000       0.000000     173.885570       1.400000  \n",
       "75%        15.100000       0.000000     283.472360       2.200000  \n",
       "max        29.100000      72.500000     353.564492      13.200000  "
      ]
     },
     "execution_count": 13,
     "metadata": {},
     "output_type": "execute_result"
    }
   ],
   "source": [
    "data.describe()"
   ]
  },
  {
   "cell_type": "markdown",
   "metadata": {},
   "source": [
    "Now that data has been cleaned and there are no null values, we try to normalize the data. \n",
    "\n",
    "In statistics and applications of statistics, normalization can have a range of meanings. In the simplest cases, normalization means adjusting values measured on different scales to a common scale. \n",
    "\n",
    "Instead of using the predefined libraries for normalizing/scaling (eg: sklearn.preprocessing.normalize), I have created features for each of the pollutants. These are specific Air Quality Features which were created using the formula given below.\n",
    "\n",
    "###### aqi_current = (( aqi_high - aqi_low ) * ( conc_current - conc_low ) / (conc_high - conc_low)) + (aqi_low)\n",
    "\n",
    "The values of aqi_high and aqi_low are provided and using the concentration, the air quality index (AQI) corresponding to the specific concentration of pollutant is calculated.\n",
    "\n",
    "The concentrations of PM2.5, PM10, SO2, NO2, CO, O3 were used to create the following new features \n",
    "###### PM2.5_AQI, PM10_AQI, SO2_AQI, NO2_AQI, CO_AQI, O3_AQI \n",
    "\n",
    "The importance of creating these features will be understood in the regression modeling step. The current DataFrame was saved as a .csv file to keep the progress of the data preprocessing. \n"
   ]
  },
  {
   "cell_type": "markdown",
   "metadata": {},
   "source": [
    "## Exploratory Data Analysis"
   ]
  },
  {
   "cell_type": "markdown",
   "metadata": {},
   "source": [
    "Importing the data of the newly created .csv file into a DataFrame. Conducting exploratory data analysis (EDA) in order to better understand the data. In order to conduct EDA, we need to import various plotting libraries"
   ]
  },
  {
   "cell_type": "code",
   "execution_count": 24,
   "metadata": {},
   "outputs": [],
   "source": [
    "import pandas as pd\n",
    "import numpy as np\n",
    "from windrose import WindroseAxes\n",
    "import matplotlib\n",
    "from matplotlib import pyplot \n",
    "import matplotlib.cm as cm\n",
    "from numpy import mean\n",
    "from numpy import std\n",
    "from numpy import cov\n",
    "import seaborn as sns\n",
    "from numpy import random"
   ]
  },
  {
   "cell_type": "code",
   "execution_count": 14,
   "metadata": {},
   "outputs": [],
   "source": [
    "data = pd.read_csv(\"..//Data//Preprocessed Data//Preprocessed_data.csv\",index_col = 0)"
   ]
  },
  {
   "cell_type": "code",
   "execution_count": 16,
   "metadata": {},
   "outputs": [
    {
     "data": {
      "text/html": [
       "<div>\n",
       "<style scoped>\n",
       "    .dataframe tbody tr th:only-of-type {\n",
       "        vertical-align: middle;\n",
       "    }\n",
       "\n",
       "    .dataframe tbody tr th {\n",
       "        vertical-align: top;\n",
       "    }\n",
       "\n",
       "    .dataframe thead th {\n",
       "        text-align: right;\n",
       "    }\n",
       "</style>\n",
       "<table border=\"1\" class=\"dataframe\">\n",
       "  <thead>\n",
       "    <tr style=\"text-align: right;\">\n",
       "      <th></th>\n",
       "      <th>No</th>\n",
       "      <th>year</th>\n",
       "      <th>month</th>\n",
       "      <th>day</th>\n",
       "      <th>hour</th>\n",
       "      <th>PM2.5</th>\n",
       "      <th>PM10</th>\n",
       "      <th>SO2</th>\n",
       "      <th>NO2</th>\n",
       "      <th>CO</th>\n",
       "      <th>...</th>\n",
       "      <th>RAIN</th>\n",
       "      <th>wd</th>\n",
       "      <th>WSPM</th>\n",
       "      <th>station</th>\n",
       "      <th>PM25_AQI</th>\n",
       "      <th>PM10_AQI</th>\n",
       "      <th>SO2_AQI</th>\n",
       "      <th>NO2_AQI</th>\n",
       "      <th>CO_AQI</th>\n",
       "      <th>O3_AQI</th>\n",
       "    </tr>\n",
       "  </thead>\n",
       "  <tbody>\n",
       "    <tr>\n",
       "      <th>0</th>\n",
       "      <td>1</td>\n",
       "      <td>2013</td>\n",
       "      <td>3</td>\n",
       "      <td>1</td>\n",
       "      <td>0</td>\n",
       "      <td>4.0</td>\n",
       "      <td>4.0</td>\n",
       "      <td>1.526718</td>\n",
       "      <td>3.723404</td>\n",
       "      <td>0.262009</td>\n",
       "      <td>...</td>\n",
       "      <td>0.0</td>\n",
       "      <td>329.976194</td>\n",
       "      <td>4.4</td>\n",
       "      <td>Aotizhongxin</td>\n",
       "      <td>16.666667</td>\n",
       "      <td>3.636364</td>\n",
       "      <td>2.120441</td>\n",
       "      <td>3.447597</td>\n",
       "      <td>2.911208</td>\n",
       "      <td>30.8</td>\n",
       "    </tr>\n",
       "    <tr>\n",
       "      <th>1</th>\n",
       "      <td>2</td>\n",
       "      <td>2013</td>\n",
       "      <td>3</td>\n",
       "      <td>1</td>\n",
       "      <td>1</td>\n",
       "      <td>8.0</td>\n",
       "      <td>8.0</td>\n",
       "      <td>1.526718</td>\n",
       "      <td>3.723404</td>\n",
       "      <td>0.262009</td>\n",
       "      <td>...</td>\n",
       "      <td>0.0</td>\n",
       "      <td>350.471596</td>\n",
       "      <td>4.7</td>\n",
       "      <td>Aotizhongxin</td>\n",
       "      <td>33.333333</td>\n",
       "      <td>7.272727</td>\n",
       "      <td>2.120441</td>\n",
       "      <td>3.447597</td>\n",
       "      <td>2.911208</td>\n",
       "      <td>30.8</td>\n",
       "    </tr>\n",
       "    <tr>\n",
       "      <th>2</th>\n",
       "      <td>3</td>\n",
       "      <td>2013</td>\n",
       "      <td>3</td>\n",
       "      <td>1</td>\n",
       "      <td>2</td>\n",
       "      <td>7.0</td>\n",
       "      <td>7.0</td>\n",
       "      <td>1.908397</td>\n",
       "      <td>5.319149</td>\n",
       "      <td>0.262009</td>\n",
       "      <td>...</td>\n",
       "      <td>0.0</td>\n",
       "      <td>329.976194</td>\n",
       "      <td>5.6</td>\n",
       "      <td>Aotizhongxin</td>\n",
       "      <td>29.166667</td>\n",
       "      <td>6.363636</td>\n",
       "      <td>2.650551</td>\n",
       "      <td>4.925138</td>\n",
       "      <td>2.911208</td>\n",
       "      <td>29.2</td>\n",
       "    </tr>\n",
       "    <tr>\n",
       "      <th>3</th>\n",
       "      <td>4</td>\n",
       "      <td>2013</td>\n",
       "      <td>3</td>\n",
       "      <td>1</td>\n",
       "      <td>3</td>\n",
       "      <td>6.0</td>\n",
       "      <td>6.0</td>\n",
       "      <td>4.198473</td>\n",
       "      <td>5.851064</td>\n",
       "      <td>0.262009</td>\n",
       "      <td>...</td>\n",
       "      <td>0.0</td>\n",
       "      <td>314.006221</td>\n",
       "      <td>3.1</td>\n",
       "      <td>Aotizhongxin</td>\n",
       "      <td>25.000000</td>\n",
       "      <td>5.454545</td>\n",
       "      <td>5.831213</td>\n",
       "      <td>5.417652</td>\n",
       "      <td>2.911208</td>\n",
       "      <td>28.8</td>\n",
       "    </tr>\n",
       "    <tr>\n",
       "      <th>4</th>\n",
       "      <td>5</td>\n",
       "      <td>2013</td>\n",
       "      <td>3</td>\n",
       "      <td>1</td>\n",
       "      <td>4</td>\n",
       "      <td>3.0</td>\n",
       "      <td>3.0</td>\n",
       "      <td>4.580153</td>\n",
       "      <td>6.382979</td>\n",
       "      <td>0.262009</td>\n",
       "      <td>...</td>\n",
       "      <td>0.0</td>\n",
       "      <td>350.471596</td>\n",
       "      <td>2.0</td>\n",
       "      <td>Aotizhongxin</td>\n",
       "      <td>12.500000</td>\n",
       "      <td>2.727273</td>\n",
       "      <td>6.361323</td>\n",
       "      <td>5.910165</td>\n",
       "      <td>2.911208</td>\n",
       "      <td>28.8</td>\n",
       "    </tr>\n",
       "  </tbody>\n",
       "</table>\n",
       "<p>5 rows × 24 columns</p>\n",
       "</div>"
      ],
      "text/plain": [
       "   No  year  month  day  hour  PM2.5  PM10       SO2       NO2        CO  ...  \\\n",
       "0   1  2013      3    1     0    4.0   4.0  1.526718  3.723404  0.262009  ...   \n",
       "1   2  2013      3    1     1    8.0   8.0  1.526718  3.723404  0.262009  ...   \n",
       "2   3  2013      3    1     2    7.0   7.0  1.908397  5.319149  0.262009  ...   \n",
       "3   4  2013      3    1     3    6.0   6.0  4.198473  5.851064  0.262009  ...   \n",
       "4   5  2013      3    1     4    3.0   3.0  4.580153  6.382979  0.262009  ...   \n",
       "\n",
       "   RAIN          wd  WSPM       station   PM25_AQI  PM10_AQI   SO2_AQI  \\\n",
       "0   0.0  329.976194   4.4  Aotizhongxin  16.666667  3.636364  2.120441   \n",
       "1   0.0  350.471596   4.7  Aotizhongxin  33.333333  7.272727  2.120441   \n",
       "2   0.0  329.976194   5.6  Aotizhongxin  29.166667  6.363636  2.650551   \n",
       "3   0.0  314.006221   3.1  Aotizhongxin  25.000000  5.454545  5.831213   \n",
       "4   0.0  350.471596   2.0  Aotizhongxin  12.500000  2.727273  6.361323   \n",
       "\n",
       "    NO2_AQI    CO_AQI  O3_AQI  \n",
       "0  3.447597  2.911208    30.8  \n",
       "1  3.447597  2.911208    30.8  \n",
       "2  4.925138  2.911208    29.2  \n",
       "3  5.417652  2.911208    28.8  \n",
       "4  5.910165  2.911208    28.8  \n",
       "\n",
       "[5 rows x 24 columns]"
      ]
     },
     "execution_count": 16,
     "metadata": {},
     "output_type": "execute_result"
    }
   ],
   "source": [
    "data.head()"
   ]
  },
  {
   "cell_type": "code",
   "execution_count": 17,
   "metadata": {},
   "outputs": [
    {
     "data": {
      "text/html": [
       "<div>\n",
       "<style scoped>\n",
       "    .dataframe tbody tr th:only-of-type {\n",
       "        vertical-align: middle;\n",
       "    }\n",
       "\n",
       "    .dataframe tbody tr th {\n",
       "        vertical-align: top;\n",
       "    }\n",
       "\n",
       "    .dataframe thead th {\n",
       "        text-align: right;\n",
       "    }\n",
       "</style>\n",
       "<table border=\"1\" class=\"dataframe\">\n",
       "  <thead>\n",
       "    <tr style=\"text-align: right;\">\n",
       "      <th></th>\n",
       "      <th>No</th>\n",
       "      <th>year</th>\n",
       "      <th>month</th>\n",
       "      <th>day</th>\n",
       "      <th>hour</th>\n",
       "      <th>PM2.5</th>\n",
       "      <th>PM10</th>\n",
       "      <th>SO2</th>\n",
       "      <th>NO2</th>\n",
       "      <th>CO</th>\n",
       "      <th>...</th>\n",
       "      <th>DEWP</th>\n",
       "      <th>RAIN</th>\n",
       "      <th>wd</th>\n",
       "      <th>WSPM</th>\n",
       "      <th>PM25_AQI</th>\n",
       "      <th>PM10_AQI</th>\n",
       "      <th>SO2_AQI</th>\n",
       "      <th>NO2_AQI</th>\n",
       "      <th>CO_AQI</th>\n",
       "      <th>O3_AQI</th>\n",
       "    </tr>\n",
       "  </thead>\n",
       "  <tbody>\n",
       "    <tr>\n",
       "      <th>count</th>\n",
       "      <td>420768.000000</td>\n",
       "      <td>420768.000000</td>\n",
       "      <td>420768.000000</td>\n",
       "      <td>420768.000000</td>\n",
       "      <td>420768.000000</td>\n",
       "      <td>420768.000000</td>\n",
       "      <td>420768.000000</td>\n",
       "      <td>420768.000000</td>\n",
       "      <td>420768.000000</td>\n",
       "      <td>420768.000000</td>\n",
       "      <td>...</td>\n",
       "      <td>420768.000000</td>\n",
       "      <td>420768.000000</td>\n",
       "      <td>420768.000000</td>\n",
       "      <td>420768.000000</td>\n",
       "      <td>420768.000000</td>\n",
       "      <td>420768.000000</td>\n",
       "      <td>420768.000000</td>\n",
       "      <td>420768.000000</td>\n",
       "      <td>420768.000000</td>\n",
       "      <td>420768.000000</td>\n",
       "    </tr>\n",
       "    <tr>\n",
       "      <th>mean</th>\n",
       "      <td>17532.500000</td>\n",
       "      <td>2014.662560</td>\n",
       "      <td>6.522930</td>\n",
       "      <td>15.729637</td>\n",
       "      <td>11.500000</td>\n",
       "      <td>79.629141</td>\n",
       "      <td>104.413639</td>\n",
       "      <td>6.042303</td>\n",
       "      <td>26.935418</td>\n",
       "      <td>1.074905</td>\n",
       "      <td>...</td>\n",
       "      <td>2.490822</td>\n",
       "      <td>0.064476</td>\n",
       "      <td>182.938625</td>\n",
       "      <td>1.729711</td>\n",
       "      <td>138.609854</td>\n",
       "      <td>72.135539</td>\n",
       "      <td>8.368896</td>\n",
       "      <td>25.085468</td>\n",
       "      <td>11.921375</td>\n",
       "      <td>23.000111</td>\n",
       "    </tr>\n",
       "    <tr>\n",
       "      <th>std</th>\n",
       "      <td>10122.116943</td>\n",
       "      <td>1.177198</td>\n",
       "      <td>3.448707</td>\n",
       "      <td>8.800102</td>\n",
       "      <td>6.922195</td>\n",
       "      <td>78.966825</td>\n",
       "      <td>89.815730</td>\n",
       "      <td>8.174526</td>\n",
       "      <td>18.414076</td>\n",
       "      <td>0.988020</td>\n",
       "      <td>...</td>\n",
       "      <td>13.787240</td>\n",
       "      <td>0.820624</td>\n",
       "      <td>108.884604</td>\n",
       "      <td>1.245914</td>\n",
       "      <td>82.742551</td>\n",
       "      <td>56.254464</td>\n",
       "      <td>11.192742</td>\n",
       "      <td>17.432015</td>\n",
       "      <td>10.855245</td>\n",
       "      <td>22.544899</td>\n",
       "    </tr>\n",
       "    <tr>\n",
       "      <th>min</th>\n",
       "      <td>1.000000</td>\n",
       "      <td>2013.000000</td>\n",
       "      <td>1.000000</td>\n",
       "      <td>1.000000</td>\n",
       "      <td>0.000000</td>\n",
       "      <td>2.000000</td>\n",
       "      <td>2.000000</td>\n",
       "      <td>0.109008</td>\n",
       "      <td>0.546011</td>\n",
       "      <td>0.087336</td>\n",
       "      <td>...</td>\n",
       "      <td>-43.400000</td>\n",
       "      <td>0.000000</td>\n",
       "      <td>22.709461</td>\n",
       "      <td>0.000000</td>\n",
       "      <td>8.333333</td>\n",
       "      <td>1.818182</td>\n",
       "      <td>0.151399</td>\n",
       "      <td>0.505565</td>\n",
       "      <td>0.970403</td>\n",
       "      <td>0.085680</td>\n",
       "    </tr>\n",
       "    <tr>\n",
       "      <th>25%</th>\n",
       "      <td>8766.750000</td>\n",
       "      <td>2014.000000</td>\n",
       "      <td>4.000000</td>\n",
       "      <td>8.000000</td>\n",
       "      <td>5.750000</td>\n",
       "      <td>21.000000</td>\n",
       "      <td>36.000000</td>\n",
       "      <td>1.145038</td>\n",
       "      <td>12.765957</td>\n",
       "      <td>0.436681</td>\n",
       "      <td>...</td>\n",
       "      <td>-8.900000</td>\n",
       "      <td>0.000000</td>\n",
       "      <td>68.445462</td>\n",
       "      <td>0.900000</td>\n",
       "      <td>69.148936</td>\n",
       "      <td>32.727273</td>\n",
       "      <td>1.590331</td>\n",
       "      <td>11.820331</td>\n",
       "      <td>4.852014</td>\n",
       "      <td>4.800000</td>\n",
       "    </tr>\n",
       "    <tr>\n",
       "      <th>50%</th>\n",
       "      <td>17532.500000</td>\n",
       "      <td>2015.000000</td>\n",
       "      <td>7.000000</td>\n",
       "      <td>16.000000</td>\n",
       "      <td>11.500000</td>\n",
       "      <td>57.000000</td>\n",
       "      <td>84.000000</td>\n",
       "      <td>3.053435</td>\n",
       "      <td>23.936170</td>\n",
       "      <td>0.786026</td>\n",
       "      <td>...</td>\n",
       "      <td>3.000000</td>\n",
       "      <td>0.000000</td>\n",
       "      <td>179.548109</td>\n",
       "      <td>1.400000</td>\n",
       "      <td>150.789474</td>\n",
       "      <td>64.500000</td>\n",
       "      <td>4.240882</td>\n",
       "      <td>22.163121</td>\n",
       "      <td>8.733624</td>\n",
       "      <td>18.800000</td>\n",
       "    </tr>\n",
       "    <tr>\n",
       "      <th>75%</th>\n",
       "      <td>26298.250000</td>\n",
       "      <td>2016.000000</td>\n",
       "      <td>10.000000</td>\n",
       "      <td>23.000000</td>\n",
       "      <td>17.250000</td>\n",
       "      <td>109.000000</td>\n",
       "      <td>144.000000</td>\n",
       "      <td>7.251908</td>\n",
       "      <td>37.234043</td>\n",
       "      <td>1.310044</td>\n",
       "      <td>...</td>\n",
       "      <td>15.100000</td>\n",
       "      <td>0.000000</td>\n",
       "      <td>291.529139</td>\n",
       "      <td>2.200000</td>\n",
       "      <td>178.157895</td>\n",
       "      <td>94.500000</td>\n",
       "      <td>10.072095</td>\n",
       "      <td>34.475965</td>\n",
       "      <td>14.556041</td>\n",
       "      <td>32.000000</td>\n",
       "    </tr>\n",
       "    <tr>\n",
       "      <th>max</th>\n",
       "      <td>35064.000000</td>\n",
       "      <td>2017.000000</td>\n",
       "      <td>12.000000</td>\n",
       "      <td>31.000000</td>\n",
       "      <td>23.000000</td>\n",
       "      <td>500.400000</td>\n",
       "      <td>605.000000</td>\n",
       "      <td>190.839695</td>\n",
       "      <td>154.255319</td>\n",
       "      <td>8.733624</td>\n",
       "      <td>...</td>\n",
       "      <td>29.100000</td>\n",
       "      <td>72.500000</td>\n",
       "      <td>350.471596</td>\n",
       "      <td>13.200000</td>\n",
       "      <td>499.933333</td>\n",
       "      <td>500.000000</td>\n",
       "      <td>152.050718</td>\n",
       "      <td>110.241408</td>\n",
       "      <td>92.336245</td>\n",
       "      <td>430.500000</td>\n",
       "    </tr>\n",
       "  </tbody>\n",
       "</table>\n",
       "<p>8 rows × 23 columns</p>\n",
       "</div>"
      ],
      "text/plain": [
       "                  No           year          month            day  \\\n",
       "count  420768.000000  420768.000000  420768.000000  420768.000000   \n",
       "mean    17532.500000    2014.662560       6.522930      15.729637   \n",
       "std     10122.116943       1.177198       3.448707       8.800102   \n",
       "min         1.000000    2013.000000       1.000000       1.000000   \n",
       "25%      8766.750000    2014.000000       4.000000       8.000000   \n",
       "50%     17532.500000    2015.000000       7.000000      16.000000   \n",
       "75%     26298.250000    2016.000000      10.000000      23.000000   \n",
       "max     35064.000000    2017.000000      12.000000      31.000000   \n",
       "\n",
       "                hour          PM2.5           PM10            SO2  \\\n",
       "count  420768.000000  420768.000000  420768.000000  420768.000000   \n",
       "mean       11.500000      79.629141     104.413639       6.042303   \n",
       "std         6.922195      78.966825      89.815730       8.174526   \n",
       "min         0.000000       2.000000       2.000000       0.109008   \n",
       "25%         5.750000      21.000000      36.000000       1.145038   \n",
       "50%        11.500000      57.000000      84.000000       3.053435   \n",
       "75%        17.250000     109.000000     144.000000       7.251908   \n",
       "max        23.000000     500.400000     605.000000     190.839695   \n",
       "\n",
       "                 NO2             CO  ...           DEWP           RAIN  \\\n",
       "count  420768.000000  420768.000000  ...  420768.000000  420768.000000   \n",
       "mean       26.935418       1.074905  ...       2.490822       0.064476   \n",
       "std        18.414076       0.988020  ...      13.787240       0.820624   \n",
       "min         0.546011       0.087336  ...     -43.400000       0.000000   \n",
       "25%        12.765957       0.436681  ...      -8.900000       0.000000   \n",
       "50%        23.936170       0.786026  ...       3.000000       0.000000   \n",
       "75%        37.234043       1.310044  ...      15.100000       0.000000   \n",
       "max       154.255319       8.733624  ...      29.100000      72.500000   \n",
       "\n",
       "                  wd           WSPM       PM25_AQI       PM10_AQI  \\\n",
       "count  420768.000000  420768.000000  420768.000000  420768.000000   \n",
       "mean      182.938625       1.729711     138.609854      72.135539   \n",
       "std       108.884604       1.245914      82.742551      56.254464   \n",
       "min        22.709461       0.000000       8.333333       1.818182   \n",
       "25%        68.445462       0.900000      69.148936      32.727273   \n",
       "50%       179.548109       1.400000     150.789474      64.500000   \n",
       "75%       291.529139       2.200000     178.157895      94.500000   \n",
       "max       350.471596      13.200000     499.933333     500.000000   \n",
       "\n",
       "             SO2_AQI        NO2_AQI         CO_AQI         O3_AQI  \n",
       "count  420768.000000  420768.000000  420768.000000  420768.000000  \n",
       "mean        8.368896      25.085468      11.921375      23.000111  \n",
       "std        11.192742      17.432015      10.855245      22.544899  \n",
       "min         0.151399       0.505565       0.970403       0.085680  \n",
       "25%         1.590331      11.820331       4.852014       4.800000  \n",
       "50%         4.240882      22.163121       8.733624      18.800000  \n",
       "75%        10.072095      34.475965      14.556041      32.000000  \n",
       "max       152.050718     110.241408      92.336245     430.500000  \n",
       "\n",
       "[8 rows x 23 columns]"
      ]
     },
     "execution_count": 17,
     "metadata": {},
     "output_type": "execute_result"
    }
   ],
   "source": [
    "data.describe()"
   ]
  },
  {
   "cell_type": "markdown",
   "metadata": {},
   "source": [
    "Now we graph the wind directions and the wind speeds using the Windrose Library. It creates a perfect windrose that explains the direction of wind along with the intensity in each of the 16 directions. As we can see from the image, the intensity of wind is highest in the North-East Direction."
   ]
  },
  {
   "cell_type": "code",
   "execution_count": 18,
   "metadata": {},
   "outputs": [
    {
     "data": {
      "text/plain": [
       "<matplotlib.legend.Legend at 0x22f3f6d7d00>"
      ]
     },
     "execution_count": 18,
     "metadata": {},
     "output_type": "execute_result"
    },
    {
     "data": {
      "image/png": "[encoded data removed]",
      "text/plain": [
       "<Figure size 640x640 with 1 Axes>"
      ]
     },
     "metadata": {},
     "output_type": "display_data"
    }
   ],
   "source": [
    "ax = WindroseAxes.from_ax()\n",
    "ax.bar(data['wd'],data['WSPM'], normed=True, opening=0.8, edgecolor='white')\n",
    "ax.set_legend()"
   ]
  },
  {
   "cell_type": "code",
   "execution_count": 19,
   "metadata": {},
   "outputs": [
    {
     "data": {
      "text/plain": [
       "count    420768.000000\n",
       "mean         13.538976\n",
       "std          11.430729\n",
       "min         -19.900000\n",
       "25%           3.100000\n",
       "50%          14.500000\n",
       "75%          23.200000\n",
       "max          41.600000\n",
       "Name: TEMP, dtype: float64"
      ]
     },
     "execution_count": 19,
     "metadata": {},
     "output_type": "execute_result"
    }
   ],
   "source": [
    "data.TEMP.describe()"
   ]
  },
  {
   "cell_type": "markdown",
   "metadata": {},
   "source": [
    "In the next graph, we find the correlation of each of the variable with each of the other variables. This is done to find out which attributes are strongly corelated to out target variable which is Temperature."
   ]
  },
  {
   "cell_type": "code",
   "execution_count": 20,
   "metadata": {},
   "outputs": [
    {
     "data": {
      "text/plain": [
       "<AxesSubplot:>"
      ]
     },
     "execution_count": 20,
     "metadata": {},
     "output_type": "execute_result"
    },
    {
     "data": {
      "image/png": "[encoded data removed]",
      "text/plain": [
       "<Figure size 432x288 with 2 Axes>"
      ]
     },
     "metadata": {
      "needs_background": "light"
     },
     "output_type": "display_data"
    }
   ],
   "source": [
    "data1 = data.drop(['No','day','year','month','hour','station','PM25_AQI','PM10_AQI','SO2_AQI','NO2_AQI','O3_AQI','CO_AQI'], axis = 1)\n",
    "sns.heatmap(data1.corr(), fmt=\".2f\")"
   ]
  },
  {
   "cell_type": "markdown",
   "metadata": {},
   "source": [
    "We plot different graphs with different attributes to understand each of them in detail"
   ]
  },
  {
   "cell_type": "code",
   "execution_count": 30,
   "metadata": {},
   "outputs": [
    {
     "data": {
      "text/plain": [
       "Text(0, 0.5, 'Avg Temperature in *C')"
      ]
     },
     "execution_count": 30,
     "metadata": {},
     "output_type": "execute_result"
    },
    {
     "name": "stderr",
     "output_type": "stream",
     "text": [
      "Exception in Tkinter callback\n",
      "Traceback (most recent call last):\n",
      "  File \"C:\\Users\\dsola\\anaconda3\\lib\\tkinter\\__init__.py\", line 1883, in __call__\n",
      "    return self.func(*args)\n",
      "  File \"C:\\Users\\dsola\\anaconda3\\lib\\tkinter\\__init__.py\", line 804, in callit\n",
      "    func(*args)\n",
      "  File \"C:\\Users\\dsola\\anaconda3\\lib\\site-packages\\matplotlib\\backends\\_backend_tk.py\", line 253, in idle_draw\n",
      "    self.draw()\n",
      "  File \"C:\\Users\\dsola\\anaconda3\\lib\\site-packages\\matplotlib\\backends\\backend_tkagg.py\", line 9, in draw\n",
      "    super(FigureCanvasTkAgg, self).draw()\n",
      "  File \"C:\\Users\\dsola\\anaconda3\\lib\\site-packages\\matplotlib\\backends\\backend_agg.py\", line 407, in draw\n",
      "    self.figure.draw(self.renderer)\n",
      "  File \"C:\\Users\\dsola\\anaconda3\\lib\\site-packages\\matplotlib\\backend_bases.py\", line 1544, in _draw\n",
      "    def _draw(renderer): raise Done(renderer)\n",
      "matplotlib.backend_bases._get_renderer.<locals>.Done: <matplotlib.backends.backend_agg.RendererAgg object at 0x0000022F412F13D0>\n",
      "Exception in Tkinter callback\n",
      "Traceback (most recent call last):\n",
      "  File \"C:\\Users\\dsola\\anaconda3\\lib\\tkinter\\__init__.py\", line 1883, in __call__\n",
      "    return self.func(*args)\n",
      "  File \"C:\\Users\\dsola\\anaconda3\\lib\\site-packages\\matplotlib\\backends\\_backend_tk.py\", line 242, in resize\n",
      "    self.draw()\n",
      "  File \"C:\\Users\\dsola\\anaconda3\\lib\\site-packages\\matplotlib\\backends\\backend_tkagg.py\", line 9, in draw\n",
      "    super(FigureCanvasTkAgg, self).draw()\n",
      "  File \"C:\\Users\\dsola\\anaconda3\\lib\\site-packages\\matplotlib\\backends\\backend_agg.py\", line 407, in draw\n",
      "    self.figure.draw(self.renderer)\n",
      "  File \"C:\\Users\\dsola\\anaconda3\\lib\\site-packages\\matplotlib\\backend_bases.py\", line 1544, in _draw\n",
      "    def _draw(renderer): raise Done(renderer)\n",
      "matplotlib.backend_bases._get_renderer.<locals>.Done: <matplotlib.backends.backend_agg.RendererAgg object at 0x0000022F412F13D0>\n",
      "Exception in Tkinter callback\n",
      "Traceback (most recent call last):\n",
      "  File \"C:\\Users\\dsola\\anaconda3\\lib\\tkinter\\__init__.py\", line 1883, in __call__\n",
      "    return self.func(*args)\n",
      "  File \"C:\\Users\\dsola\\anaconda3\\lib\\tkinter\\__init__.py\", line 804, in callit\n",
      "    func(*args)\n",
      "  File \"C:\\Users\\dsola\\anaconda3\\lib\\site-packages\\matplotlib\\backends\\_backend_tk.py\", line 253, in idle_draw\n",
      "    self.draw()\n",
      "  File \"C:\\Users\\dsola\\anaconda3\\lib\\site-packages\\matplotlib\\backends\\backend_tkagg.py\", line 9, in draw\n",
      "    super(FigureCanvasTkAgg, self).draw()\n",
      "  File \"C:\\Users\\dsola\\anaconda3\\lib\\site-packages\\matplotlib\\backends\\backend_agg.py\", line 407, in draw\n",
      "    self.figure.draw(self.renderer)\n",
      "  File \"C:\\Users\\dsola\\anaconda3\\lib\\site-packages\\matplotlib\\backend_bases.py\", line 1544, in _draw\n",
      "    def _draw(renderer): raise Done(renderer)\n",
      "matplotlib.backend_bases._get_renderer.<locals>.Done: <matplotlib.backends.backend_agg.RendererAgg object at 0x0000022F412F13D0>\n"
     ]
    },
    {
     "data": {
      "image/png": "[encoded data removed]",
      "text/plain": [
       "<Figure size 432x288 with 1 Axes>"
      ]
     },
     "metadata": {
      "needs_background": "light"
     },
     "output_type": "display_data"
    }
   ],
   "source": [
    "matplotlib.use(\"TkAgg\")\n",
    "numpy = data.groupby([\"month\"])[\"TEMP\"].mean()\n",
    "y1 = numpy < 0\n",
    "y2 = numpy >= 0\n",
    "pyplot.bar(data['month'].unique()[y1], numpy[y1], color='tomato')\n",
    "pyplot.bar(data['month'].unique()[y2], numpy[y2], color='steelblue')\n",
    "pyplot.xlabel('Months')\n",
    "pyplot.ylabel('Avg Temperature in *C')"
   ]
  },
  {
   "cell_type": "code",
   "execution_count": 31,
   "metadata": {},
   "outputs": [
    {
     "data": {
      "text/plain": [
       "Text(0, 0.5, ' Avg Temperature in *C')"
      ]
     },
     "execution_count": 31,
     "metadata": {},
     "output_type": "execute_result"
    },
    {
     "name": "stderr",
     "output_type": "stream",
     "text": [
      "Exception in Tkinter callback\n",
      "Traceback (most recent call last):\n",
      "  File \"C:\\Users\\dsola\\anaconda3\\lib\\tkinter\\__init__.py\", line 1883, in __call__\n",
      "    return self.func(*args)\n",
      "  File \"C:\\Users\\dsola\\anaconda3\\lib\\tkinter\\__init__.py\", line 804, in callit\n",
      "    func(*args)\n",
      "  File \"C:\\Users\\dsola\\anaconda3\\lib\\site-packages\\matplotlib\\backends\\_backend_tk.py\", line 253, in idle_draw\n",
      "    self.draw()\n",
      "  File \"C:\\Users\\dsola\\anaconda3\\lib\\site-packages\\matplotlib\\backends\\backend_tkagg.py\", line 9, in draw\n",
      "    super(FigureCanvasTkAgg, self).draw()\n",
      "  File \"C:\\Users\\dsola\\anaconda3\\lib\\site-packages\\matplotlib\\backends\\backend_agg.py\", line 407, in draw\n",
      "    self.figure.draw(self.renderer)\n",
      "  File \"C:\\Users\\dsola\\anaconda3\\lib\\site-packages\\matplotlib\\backend_bases.py\", line 1544, in _draw\n",
      "    def _draw(renderer): raise Done(renderer)\n",
      "matplotlib.backend_bases._get_renderer.<locals>.Done: <matplotlib.backends.backend_agg.RendererAgg object at 0x0000022F413ADE50>\n",
      "Exception in Tkinter callback\n",
      "Traceback (most recent call last):\n",
      "  File \"C:\\Users\\dsola\\anaconda3\\lib\\tkinter\\__init__.py\", line 1883, in __call__\n",
      "    return self.func(*args)\n",
      "  File \"C:\\Users\\dsola\\anaconda3\\lib\\site-packages\\matplotlib\\backends\\_backend_tk.py\", line 242, in resize\n",
      "    self.draw()\n",
      "  File \"C:\\Users\\dsola\\anaconda3\\lib\\site-packages\\matplotlib\\backends\\backend_tkagg.py\", line 9, in draw\n",
      "    super(FigureCanvasTkAgg, self).draw()\n",
      "  File \"C:\\Users\\dsola\\anaconda3\\lib\\site-packages\\matplotlib\\backends\\backend_agg.py\", line 407, in draw\n",
      "    self.figure.draw(self.renderer)\n",
      "  File \"C:\\Users\\dsola\\anaconda3\\lib\\site-packages\\matplotlib\\backend_bases.py\", line 1544, in _draw\n",
      "    def _draw(renderer): raise Done(renderer)\n",
      "matplotlib.backend_bases._get_renderer.<locals>.Done: <matplotlib.backends.backend_agg.RendererAgg object at 0x0000022F413ADE50>\n",
      "Exception in Tkinter callback\n",
      "Traceback (most recent call last):\n",
      "  File \"C:\\Users\\dsola\\anaconda3\\lib\\tkinter\\__init__.py\", line 1883, in __call__\n",
      "    return self.func(*args)\n",
      "  File \"C:\\Users\\dsola\\anaconda3\\lib\\tkinter\\__init__.py\", line 804, in callit\n",
      "    func(*args)\n",
      "  File \"C:\\Users\\dsola\\anaconda3\\lib\\site-packages\\matplotlib\\backends\\_backend_tk.py\", line 253, in idle_draw\n",
      "    self.draw()\n",
      "  File \"C:\\Users\\dsola\\anaconda3\\lib\\site-packages\\matplotlib\\backends\\backend_tkagg.py\", line 9, in draw\n",
      "    super(FigureCanvasTkAgg, self).draw()\n",
      "  File \"C:\\Users\\dsola\\anaconda3\\lib\\site-packages\\matplotlib\\backends\\backend_agg.py\", line 407, in draw\n",
      "    self.figure.draw(self.renderer)\n",
      "  File \"C:\\Users\\dsola\\anaconda3\\lib\\site-packages\\matplotlib\\backend_bases.py\", line 1544, in _draw\n",
      "    def _draw(renderer): raise Done(renderer)\n",
      "matplotlib.backend_bases._get_renderer.<locals>.Done: <matplotlib.backends.backend_agg.RendererAgg object at 0x0000022F413ADE50>\n"
     ]
    },
    {
     "data": {
      "image/png": "[encoded data removed]",
      "text/plain": [
       "<Figure size 432x288 with 1 Axes>"
      ]
     },
     "metadata": {
      "needs_background": "light"
     },
     "output_type": "display_data"
    }
   ],
   "source": [
    "import matplotlib\n",
    "matplotlib.use(\"TkAgg\")\n",
    "numpy = data.groupby([\"hour\"])[\"TEMP\"].mean()\n",
    "y1 = numpy < mean(numpy)\n",
    "y2 = numpy >= mean(numpy)\n",
    "pyplot.bar(data['hour'].unique(), numpy, color='tomato')\n",
    "pyplot.bar(data['hour'].unique(), numpy, color='steelblue')\n",
    "pyplot.xlabel('Hours')\n",
    "pyplot.ylabel(' Avg Temperature in *C')"
   ]
  },
  {
   "cell_type": "code",
   "execution_count": 32,
   "metadata": {},
   "outputs": [
    {
     "data": {
      "text/plain": [
       "<AxesSubplot:xlabel='year', ylabel='CO'>"
      ]
     },
     "execution_count": 32,
     "metadata": {},
     "output_type": "execute_result"
    },
    {
     "name": "stderr",
     "output_type": "stream",
     "text": [
      "Exception in Tkinter callback\n",
      "Traceback (most recent call last):\n",
      "  File \"C:\\Users\\dsola\\anaconda3\\lib\\tkinter\\__init__.py\", line 1883, in __call__\n",
      "    return self.func(*args)\n",
      "  File \"C:\\Users\\dsola\\anaconda3\\lib\\tkinter\\__init__.py\", line 804, in callit\n",
      "    func(*args)\n",
      "  File \"C:\\Users\\dsola\\anaconda3\\lib\\site-packages\\matplotlib\\backends\\_backend_tk.py\", line 253, in idle_draw\n",
      "    self.draw()\n",
      "  File \"C:\\Users\\dsola\\anaconda3\\lib\\site-packages\\matplotlib\\backends\\backend_tkagg.py\", line 9, in draw\n",
      "    super(FigureCanvasTkAgg, self).draw()\n",
      "  File \"C:\\Users\\dsola\\anaconda3\\lib\\site-packages\\matplotlib\\backends\\backend_agg.py\", line 407, in draw\n",
      "    self.figure.draw(self.renderer)\n",
      "  File \"C:\\Users\\dsola\\anaconda3\\lib\\site-packages\\matplotlib\\backend_bases.py\", line 1544, in _draw\n",
      "    def _draw(renderer): raise Done(renderer)\n",
      "matplotlib.backend_bases._get_renderer.<locals>.Done: <matplotlib.backends.backend_agg.RendererAgg object at 0x0000022F416EC460>\n",
      "Exception in Tkinter callback\n",
      "Traceback (most recent call last):\n",
      "  File \"C:\\Users\\dsola\\anaconda3\\lib\\tkinter\\__init__.py\", line 1883, in __call__\n",
      "    return self.func(*args)\n",
      "  File \"C:\\Users\\dsola\\anaconda3\\lib\\site-packages\\matplotlib\\backends\\_backend_tk.py\", line 242, in resize\n",
      "    self.draw()\n",
      "  File \"C:\\Users\\dsola\\anaconda3\\lib\\site-packages\\matplotlib\\backends\\backend_tkagg.py\", line 9, in draw\n",
      "    super(FigureCanvasTkAgg, self).draw()\n",
      "  File \"C:\\Users\\dsola\\anaconda3\\lib\\site-packages\\matplotlib\\backends\\backend_agg.py\", line 407, in draw\n",
      "    self.figure.draw(self.renderer)\n",
      "  File \"C:\\Users\\dsola\\anaconda3\\lib\\site-packages\\matplotlib\\backend_bases.py\", line 1544, in _draw\n",
      "    def _draw(renderer): raise Done(renderer)\n",
      "matplotlib.backend_bases._get_renderer.<locals>.Done: <matplotlib.backends.backend_agg.RendererAgg object at 0x0000022F416EC460>\n",
      "Exception in Tkinter callback\n",
      "Traceback (most recent call last):\n",
      "  File \"C:\\Users\\dsola\\anaconda3\\lib\\tkinter\\__init__.py\", line 1883, in __call__\n",
      "    return self.func(*args)\n",
      "  File \"C:\\Users\\dsola\\anaconda3\\lib\\tkinter\\__init__.py\", line 804, in callit\n",
      "    func(*args)\n",
      "  File \"C:\\Users\\dsola\\anaconda3\\lib\\site-packages\\matplotlib\\backends\\_backend_tk.py\", line 253, in idle_draw\n",
      "    self.draw()\n",
      "  File \"C:\\Users\\dsola\\anaconda3\\lib\\site-packages\\matplotlib\\backends\\backend_tkagg.py\", line 9, in draw\n",
      "    super(FigureCanvasTkAgg, self).draw()\n",
      "  File \"C:\\Users\\dsola\\anaconda3\\lib\\site-packages\\matplotlib\\backends\\backend_agg.py\", line 407, in draw\n",
      "    self.figure.draw(self.renderer)\n",
      "  File \"C:\\Users\\dsola\\anaconda3\\lib\\site-packages\\matplotlib\\backend_bases.py\", line 1544, in _draw\n",
      "    def _draw(renderer): raise Done(renderer)\n",
      "matplotlib.backend_bases._get_renderer.<locals>.Done: <matplotlib.backends.backend_agg.RendererAgg object at 0x0000022F416EC460>\n"
     ]
    },
    {
     "data": {
      "image/png": "[encoded data removed]",
      "text/plain": [
       "<Figure size 1080x360 with 1 Axes>"
      ]
     },
     "metadata": {
      "needs_background": "light"
     },
     "output_type": "display_data"
    }
   ],
   "source": [
    "df = data[['CO','year']].groupby([\"year\"]).mean().reset_index().sort_values(by='year',ascending=False)\n",
    "f,ax=plt.subplots(figsize=(15,5))\n",
    "sns.pointplot(x='year', y='CO', data=df,markers='o', color='steelblue')"
   ]
  },
  {
   "cell_type": "code",
   "execution_count": 33,
   "metadata": {},
   "outputs": [
    {
     "data": {
      "text/plain": [
       "<AxesSubplot:xlabel='year', ylabel='SO2'>"
      ]
     },
     "execution_count": 33,
     "metadata": {},
     "output_type": "execute_result"
    },
    {
     "name": "stderr",
     "output_type": "stream",
     "text": [
      "Exception in Tkinter callback\n",
      "Traceback (most recent call last):\n",
      "  File \"C:\\Users\\dsola\\anaconda3\\lib\\tkinter\\__init__.py\", line 1883, in __call__\n",
      "    return self.func(*args)\n",
      "  File \"C:\\Users\\dsola\\anaconda3\\lib\\tkinter\\__init__.py\", line 804, in callit\n",
      "    func(*args)\n",
      "  File \"C:\\Users\\dsola\\anaconda3\\lib\\site-packages\\matplotlib\\backends\\_backend_tk.py\", line 253, in idle_draw\n",
      "    self.draw()\n",
      "  File \"C:\\Users\\dsola\\anaconda3\\lib\\site-packages\\matplotlib\\backends\\backend_tkagg.py\", line 9, in draw\n",
      "    super(FigureCanvasTkAgg, self).draw()\n",
      "  File \"C:\\Users\\dsola\\anaconda3\\lib\\site-packages\\matplotlib\\backends\\backend_agg.py\", line 407, in draw\n",
      "    self.figure.draw(self.renderer)\n",
      "  File \"C:\\Users\\dsola\\anaconda3\\lib\\site-packages\\matplotlib\\backend_bases.py\", line 1544, in _draw\n",
      "    def _draw(renderer): raise Done(renderer)\n",
      "matplotlib.backend_bases._get_renderer.<locals>.Done: <matplotlib.backends.backend_agg.RendererAgg object at 0x0000022F490C4970>\n",
      "Exception in Tkinter callback\n",
      "Traceback (most recent call last):\n",
      "  File \"C:\\Users\\dsola\\anaconda3\\lib\\tkinter\\__init__.py\", line 1883, in __call__\n",
      "    return self.func(*args)\n",
      "  File \"C:\\Users\\dsola\\anaconda3\\lib\\site-packages\\matplotlib\\backends\\_backend_tk.py\", line 242, in resize\n",
      "    self.draw()\n",
      "  File \"C:\\Users\\dsola\\anaconda3\\lib\\site-packages\\matplotlib\\backends\\backend_tkagg.py\", line 9, in draw\n",
      "    super(FigureCanvasTkAgg, self).draw()\n",
      "  File \"C:\\Users\\dsola\\anaconda3\\lib\\site-packages\\matplotlib\\backends\\backend_agg.py\", line 407, in draw\n",
      "    self.figure.draw(self.renderer)\n",
      "  File \"C:\\Users\\dsola\\anaconda3\\lib\\site-packages\\matplotlib\\backend_bases.py\", line 1544, in _draw\n",
      "    def _draw(renderer): raise Done(renderer)\n",
      "matplotlib.backend_bases._get_renderer.<locals>.Done: <matplotlib.backends.backend_agg.RendererAgg object at 0x0000022F490C4970>\n",
      "Exception in Tkinter callback\n",
      "Traceback (most recent call last):\n",
      "  File \"C:\\Users\\dsola\\anaconda3\\lib\\tkinter\\__init__.py\", line 1883, in __call__\n",
      "    return self.func(*args)\n",
      "  File \"C:\\Users\\dsola\\anaconda3\\lib\\tkinter\\__init__.py\", line 804, in callit\n",
      "    func(*args)\n",
      "  File \"C:\\Users\\dsola\\anaconda3\\lib\\site-packages\\matplotlib\\backends\\_backend_tk.py\", line 253, in idle_draw\n",
      "    self.draw()\n",
      "  File \"C:\\Users\\dsola\\anaconda3\\lib\\site-packages\\matplotlib\\backends\\backend_tkagg.py\", line 9, in draw\n",
      "    super(FigureCanvasTkAgg, self).draw()\n",
      "  File \"C:\\Users\\dsola\\anaconda3\\lib\\site-packages\\matplotlib\\backends\\backend_agg.py\", line 407, in draw\n",
      "    self.figure.draw(self.renderer)\n",
      "  File \"C:\\Users\\dsola\\anaconda3\\lib\\site-packages\\matplotlib\\backend_bases.py\", line 1544, in _draw\n",
      "    def _draw(renderer): raise Done(renderer)\n",
      "matplotlib.backend_bases._get_renderer.<locals>.Done: <matplotlib.backends.backend_agg.RendererAgg object at 0x0000022F490C4970>\n"
     ]
    },
    {
     "data": {
      "image/png": "[encoded data removed]",
      "text/plain": [
       "<Figure size 1080x360 with 1 Axes>"
      ]
     },
     "metadata": {
      "needs_background": "light"
     },
     "output_type": "display_data"
    }
   ],
   "source": [
    "df = data[['SO2','year']].groupby([\"year\"]).mean().reset_index().sort_values(by='year',ascending=False)\n",
    "f,ax=plt.subplots(figsize=(15,5))\n",
    "sns.pointplot(x='year', y='SO2', data=df,markers='o', color='steelblue')"
   ]
  },
  {
   "cell_type": "code",
   "execution_count": 34,
   "metadata": {},
   "outputs": [
    {
     "data": {
      "text/plain": [
       "<AxesSubplot:xlabel='year', ylabel='O3'>"
      ]
     },
     "execution_count": 34,
     "metadata": {},
     "output_type": "execute_result"
    },
    {
     "name": "stderr",
     "output_type": "stream",
     "text": [
      "Exception in Tkinter callback\n",
      "Traceback (most recent call last):\n",
      "  File \"C:\\Users\\dsola\\anaconda3\\lib\\tkinter\\__init__.py\", line 1883, in __call__\n",
      "    return self.func(*args)\n",
      "  File \"C:\\Users\\dsola\\anaconda3\\lib\\tkinter\\__init__.py\", line 804, in callit\n",
      "    func(*args)\n",
      "  File \"C:\\Users\\dsola\\anaconda3\\lib\\site-packages\\matplotlib\\backends\\_backend_tk.py\", line 253, in idle_draw\n",
      "    self.draw()\n",
      "  File \"C:\\Users\\dsola\\anaconda3\\lib\\site-packages\\matplotlib\\backends\\backend_tkagg.py\", line 9, in draw\n",
      "    super(FigureCanvasTkAgg, self).draw()\n",
      "  File \"C:\\Users\\dsola\\anaconda3\\lib\\site-packages\\matplotlib\\backends\\backend_agg.py\", line 407, in draw\n",
      "    self.figure.draw(self.renderer)\n",
      "  File \"C:\\Users\\dsola\\anaconda3\\lib\\site-packages\\matplotlib\\backend_bases.py\", line 1544, in _draw\n",
      "    def _draw(renderer): raise Done(renderer)\n",
      "matplotlib.backend_bases._get_renderer.<locals>.Done: <matplotlib.backends.backend_agg.RendererAgg object at 0x0000022F416543D0>\n",
      "Exception in Tkinter callback\n",
      "Traceback (most recent call last):\n",
      "  File \"C:\\Users\\dsola\\anaconda3\\lib\\tkinter\\__init__.py\", line 1883, in __call__\n",
      "    return self.func(*args)\n",
      "  File \"C:\\Users\\dsola\\anaconda3\\lib\\site-packages\\matplotlib\\backends\\_backend_tk.py\", line 242, in resize\n",
      "    self.draw()\n",
      "  File \"C:\\Users\\dsola\\anaconda3\\lib\\site-packages\\matplotlib\\backends\\backend_tkagg.py\", line 9, in draw\n",
      "    super(FigureCanvasTkAgg, self).draw()\n",
      "  File \"C:\\Users\\dsola\\anaconda3\\lib\\site-packages\\matplotlib\\backends\\backend_agg.py\", line 407, in draw\n",
      "    self.figure.draw(self.renderer)\n",
      "  File \"C:\\Users\\dsola\\anaconda3\\lib\\site-packages\\matplotlib\\backend_bases.py\", line 1544, in _draw\n",
      "    def _draw(renderer): raise Done(renderer)\n",
      "matplotlib.backend_bases._get_renderer.<locals>.Done: <matplotlib.backends.backend_agg.RendererAgg object at 0x0000022F416543D0>\n",
      "Exception in Tkinter callback\n",
      "Traceback (most recent call last):\n",
      "  File \"C:\\Users\\dsola\\anaconda3\\lib\\tkinter\\__init__.py\", line 1883, in __call__\n",
      "    return self.func(*args)\n",
      "  File \"C:\\Users\\dsola\\anaconda3\\lib\\tkinter\\__init__.py\", line 804, in callit\n",
      "    func(*args)\n",
      "  File \"C:\\Users\\dsola\\anaconda3\\lib\\site-packages\\matplotlib\\backends\\_backend_tk.py\", line 253, in idle_draw\n",
      "    self.draw()\n",
      "  File \"C:\\Users\\dsola\\anaconda3\\lib\\site-packages\\matplotlib\\backends\\backend_tkagg.py\", line 9, in draw\n",
      "    super(FigureCanvasTkAgg, self).draw()\n",
      "  File \"C:\\Users\\dsola\\anaconda3\\lib\\site-packages\\matplotlib\\backends\\backend_agg.py\", line 407, in draw\n",
      "    self.figure.draw(self.renderer)\n",
      "  File \"C:\\Users\\dsola\\anaconda3\\lib\\site-packages\\matplotlib\\backend_bases.py\", line 1544, in _draw\n",
      "    def _draw(renderer): raise Done(renderer)\n",
      "matplotlib.backend_bases._get_renderer.<locals>.Done: <matplotlib.backends.backend_agg.RendererAgg object at 0x0000022F416543D0>\n"
     ]
    },
    {
     "data": {
      "image/png": "[encoded data removed]",
      "text/plain": [
       "<Figure size 1080x360 with 1 Axes>"
      ]
     },
     "metadata": {
      "needs_background": "light"
     },
     "output_type": "display_data"
    }
   ],
   "source": [
    "df = data[['O3','year']].groupby([\"year\"]).mean().reset_index().sort_values(by='year',ascending=False)\n",
    "f,ax=plt.subplots(figsize=(15,5))\n",
    "sns.pointplot(x='year', y='O3', data=df,markers='o', color='steelblue')"
   ]
  },
  {
   "cell_type": "code",
   "execution_count": 35,
   "metadata": {},
   "outputs": [
    {
     "data": {
      "text/plain": [
       "<AxesSubplot:xlabel='year', ylabel='NO2'>"
      ]
     },
     "execution_count": 35,
     "metadata": {},
     "output_type": "execute_result"
    },
    {
     "name": "stderr",
     "output_type": "stream",
     "text": [
      "Exception in Tkinter callback\n",
      "Traceback (most recent call last):\n",
      "  File \"C:\\Users\\dsola\\anaconda3\\lib\\tkinter\\__init__.py\", line 1883, in __call__\n",
      "    return self.func(*args)\n",
      "  File \"C:\\Users\\dsola\\anaconda3\\lib\\tkinter\\__init__.py\", line 804, in callit\n",
      "    func(*args)\n",
      "  File \"C:\\Users\\dsola\\anaconda3\\lib\\site-packages\\matplotlib\\backends\\_backend_tk.py\", line 253, in idle_draw\n",
      "    self.draw()\n",
      "  File \"C:\\Users\\dsola\\anaconda3\\lib\\site-packages\\matplotlib\\backends\\backend_tkagg.py\", line 9, in draw\n",
      "    super(FigureCanvasTkAgg, self).draw()\n",
      "  File \"C:\\Users\\dsola\\anaconda3\\lib\\site-packages\\matplotlib\\backends\\backend_agg.py\", line 407, in draw\n",
      "    self.figure.draw(self.renderer)\n",
      "  File \"C:\\Users\\dsola\\anaconda3\\lib\\site-packages\\matplotlib\\backend_bases.py\", line 1544, in _draw\n",
      "    def _draw(renderer): raise Done(renderer)\n",
      "matplotlib.backend_bases._get_renderer.<locals>.Done: <matplotlib.backends.backend_agg.RendererAgg object at 0x0000022F417072E0>\n",
      "Exception in Tkinter callback\n",
      "Traceback (most recent call last):\n",
      "  File \"C:\\Users\\dsola\\anaconda3\\lib\\tkinter\\__init__.py\", line 1883, in __call__\n",
      "    return self.func(*args)\n",
      "  File \"C:\\Users\\dsola\\anaconda3\\lib\\site-packages\\matplotlib\\backends\\_backend_tk.py\", line 242, in resize\n",
      "    self.draw()\n",
      "  File \"C:\\Users\\dsola\\anaconda3\\lib\\site-packages\\matplotlib\\backends\\backend_tkagg.py\", line 9, in draw\n",
      "    super(FigureCanvasTkAgg, self).draw()\n",
      "  File \"C:\\Users\\dsola\\anaconda3\\lib\\site-packages\\matplotlib\\backends\\backend_agg.py\", line 407, in draw\n",
      "    self.figure.draw(self.renderer)\n",
      "  File \"C:\\Users\\dsola\\anaconda3\\lib\\site-packages\\matplotlib\\backend_bases.py\", line 1544, in _draw\n",
      "    def _draw(renderer): raise Done(renderer)\n",
      "matplotlib.backend_bases._get_renderer.<locals>.Done: <matplotlib.backends.backend_agg.RendererAgg object at 0x0000022F417072E0>\n",
      "Exception in Tkinter callback\n",
      "Traceback (most recent call last):\n",
      "  File \"C:\\Users\\dsola\\anaconda3\\lib\\tkinter\\__init__.py\", line 1883, in __call__\n",
      "    return self.func(*args)\n",
      "  File \"C:\\Users\\dsola\\anaconda3\\lib\\tkinter\\__init__.py\", line 804, in callit\n",
      "    func(*args)\n",
      "  File \"C:\\Users\\dsola\\anaconda3\\lib\\site-packages\\matplotlib\\backends\\_backend_tk.py\", line 253, in idle_draw\n",
      "    self.draw()\n",
      "  File \"C:\\Users\\dsola\\anaconda3\\lib\\site-packages\\matplotlib\\backends\\backend_tkagg.py\", line 9, in draw\n",
      "    super(FigureCanvasTkAgg, self).draw()\n",
      "  File \"C:\\Users\\dsola\\anaconda3\\lib\\site-packages\\matplotlib\\backends\\backend_agg.py\", line 407, in draw\n",
      "    self.figure.draw(self.renderer)\n",
      "  File \"C:\\Users\\dsola\\anaconda3\\lib\\site-packages\\matplotlib\\backend_bases.py\", line 1544, in _draw\n",
      "    def _draw(renderer): raise Done(renderer)\n",
      "matplotlib.backend_bases._get_renderer.<locals>.Done: <matplotlib.backends.backend_agg.RendererAgg object at 0x0000022F417072E0>\n"
     ]
    },
    {
     "data": {
      "image/png": "[encoded data removed]",
      "text/plain": [
       "<Figure size 1080x360 with 1 Axes>"
      ]
     },
     "metadata": {
      "needs_background": "light"
     },
     "output_type": "display_data"
    }
   ],
   "source": [
    "df = data[['NO2','year']].groupby([\"year\"]).mean().reset_index().sort_values(by='year',ascending=False)\n",
    "f,ax=plt.subplots(figsize=(15,5))\n",
    "sns.pointplot(x='year', y='NO2', data=df,markers='o', color='steelblue')"
   ]
  },
  {
   "cell_type": "code",
   "execution_count": 36,
   "metadata": {},
   "outputs": [
    {
     "data": {
      "text/plain": [
       "<AxesSubplot:xlabel='month', ylabel='SO2'>"
      ]
     },
     "execution_count": 36,
     "metadata": {},
     "output_type": "execute_result"
    },
    {
     "name": "stderr",
     "output_type": "stream",
     "text": [
      "Exception in Tkinter callback\n",
      "Traceback (most recent call last):\n",
      "  File \"C:\\Users\\dsola\\anaconda3\\lib\\tkinter\\__init__.py\", line 1883, in __call__\n",
      "    return self.func(*args)\n",
      "  File \"C:\\Users\\dsola\\anaconda3\\lib\\tkinter\\__init__.py\", line 804, in callit\n",
      "    func(*args)\n",
      "  File \"C:\\Users\\dsola\\anaconda3\\lib\\site-packages\\matplotlib\\backends\\_backend_tk.py\", line 253, in idle_draw\n",
      "    self.draw()\n",
      "  File \"C:\\Users\\dsola\\anaconda3\\lib\\site-packages\\matplotlib\\backends\\backend_tkagg.py\", line 9, in draw\n",
      "    super(FigureCanvasTkAgg, self).draw()\n",
      "  File \"C:\\Users\\dsola\\anaconda3\\lib\\site-packages\\matplotlib\\backends\\backend_agg.py\", line 407, in draw\n",
      "    self.figure.draw(self.renderer)\n",
      "  File \"C:\\Users\\dsola\\anaconda3\\lib\\site-packages\\matplotlib\\backend_bases.py\", line 1544, in _draw\n",
      "    def _draw(renderer): raise Done(renderer)\n",
      "matplotlib.backend_bases._get_renderer.<locals>.Done: <matplotlib.backends.backend_agg.RendererAgg object at 0x0000022F495F3A30>\n",
      "Exception in Tkinter callback\n",
      "Traceback (most recent call last):\n",
      "  File \"C:\\Users\\dsola\\anaconda3\\lib\\tkinter\\__init__.py\", line 1883, in __call__\n",
      "    return self.func(*args)\n",
      "  File \"C:\\Users\\dsola\\anaconda3\\lib\\site-packages\\matplotlib\\backends\\_backend_tk.py\", line 242, in resize\n",
      "    self.draw()\n",
      "  File \"C:\\Users\\dsola\\anaconda3\\lib\\site-packages\\matplotlib\\backends\\backend_tkagg.py\", line 9, in draw\n",
      "    super(FigureCanvasTkAgg, self).draw()\n",
      "  File \"C:\\Users\\dsola\\anaconda3\\lib\\site-packages\\matplotlib\\backends\\backend_agg.py\", line 407, in draw\n",
      "    self.figure.draw(self.renderer)\n",
      "  File \"C:\\Users\\dsola\\anaconda3\\lib\\site-packages\\matplotlib\\backend_bases.py\", line 1544, in _draw\n",
      "    def _draw(renderer): raise Done(renderer)\n",
      "matplotlib.backend_bases._get_renderer.<locals>.Done: <matplotlib.backends.backend_agg.RendererAgg object at 0x0000022F495F3A30>\n",
      "Exception in Tkinter callback\n",
      "Traceback (most recent call last):\n",
      "  File \"C:\\Users\\dsola\\anaconda3\\lib\\tkinter\\__init__.py\", line 1883, in __call__\n",
      "    return self.func(*args)\n",
      "  File \"C:\\Users\\dsola\\anaconda3\\lib\\tkinter\\__init__.py\", line 804, in callit\n",
      "    func(*args)\n",
      "  File \"C:\\Users\\dsola\\anaconda3\\lib\\site-packages\\matplotlib\\backends\\_backend_tk.py\", line 253, in idle_draw\n",
      "    self.draw()\n",
      "  File \"C:\\Users\\dsola\\anaconda3\\lib\\site-packages\\matplotlib\\backends\\backend_tkagg.py\", line 9, in draw\n",
      "    super(FigureCanvasTkAgg, self).draw()\n",
      "  File \"C:\\Users\\dsola\\anaconda3\\lib\\site-packages\\matplotlib\\backends\\backend_agg.py\", line 407, in draw\n",
      "    self.figure.draw(self.renderer)\n",
      "  File \"C:\\Users\\dsola\\anaconda3\\lib\\site-packages\\matplotlib\\backend_bases.py\", line 1544, in _draw\n",
      "    def _draw(renderer): raise Done(renderer)\n",
      "matplotlib.backend_bases._get_renderer.<locals>.Done: <matplotlib.backends.backend_agg.RendererAgg object at 0x0000022F495F3A30>\n"
     ]
    },
    {
     "data": {
      "image/png": "[encoded data removed]",
      "text/plain": [
       "<Figure size 1080x360 with 1 Axes>"
      ]
     },
     "metadata": {
      "needs_background": "light"
     },
     "output_type": "display_data"
    }
   ],
   "source": [
    "data.month.replace([1,2,3,4,5,6,7,8,9,10,11,12], ['Jan', 'Feb','Mar','Apr','May','Jun','Jul','Aug','Sep','Oct','Nov','Dec'], inplace=True)\n",
    "custom_dict = {'Jan':0, 'Feb':1,'Mar':2,'Apr':3,'May':4,'Jun':5,'Jul':6,'Aug':7,'Sep':8,'Oct':9,'Nov':10,'Dec':11}\n",
    "df = data[['SO2','month','station']].groupby([\"month\"]).median().reset_index().sort_values(by='month',ascending=True)\n",
    "df = df.iloc[df['month'].map(custom_dict).argsort()]\n",
    "f,ax=plt.subplots(figsize=(15,5))\n",
    "sns.pointplot(x='month', y='SO2', data=df)"
   ]
  },
  {
   "cell_type": "markdown",
   "metadata": {},
   "source": [
    "Now to find out more about the pollutants in the atmosphere, we have categorized them as follows.The Air Quality Index is divided into 6 cateogories. These cateogories are explained below. These categories define how the pollutant affects various age groups and demographics of the society"
   ]
  },
  {
   "cell_type": "markdown",
   "metadata": {},
   "source": [
    "![Air Quality Index](AQI.png)"
   ]
  },
  {
   "cell_type": "code",
   "execution_count": 37,
   "metadata": {},
   "outputs": [
    {
     "data": {
      "text/plain": [
       "Text(0, 0.5, 'Maximum Temp for Particle Size PM2.5')"
      ]
     },
     "execution_count": 37,
     "metadata": {},
     "output_type": "execute_result"
    },
    {
     "name": "stderr",
     "output_type": "stream",
     "text": [
      "Exception in Tkinter callback\n",
      "Traceback (most recent call last):\n",
      "  File \"C:\\Users\\dsola\\anaconda3\\lib\\tkinter\\__init__.py\", line 1883, in __call__\n",
      "    return self.func(*args)\n",
      "  File \"C:\\Users\\dsola\\anaconda3\\lib\\tkinter\\__init__.py\", line 804, in callit\n",
      "    func(*args)\n",
      "  File \"C:\\Users\\dsola\\anaconda3\\lib\\site-packages\\matplotlib\\backends\\_backend_tk.py\", line 253, in idle_draw\n",
      "    self.draw()\n",
      "  File \"C:\\Users\\dsola\\anaconda3\\lib\\site-packages\\matplotlib\\backends\\backend_tkagg.py\", line 9, in draw\n",
      "    super(FigureCanvasTkAgg, self).draw()\n",
      "  File \"C:\\Users\\dsola\\anaconda3\\lib\\site-packages\\matplotlib\\backends\\backend_agg.py\", line 407, in draw\n",
      "    self.figure.draw(self.renderer)\n",
      "  File \"C:\\Users\\dsola\\anaconda3\\lib\\site-packages\\matplotlib\\backend_bases.py\", line 1544, in _draw\n",
      "    def _draw(renderer): raise Done(renderer)\n",
      "matplotlib.backend_bases._get_renderer.<locals>.Done: <matplotlib.backends.backend_agg.RendererAgg object at 0x0000022F41429610>\n",
      "Exception in Tkinter callback\n",
      "Traceback (most recent call last):\n",
      "  File \"C:\\Users\\dsola\\anaconda3\\lib\\tkinter\\__init__.py\", line 1883, in __call__\n",
      "    return self.func(*args)\n",
      "  File \"C:\\Users\\dsola\\anaconda3\\lib\\site-packages\\matplotlib\\backends\\_backend_tk.py\", line 242, in resize\n",
      "    self.draw()\n",
      "  File \"C:\\Users\\dsola\\anaconda3\\lib\\site-packages\\matplotlib\\backends\\backend_tkagg.py\", line 9, in draw\n",
      "    super(FigureCanvasTkAgg, self).draw()\n",
      "  File \"C:\\Users\\dsola\\anaconda3\\lib\\site-packages\\matplotlib\\backends\\backend_agg.py\", line 407, in draw\n",
      "    self.figure.draw(self.renderer)\n",
      "  File \"C:\\Users\\dsola\\anaconda3\\lib\\site-packages\\matplotlib\\backend_bases.py\", line 1544, in _draw\n",
      "    def _draw(renderer): raise Done(renderer)\n",
      "matplotlib.backend_bases._get_renderer.<locals>.Done: <matplotlib.backends.backend_agg.RendererAgg object at 0x0000022F41429610>\n",
      "Exception in Tkinter callback\n",
      "Traceback (most recent call last):\n",
      "  File \"C:\\Users\\dsola\\anaconda3\\lib\\tkinter\\__init__.py\", line 1883, in __call__\n",
      "    return self.func(*args)\n",
      "  File \"C:\\Users\\dsola\\anaconda3\\lib\\tkinter\\__init__.py\", line 804, in callit\n",
      "    func(*args)\n",
      "  File \"C:\\Users\\dsola\\anaconda3\\lib\\site-packages\\matplotlib\\backends\\_backend_tk.py\", line 253, in idle_draw\n",
      "    self.draw()\n",
      "  File \"C:\\Users\\dsola\\anaconda3\\lib\\site-packages\\matplotlib\\backends\\backend_tkagg.py\", line 9, in draw\n",
      "    super(FigureCanvasTkAgg, self).draw()\n",
      "  File \"C:\\Users\\dsola\\anaconda3\\lib\\site-packages\\matplotlib\\backends\\backend_agg.py\", line 407, in draw\n",
      "    self.figure.draw(self.renderer)\n",
      "  File \"C:\\Users\\dsola\\anaconda3\\lib\\site-packages\\matplotlib\\backend_bases.py\", line 1544, in _draw\n",
      "    def _draw(renderer): raise Done(renderer)\n",
      "matplotlib.backend_bases._get_renderer.<locals>.Done: <matplotlib.backends.backend_agg.RendererAgg object at 0x0000022F41429610>\n"
     ]
    },
    {
     "data": {
      "image/png": "[encoded data removed]",
      "text/plain": [
       "<Figure size 432x288 with 1 Axes>"
      ]
     },
     "metadata": {
      "needs_background": "light"
     },
     "output_type": "display_data"
    }
   ],
   "source": [
    "import matplotlib\n",
    "matplotlib.use(\"TkAgg\")\n",
    "data['pm25_bins'] = pd.cut(data['PM25_AQI'], [0.0,50.0,100.0,150.0,200.0,300,400,500], labels=['H', 'M', 'US','Un','VeUn','Haz','ExHaz'])\n",
    "\n",
    "# numpy = data.groupby([\"\"])[\"TEMP\"].mean()\n",
    "# y1 = numpy < max(numpy)\n",
    "# y2 = numpy >= max(numpy)\n",
    "numpy = data.groupby([\"pm25_bins\"])[\"TEMP\"].max()\n",
    "\n",
    "pyplot.bar(data['pm25_bins'].unique(), numpy, color='steelblue')\n",
    "# pyplot.bar(data['pm25_bins'].unique(), numpy, color='tomato')\n",
    "pyplot.xlabel('Quality of Air')\n",
    "pyplot.ylabel('Maximum Temp for Particle Size PM2.5')\n"
   ]
  },
  {
   "cell_type": "code",
   "execution_count": 38,
   "metadata": {},
   "outputs": [
    {
     "data": {
      "text/plain": [
       "Text(0, 0.5, 'Maximum Temp for Particle Size PM10')"
      ]
     },
     "execution_count": 38,
     "metadata": {},
     "output_type": "execute_result"
    },
    {
     "name": "stderr",
     "output_type": "stream",
     "text": [
      "Exception in Tkinter callback\n",
      "Traceback (most recent call last):\n",
      "  File \"C:\\Users\\dsola\\anaconda3\\lib\\tkinter\\__init__.py\", line 1883, in __call__\n",
      "    return self.func(*args)\n",
      "  File \"C:\\Users\\dsola\\anaconda3\\lib\\tkinter\\__init__.py\", line 804, in callit\n",
      "    func(*args)\n",
      "  File \"C:\\Users\\dsola\\anaconda3\\lib\\site-packages\\matplotlib\\backends\\_backend_tk.py\", line 253, in idle_draw\n",
      "    self.draw()\n",
      "  File \"C:\\Users\\dsola\\anaconda3\\lib\\site-packages\\matplotlib\\backends\\backend_tkagg.py\", line 9, in draw\n",
      "    super(FigureCanvasTkAgg, self).draw()\n",
      "  File \"C:\\Users\\dsola\\anaconda3\\lib\\site-packages\\matplotlib\\backends\\backend_agg.py\", line 407, in draw\n",
      "    self.figure.draw(self.renderer)\n",
      "  File \"C:\\Users\\dsola\\anaconda3\\lib\\site-packages\\matplotlib\\backend_bases.py\", line 1544, in _draw\n",
      "    def _draw(renderer): raise Done(renderer)\n",
      "matplotlib.backend_bases._get_renderer.<locals>.Done: <matplotlib.backends.backend_agg.RendererAgg object at 0x0000022F4149B6D0>\n",
      "Exception in Tkinter callback\n",
      "Traceback (most recent call last):\n",
      "  File \"C:\\Users\\dsola\\anaconda3\\lib\\tkinter\\__init__.py\", line 1883, in __call__\n",
      "    return self.func(*args)\n",
      "  File \"C:\\Users\\dsola\\anaconda3\\lib\\site-packages\\matplotlib\\backends\\_backend_tk.py\", line 242, in resize\n",
      "    self.draw()\n",
      "  File \"C:\\Users\\dsola\\anaconda3\\lib\\site-packages\\matplotlib\\backends\\backend_tkagg.py\", line 9, in draw\n",
      "    super(FigureCanvasTkAgg, self).draw()\n",
      "  File \"C:\\Users\\dsola\\anaconda3\\lib\\site-packages\\matplotlib\\backends\\backend_agg.py\", line 407, in draw\n",
      "    self.figure.draw(self.renderer)\n",
      "  File \"C:\\Users\\dsola\\anaconda3\\lib\\site-packages\\matplotlib\\backend_bases.py\", line 1544, in _draw\n",
      "    def _draw(renderer): raise Done(renderer)\n",
      "matplotlib.backend_bases._get_renderer.<locals>.Done: <matplotlib.backends.backend_agg.RendererAgg object at 0x0000022F4149B6D0>\n",
      "Exception in Tkinter callback\n",
      "Traceback (most recent call last):\n",
      "  File \"C:\\Users\\dsola\\anaconda3\\lib\\tkinter\\__init__.py\", line 1883, in __call__\n",
      "    return self.func(*args)\n",
      "  File \"C:\\Users\\dsola\\anaconda3\\lib\\tkinter\\__init__.py\", line 804, in callit\n",
      "    func(*args)\n",
      "  File \"C:\\Users\\dsola\\anaconda3\\lib\\site-packages\\matplotlib\\backends\\_backend_tk.py\", line 253, in idle_draw\n",
      "    self.draw()\n",
      "  File \"C:\\Users\\dsola\\anaconda3\\lib\\site-packages\\matplotlib\\backends\\backend_tkagg.py\", line 9, in draw\n",
      "    super(FigureCanvasTkAgg, self).draw()\n",
      "  File \"C:\\Users\\dsola\\anaconda3\\lib\\site-packages\\matplotlib\\backends\\backend_agg.py\", line 407, in draw\n",
      "    self.figure.draw(self.renderer)\n",
      "  File \"C:\\Users\\dsola\\anaconda3\\lib\\site-packages\\matplotlib\\backend_bases.py\", line 1544, in _draw\n",
      "    def _draw(renderer): raise Done(renderer)\n",
      "matplotlib.backend_bases._get_renderer.<locals>.Done: <matplotlib.backends.backend_agg.RendererAgg object at 0x0000022F4149B6D0>\n"
     ]
    },
    {
     "data": {
      "image/png": "[encoded data removed]",
      "text/plain": [
       "<Figure size 432x288 with 1 Axes>"
      ]
     },
     "metadata": {
      "needs_background": "light"
     },
     "output_type": "display_data"
    }
   ],
   "source": [
    "data['pm10_bins'] = pd.cut(data['PM10_AQI'], [0.0,50.0,100.0,150.0,200.0,300,400,500], labels=['H', 'M', 'US','Un','VeUn','Haz','ExHaz'])\n",
    "\n",
    "# numpy = data.groupby([\"\"])[\"TEMP\"].mean()\n",
    "y1 = numpy < max(numpy)\n",
    "y2 = numpy >= max(numpy)\n",
    "numpy = data.groupby([\"pm10_bins\"])[\"TEMP\"].max()\n",
    "\n",
    "pyplot.bar(data['pm10_bins'].unique(), numpy, color='steelblue')\n",
    "# pyplot.bar(data['pm10_bins'].unique(), numpy, color='tomato')\n",
    "pyplot.xlabel('Quality of Air')\n",
    "pyplot.ylabel('Maximum Temp for Particle Size PM10')"
   ]
  },
  {
   "cell_type": "code",
   "execution_count": 39,
   "metadata": {},
   "outputs": [
    {
     "data": {
      "text/plain": [
       "Text(0, 0.5, 'Average Concentration of SO2 Gas')"
      ]
     },
     "execution_count": 39,
     "metadata": {},
     "output_type": "execute_result"
    },
    {
     "name": "stderr",
     "output_type": "stream",
     "text": [
      "Exception in Tkinter callback\n",
      "Traceback (most recent call last):\n",
      "  File \"C:\\Users\\dsola\\anaconda3\\lib\\tkinter\\__init__.py\", line 1883, in __call__\n",
      "    return self.func(*args)\n",
      "  File \"C:\\Users\\dsola\\anaconda3\\lib\\tkinter\\__init__.py\", line 804, in callit\n",
      "    func(*args)\n",
      "  File \"C:\\Users\\dsola\\anaconda3\\lib\\site-packages\\matplotlib\\backends\\_backend_tk.py\", line 253, in idle_draw\n",
      "    self.draw()\n",
      "  File \"C:\\Users\\dsola\\anaconda3\\lib\\site-packages\\matplotlib\\backends\\backend_tkagg.py\", line 9, in draw\n",
      "    super(FigureCanvasTkAgg, self).draw()\n",
      "  File \"C:\\Users\\dsola\\anaconda3\\lib\\site-packages\\matplotlib\\backends\\backend_agg.py\", line 407, in draw\n",
      "    self.figure.draw(self.renderer)\n",
      "  File \"C:\\Users\\dsola\\anaconda3\\lib\\site-packages\\matplotlib\\backend_bases.py\", line 1544, in _draw\n",
      "    def _draw(renderer): raise Done(renderer)\n",
      "matplotlib.backend_bases._get_renderer.<locals>.Done: <matplotlib.backends.backend_agg.RendererAgg object at 0x0000022F414FF760>\n",
      "Exception in Tkinter callback\n",
      "Traceback (most recent call last):\n",
      "  File \"C:\\Users\\dsola\\anaconda3\\lib\\tkinter\\__init__.py\", line 1883, in __call__\n",
      "    return self.func(*args)\n",
      "  File \"C:\\Users\\dsola\\anaconda3\\lib\\site-packages\\matplotlib\\backends\\_backend_tk.py\", line 242, in resize\n",
      "    self.draw()\n",
      "  File \"C:\\Users\\dsola\\anaconda3\\lib\\site-packages\\matplotlib\\backends\\backend_tkagg.py\", line 9, in draw\n",
      "    super(FigureCanvasTkAgg, self).draw()\n",
      "  File \"C:\\Users\\dsola\\anaconda3\\lib\\site-packages\\matplotlib\\backends\\backend_agg.py\", line 407, in draw\n",
      "    self.figure.draw(self.renderer)\n",
      "  File \"C:\\Users\\dsola\\anaconda3\\lib\\site-packages\\matplotlib\\backend_bases.py\", line 1544, in _draw\n",
      "    def _draw(renderer): raise Done(renderer)\n",
      "matplotlib.backend_bases._get_renderer.<locals>.Done: <matplotlib.backends.backend_agg.RendererAgg object at 0x0000022F414FF760>\n",
      "Exception in Tkinter callback\n",
      "Traceback (most recent call last):\n",
      "  File \"C:\\Users\\dsola\\anaconda3\\lib\\tkinter\\__init__.py\", line 1883, in __call__\n",
      "    return self.func(*args)\n",
      "  File \"C:\\Users\\dsola\\anaconda3\\lib\\tkinter\\__init__.py\", line 804, in callit\n",
      "    func(*args)\n",
      "  File \"C:\\Users\\dsola\\anaconda3\\lib\\site-packages\\matplotlib\\backends\\_backend_tk.py\", line 253, in idle_draw\n",
      "    self.draw()\n",
      "  File \"C:\\Users\\dsola\\anaconda3\\lib\\site-packages\\matplotlib\\backends\\backend_tkagg.py\", line 9, in draw\n",
      "    super(FigureCanvasTkAgg, self).draw()\n",
      "  File \"C:\\Users\\dsola\\anaconda3\\lib\\site-packages\\matplotlib\\backends\\backend_agg.py\", line 407, in draw\n",
      "    self.figure.draw(self.renderer)\n",
      "  File \"C:\\Users\\dsola\\anaconda3\\lib\\site-packages\\matplotlib\\backend_bases.py\", line 1544, in _draw\n",
      "    def _draw(renderer): raise Done(renderer)\n",
      "matplotlib.backend_bases._get_renderer.<locals>.Done: <matplotlib.backends.backend_agg.RendererAgg object at 0x0000022F414FF760>\n"
     ]
    },
    {
     "data": {
      "image/png": "[encoded data removed]",
      "text/plain": [
       "<Figure size 432x288 with 1 Axes>"
      ]
     },
     "metadata": {
      "needs_background": "light"
     },
     "output_type": "display_data"
    }
   ],
   "source": [
    "data['so_bins'] = pd.cut(data['SO2_AQI'], [0.0,50.0,100.0,150.0,200.0 ], labels=['H', 'M', 'US','Un'])\n",
    "\n",
    "# numpy = data.groupby([\"\"])[\"TEMP\"].mean()\n",
    "y1 = numpy < max(numpy)\n",
    "y2 = numpy >= max(numpy)\n",
    "numpy = data.groupby([\"so_bins\"])[\"TEMP\"].mean()\n",
    "\n",
    "pyplot.bar(data['so_bins'].unique(), numpy, color='steelblue')\n",
    "pyplot.xlabel('Quality of Air')\n",
    "pyplot.ylabel('Average Concentration of SO2 Gas')\n"
   ]
  },
  {
   "cell_type": "markdown",
   "metadata": {},
   "source": [
    "## Regression Analysis"
   ]
  },
  {
   "cell_type": "markdown",
   "metadata": {},
   "source": [
    "I used various Regression methods like simple linear regression, multiple linear regression, polynomial regression and many other regression models. However, in this Jupyter Notebook, I have only shown results of only those regression models which gave me an good score and a low error.  \n",
    "\n",
    "Therefore, importing the libraries and deciding which Regression models that can be used in order to predict the Temperature accurately and without errors. "
   ]
  },
  {
   "cell_type": "code",
   "execution_count": 40,
   "metadata": {},
   "outputs": [],
   "source": [
    "import pandas as pd\n",
    "import numpy as np\n",
    "import random\n",
    "import sklearn.metrics\n",
    "import math"
   ]
  },
  {
   "cell_type": "code",
   "execution_count": 41,
   "metadata": {},
   "outputs": [],
   "source": [
    "data = pd.read_csv(\"..\\\\Data\\\\Preprocessed Data\\\\Preprocessed_data.csv\")\n",
    "data = data.drop(['Unnamed: 0','No'], axis = 1)"
   ]
  },
  {
   "cell_type": "markdown",
   "metadata": {},
   "source": [
    "#### There are 3 models created in order to depict the importance of feature creation and predict the temperature based on other attributes. \n",
    "\n",
    "Feature1 : Uses Pressure, Rain, and Wind speed in order to predict the temperature.\n",
    "\n",
    "Feature2 : Uses the 4 Pollutant concentration and 2 particle sizes concentration along with the previous 3 features to predict temperature.\n",
    "\n",
    "Feature3 : Uses the created features (Air quality indices of 6 pollutants) along with the previous 3 features to predict the temperature.\n",
    "\n",
    "###### The training and testing set is created. \n",
    "'y' is the target variable and only one attribute is needed to be predicted. \n",
    "\n",
    "'X1', 'X2', 'X3' are the feature sets with different types and counts of attributes. \n",
    "\n",
    "'X1_train', 'X2_train', 'X3_train' are the training sets that will be trained with 'y1_train', 'y2_train', 'y3_train' respectively."
   ]
  },
  {
   "cell_type": "code",
   "execution_count": 42,
   "metadata": {},
   "outputs": [],
   "source": [
    "temp_array = data['TEMP'].values\n",
    "y = temp_array.reshape(-1,1) "
   ]
  },
  {
   "cell_type": "code",
   "execution_count": 43,
   "metadata": {},
   "outputs": [],
   "source": [
    "feature1 = ['PRES','RAIN','WSPM', 'DEWP']\n",
    "\n",
    "feature2 = ['PM2.5','PM10','SO2','NO2','O3','CO','PRES','RAIN','WSPM', 'DEWP']\n",
    "\n",
    "feature3 = ['PM25_AQI','PM10_AQI','SO2_AQI','NO2_AQI','O3_AQI','CO_AQI','PRES','RAIN','WSPM','DEWP']\n",
    "\n",
    "X1 = data.loc[:, feature1].values\n",
    "X2 = data.loc[:, feature2].values\n",
    "X3 = data.loc[:, feature3].values"
   ]
  },
  {
   "cell_type": "code",
   "execution_count": 45,
   "metadata": {},
   "outputs": [],
   "source": [
    "from sklearn.model_selection import train_test_split\n",
    "X1_train, X1_test, y1_train, y1_test = train_test_split(X1, y, test_size = 0.2, random_state = 0)\n",
    "X2_train, X2_test, y2_train, y2_test = train_test_split(X2, y, test_size = 0.2, random_state = 0)\n",
    "X3_train, X3_test, y3_train, y3_test = train_test_split(X3, y, test_size = 0.2, random_state = 0)"
   ]
  },
  {
   "cell_type": "markdown",
   "metadata": {},
   "source": [
    "### Decision Tree Regression"
   ]
  },
  {
   "cell_type": "code",
   "execution_count": 46,
   "metadata": {},
   "outputs": [
    {
     "name": "stdout",
     "output_type": "stream",
     "text": [
      " R^2 Score with feature1 <-- on test set: 0.8796772721579974\n",
      " R^2 Score with feature2 <-- on test set: 0.8915347039782078\n",
      " R^2 Score with feature3 <-- on test set: 0.8911188155587005\n"
     ]
    }
   ],
   "source": [
    "from sklearn.tree import DecisionTreeRegressor\n",
    "\n",
    "dtree1 = DecisionTreeRegressor()\n",
    "dtree2 = DecisionTreeRegressor()\n",
    "dtree3 = DecisionTreeRegressor()\n",
    "\n",
    "dtree1.fit(X1_train, y1_train)\n",
    "\n",
    "dtree2.fit(X2_train, y2_train)\n",
    "\n",
    "dtree3.fit(X3_train, y3_train)\n",
    "\n",
    "print(\" R^2 Score with feature1 <-- on test set: {}\".format(dtree1.score(X1_test, y1_test)))\n",
    "\n",
    "print(\" R^2 Score with feature2 <-- on test set: {}\".format(dtree2.score(X2_test, y2_test)))\n",
    "\n",
    "print(\" R^2 Score with feature3 <-- on test set: {}\".format(dtree3.score(X3_test, y3_test)))"
   ]
  },
  {
   "cell_type": "markdown",
   "metadata": {},
   "source": [
    "### Ridge regression"
   ]
  },
  {
   "cell_type": "code",
   "execution_count": 47,
   "metadata": {},
   "outputs": [
    {
     "name": "stdout",
     "output_type": "stream",
     "text": [
      " R^2 Score with feature1 <-- on test set: 0.8137456586577634\n",
      " R^2 Score with feature2 <-- on test set: 0.873592083039969\n",
      " R^2 Score with feature3 <-- on test set: 0.8750426117823807\n"
     ]
    }
   ],
   "source": [
    "from sklearn.linear_model import Ridge\n",
    "\n",
    "ridge1 = Ridge(alpha = 1.0, tol = 1, solver = 'svd').fit(X1_train, y1_train)\n",
    "ridge2 = Ridge(alpha = 1.0, tol = 1, solver = 'svd').fit(X2_train, y2_train)\n",
    "ridge3 = Ridge(alpha = 1.0, tol = 1, solver = 'svd').fit(X3_train, y3_train)\n",
    "\n",
    "\n",
    "print(\" R^2 Score with feature1 <-- on test set: {}\".format(ridge1.score(X1_test, y1_test)))\n",
    "\n",
    "print(\" R^2 Score with feature2 <-- on test set: {}\".format(ridge2.score(X2_test, y2_test)))\n",
    "\n",
    "print(\" R^2 Score with feature3 <-- on test set: {}\".format(ridge3.score(X3_test, y3_test)))"
   ]
  },
  {
   "cell_type": "markdown",
   "metadata": {},
   "source": [
    "### Lasso Regression"
   ]
  },
  {
   "cell_type": "code",
   "execution_count": 48,
   "metadata": {},
   "outputs": [
    {
     "name": "stdout",
     "output_type": "stream",
     "text": [
      " R^2 Score with feature1 <-- on test set: 0.8055534761294745\n",
      " R^2 Score with feature2 <-- on test set: 0.8590315026443984\n",
      " R^2 Score with feature3 <-- on test set: 0.8650865099945046\n"
     ]
    }
   ],
   "source": [
    "from sklearn.linear_model import Lasso\n",
    "\n",
    "lasso1 = Lasso(alpha=1.0, precompute = False,selection = 'random',tol = 0.000001)\n",
    "lasso1.fit(X1_train,y1_train)\n",
    "\n",
    "lasso2 = Lasso(alpha=1.0, precompute = False,selection = 'random',tol = 0.000001)\n",
    "lasso2.fit(X2_train,y2_train)\n",
    "\n",
    "\n",
    "lasso3 = Lasso(alpha=1.0, precompute = False,selection = 'random',tol = 0.000001)\n",
    "lasso3.fit(X3_train,y3_train)\n",
    "\n",
    "\n",
    "print(\" R^2 Score with feature1 <-- on test set: {}\".format(lasso1.score(X1_test, y1_test)))\n",
    "\n",
    "print(\" R^2 Score with feature2 <-- on test set: {}\".format(lasso2.score(X2_test, y2_test)))\n",
    "\n",
    "print(\" R^2 Score with feature3 <-- on test set: {}\".format(lasso3.score(X3_test, y3_test)))"
   ]
  },
  {
   "cell_type": "markdown",
   "metadata": {},
   "source": [
    "### ElastiNet Regression"
   ]
  },
  {
   "cell_type": "code",
   "execution_count": 49,
   "metadata": {},
   "outputs": [
    {
     "name": "stdout",
     "output_type": "stream",
     "text": [
      " R^2 Score with feature1 <-- on test set: 0.8035776722446638\n",
      " R^2 Score with feature2 <-- on test set: 0.8625700148276056\n",
      " R^2 Score with feature3 <-- on test set: 0.8691704577793922\n"
     ]
    }
   ],
   "source": [
    "from sklearn.linear_model import ElasticNet\n",
    "\n",
    "enet1 = ElasticNet().fit(X1_train,y1_train)\n",
    "enet2 = ElasticNet().fit(X2_train,y2_train)\n",
    "enet3 = ElasticNet().fit(X3_train,y3_train)\n",
    "\n",
    "\n",
    "print(\" R^2 Score with feature1 <-- on test set: {}\".format(enet1.score(X1_test, y1_test)))\n",
    "\n",
    "print(\" R^2 Score with feature2 <-- on test set: {}\".format(enet2.score(X2_test, y2_test)))\n",
    "\n",
    "print(\" R^2 Score with feature3 <-- on test set: {}\".format(enet3.score(X3_test, y3_test)))\n"
   ]
  },
  {
   "cell_type": "markdown",
   "metadata": {},
   "source": [
    "\n",
    "\n",
    "Model | R^2 Score for Feature1 | R^2 Score for Feature2 | R^2 Score for Feature3\n",
    "----- | ---------------------- | ---------------------- | ---------------------- |\n",
    "DecisionTree Regression | 0.7226228398476233 |  0.7255236235567473 | 0.7254002902689967\n",
    "Ridge Regression | 0.668813412604142 | 0.7502428511220475 | 0.7507785142635952\n",
    "Lasso Regression | 0.6632206984150215 | 0.7437820410345286 | 0.7502508124379266\n",
    "ElastiNet Regression | 0.6660343309393048 | 0.7439282443449935 | 0.7504926807317898"
   ]
  },
  {
   "cell_type": "markdown",
   "metadata": {},
   "source": [
    "## Model Improvements and Metrics"
   ]
  },
  {
   "cell_type": "markdown",
   "metadata": {},
   "source": [
    "### Forward Selection"
   ]
  },
  {
   "cell_type": "markdown",
   "metadata": {},
   "source": [
    "Implemented Forward Selection in order to find the best features that will affect the data. Forward Selection creates subsets of features and analyzes the p-value using Ordinary Least Squares (OLS). The subsets with the least p-value is returned so that the null hypothesis can be rejected. We have taken the significance level of 0.05 in order to find the best features. New and Better metrics are added in order to better judge the accuracy of the model. I have now used Adjusted R^2 Score and Root Mean Square Errors in order to check accuracy.\n",
    "\n",
    "Dropping columns of whose corelation cannot be found out."
   ]
  },
  {
   "cell_type": "code",
   "execution_count": 50,
   "metadata": {},
   "outputs": [],
   "source": [
    "data1 = data.drop(['day','year','month','hour','station','TEMP'], axis = 1)"
   ]
  },
  {
   "cell_type": "code",
   "execution_count": 51,
   "metadata": {},
   "outputs": [],
   "source": [
    "from statsmodels.api import OLS\n",
    "import statsmodels.api as sm\n",
    "\n",
    "def forward_selection(data, target, significance_level=0.05):\n",
    "    initial_features = data.columns.tolist()\n",
    "    best_features = []\n",
    "    while (len(initial_features)>0):\n",
    "        remaining_features = list(set(initial_features)-set(best_features))\n",
    "        new_pval = pd.Series(index=remaining_features)\n",
    "        for new_column in remaining_features:\n",
    "            model = sm.OLS(target.astype(float), sm.add_constant(data[best_features+[new_column]]).astype(float)).fit()\n",
    "            new_pval[new_column] = model.pvalues[new_column]\n",
    "        min_p_value = new_pval.min()\n",
    "        if(min_p_value<significance_level):\n",
    "            best_features.append(new_pval.idxmin())\n",
    "        else:\n",
    "            break\n",
    "    return best_features\n",
    "target = data['TEMP']\n",
    "feature4 = forward_selection(data1,target) "
   ]
  },
  {
   "cell_type": "code",
   "execution_count": 52,
   "metadata": {},
   "outputs": [
    {
     "data": {
      "text/plain": [
       "['PM2.5',\n",
       " 'PRES',\n",
       " 'CO',\n",
       " 'PM25_AQI',\n",
       " 'wd',\n",
       " 'WSPM',\n",
       " 'NO2_AQI',\n",
       " 'O3',\n",
       " 'DEWP',\n",
       " 'PM10_AQI',\n",
       " 'RAIN',\n",
       " 'O3_AQI',\n",
       " 'CO_AQI',\n",
       " 'SO2',\n",
       " 'PM10',\n",
       " 'NO2',\n",
       " 'SO2_AQI']"
      ]
     },
     "execution_count": 52,
     "metadata": {},
     "output_type": "execute_result"
    }
   ],
   "source": [
    "feature4"
   ]
  },
  {
   "cell_type": "markdown",
   "metadata": {},
   "source": [
    "Splitting up Test-Train data for feature4"
   ]
  },
  {
   "cell_type": "code",
   "execution_count": 53,
   "metadata": {},
   "outputs": [],
   "source": [
    "X4 = data.loc[:, feature4].values\n",
    "X4_train, X4_test, y4_train, y4_test = train_test_split(X4, y, test_size = 0.2, random_state = 0)"
   ]
  },
  {
   "cell_type": "code",
   "execution_count": 54,
   "metadata": {},
   "outputs": [
    {
     "name": "stdout",
     "output_type": "stream",
     "text": [
      " R^2 Score with feature4 for DecisionTree Regressor <-- on test set: 0.8947462631191094\n"
     ]
    }
   ],
   "source": [
    "dtree4 = DecisionTreeRegressor()\n",
    "dtree4.fit(X4_train, y4_train)\n",
    "print(\" R^2 Score with feature4 for DecisionTree Regressor <-- on test set: {}\".format(dtree4.score(X4_test, y4_test)))"
   ]
  },
  {
   "cell_type": "code",
   "execution_count": 55,
   "metadata": {},
   "outputs": [
    {
     "name": "stdout",
     "output_type": "stream",
     "text": [
      " R^2 Score with feature4 <-- on test set: 0.8770333998103519\n"
     ]
    }
   ],
   "source": [
    "ridge4 = Ridge(alpha = 1.0, tol = 1, solver = 'svd')\n",
    "ridge4.fit(X4_train, y4_train)\n",
    "print(\" R^2 Score with feature4 <-- on test set: {}\".format(ridge4.score(X4_test, y4_test)))"
   ]
  },
  {
   "cell_type": "code",
   "execution_count": 56,
   "metadata": {},
   "outputs": [
    {
     "name": "stdout",
     "output_type": "stream",
     "text": [
      " R^2 Score with feature4 for Lasso Regressor<-- on test set: 0.8654990339385904\n"
     ]
    }
   ],
   "source": [
    "lasso4 = Lasso(alpha=1.0, precompute = False,selection = 'random',tol = 0.000001)\n",
    "lasso4.fit(X4_train,y4_train)\n",
    "print(\" R^2 Score with feature4 for Lasso Regressor<-- on test set: {}\".format(lasso4.score(X4_test, y4_test)))"
   ]
  },
  {
   "cell_type": "code",
   "execution_count": 57,
   "metadata": {},
   "outputs": [
    {
     "name": "stdout",
     "output_type": "stream",
     "text": [
      " R^2 Score with feature3 for ElastiNet Regressor<-- on test set: 0.8697053879497723\n"
     ]
    }
   ],
   "source": [
    "enet4 = ElasticNet().fit(X4_train,y4_train)\n",
    "print(\" R^2 Score with feature3 for ElastiNet Regressor<-- on test set: {}\".format(enet4.score(X4_test, y4_test)))"
   ]
  },
  {
   "cell_type": "markdown",
   "metadata": {},
   "source": [
    "\n",
    "\n",
    "Model | R^2 Score for Feature1 | R^2 Score for Feature2 | R^2 Score for Feature3 | R^2 Score for Feature4 |\n",
    "----- | ---------------------- | ---------------------- | ---------------------- | ---------------------- |\n",
    "DecisionTree Regression | 0.7226228398476233 |  0.7255236235567473 | 0.7254002902689967 | 0.8947462631191094\n",
    "Ridge Regression | 0.668813412604142 | 0.7502428511220475 | 0.7507785142635952 | 0.8770333998103519\n",
    "Lasso Regression | 0.6632206984150215 | 0.7437820410345286 | 0.7502508124379266 | 0.8654990339385904\n",
    "ElastiNet Regression | 0.6660343309393048 | 0.7439282443449935 | 0.7504926807317898 | 0.8697053879497723"
   ]
  },
  {
   "cell_type": "markdown",
   "metadata": {},
   "source": [
    "### Adjusted R-Squared and Root Mean Squared Error\n"
   ]
  },
  {
   "cell_type": "markdown",
   "metadata": {},
   "source": [
    "#### DecisionTree"
   ]
  },
  {
   "cell_type": "code",
   "execution_count": 58,
   "metadata": {},
   "outputs": [
    {
     "name": "stdout",
     "output_type": "stream",
     "text": [
      "Adjusted R^2 Score with feature1 <-- on test set: 0.8796758423361228\n",
      "Mean Squared Error with feature1 <-- on test set: 15.770480584113148 \n",
      "Root Mean Squared Error with feature1 <-- on test set: 3.971206439372442 \n"
     ]
    }
   ],
   "source": [
    "R_Score_DT1 = dtree1.score(X1_test,y1_test)\n",
    "Adj_R_Score_DT1 = 1 - (1-R_Score_DT1)*(len(y1_train)-1)/(len(y1_train)-X1_train.shape[1]-1)\n",
    "print(\"Adjusted R^2 Score with feature1 <-- on test set: {}\".format(Adj_R_Score_DT1))\n",
    "\n",
    "predicted_values = dtree1.predict(X1_test)\n",
    "mse = sklearn.metrics.mean_squared_error(y1_test, predicted_values)\n",
    "print(\"Mean Squared Error with feature1 <-- on test set: {} \".format(mse))\n",
    "rmse = math.sqrt(mse)\n",
    "print(\"Root Mean Squared Error with feature1 <-- on test set: {} \".format(rmse))"
   ]
  },
  {
   "cell_type": "code",
   "execution_count": 59,
   "metadata": {},
   "outputs": [
    {
     "name": "stdout",
     "output_type": "stream",
     "text": [
      "Adjusted R^2 Score with feature2 <-- on test set: 0.8915314816273665\n",
      "Mean Squared Error with feature2 <-- on test set: 14.216348612108478 \n",
      "Root Mean Squared Error with feature2 <-- on test set: 3.7704573478702126 \n"
     ]
    }
   ],
   "source": [
    "R_Score_DT2 = dtree2.score(X2_test,y2_test)\n",
    "Adj_R_Score_DT2 = 1 - (1-R_Score_DT2)*(len(y2_train)-1)/(len(y2_train)-X2_train.shape[1]-1)\n",
    "print(\"Adjusted R^2 Score with feature2 <-- on test set: {}\".format(Adj_R_Score_DT2))\n",
    "\n",
    "predicted_values = dtree2.predict(X2_test)\n",
    "mse = sklearn.metrics.mean_squared_error(y2_test, predicted_values)\n",
    "print(\"Mean Squared Error with feature2 <-- on test set: {} \".format(mse))\n",
    "rmse = math.sqrt(mse)\n",
    "print(\"Root Mean Squared Error with feature2 <-- on test set: {} \".format(rmse))"
   ]
  },
  {
   "cell_type": "code",
   "execution_count": 60,
   "metadata": {},
   "outputs": [
    {
     "name": "stdout",
     "output_type": "stream",
     "text": [
      "Adjusted R^2 Score with feature3 <-- on test set: 0.8911155808524014\n",
      "Mean Squared Error with feature3 <-- on test set: 14.27085834906864 \n",
      "Root Mean Squared Error with feature3 <-- on test set: 3.7776789632085785 \n"
     ]
    }
   ],
   "source": [
    "R_Score_DT3 = dtree3.score(X3_test,y3_test)\n",
    "Adj_R_Score_DT3 = 1 - (1-R_Score_DT3)*(len(y3_train)-1)/(len(y3_train)-X3_train.shape[1]-1)\n",
    "print(\"Adjusted R^2 Score with feature3 <-- on test set: {}\".format(Adj_R_Score_DT3))\n",
    "\n",
    "predicted_values = dtree3.predict(X3_test)\n",
    "mse = sklearn.metrics.mean_squared_error(y3_test, predicted_values)\n",
    "print(\"Mean Squared Error with feature3 <-- on test set: {} \".format(mse))\n",
    "rmse = math.sqrt(mse)\n",
    "print(\"Root Mean Squared Error with feature3 <-- on test set: {} \".format(rmse))"
   ]
  },
  {
   "cell_type": "code",
   "execution_count": 61,
   "metadata": {},
   "outputs": [
    {
     "name": "stdout",
     "output_type": "stream",
     "text": [
      "Adjusted R^2 Score with feature4 <-- on test set: 0.8947409472106406\n",
      "Mean Squared Error with feature4 <-- on test set: 13.795415410337762 \n",
      "Root Mean Squared Error with feature4 <-- on test set: 3.7142180079173817 \n"
     ]
    }
   ],
   "source": [
    "R_Score_DT4 = dtree4.score(X4_test,y4_test)\n",
    "Adj_R_Score_DT4 = 1 - (1-R_Score_DT4)*(len(y4_train)-1)/(len(y4_train)-X4_train.shape[1]-1)\n",
    "print(\"Adjusted R^2 Score with feature4 <-- on test set: {}\".format(Adj_R_Score_DT4))\n",
    "\n",
    "predicted_values = dtree4.predict(X4_test)\n",
    "mse = sklearn.metrics.mean_squared_error(y4_test, predicted_values)\n",
    "print(\"Mean Squared Error with feature4 <-- on test set: {} \".format(mse))\n",
    "rmse = math.sqrt(mse)\n",
    "print(\"Root Mean Squared Error with feature4 <-- on test set: {} \".format(rmse))"
   ]
  },
  {
   "cell_type": "markdown",
   "metadata": {},
   "source": [
    "#### Ridge Tree"
   ]
  },
  {
   "cell_type": "code",
   "execution_count": 62,
   "metadata": {},
   "outputs": [
    {
     "name": "stdout",
     "output_type": "stream",
     "text": [
      "Adjusted R^2 Score with feature1 <-- on test set: 0.8137434453557858\n",
      "Mean Squared Error with feature1 <-- on test set: 24.412016969076387 \n",
      "Root Mean Squared Error with feature1 <-- on test set: 4.94085184650141 \n"
     ]
    }
   ],
   "source": [
    "R_Score_RR1 = ridge1.score(X1_test,y1_test)\n",
    "Adj_R_Score_RR1 = 1 - (1-R_Score_RR1)*(len(y1_train)-1)/(len(y1_train)-X1_train.shape[1]-1)\n",
    "print(\"Adjusted R^2 Score with feature1 <-- on test set: {}\".format(Adj_R_Score_RR1))\n",
    "\n",
    "predicted_values = ridge1.predict(X1_test)\n",
    "mse = sklearn.metrics.mean_squared_error(y1_test, predicted_values)\n",
    "print(\"Mean Squared Error with feature1 <-- on test set: {} \".format(mse))\n",
    "rmse = math.sqrt(mse)\n",
    "print(\"Root Mean Squared Error with feature1 <-- on test set: {} \".format(rmse))"
   ]
  },
  {
   "cell_type": "code",
   "execution_count": 63,
   "metadata": {},
   "outputs": [
    {
     "name": "stdout",
     "output_type": "stream",
     "text": [
      "Adjusted R^2 Score with feature2 <-- on test set: 0.8735883276391865\n",
      "Mean Squared Error with feature2 <-- on test set: 16.56805522821977 \n",
      "Root Mean Squared Error with feature2 <-- on test set: 4.07038760171802 \n"
     ]
    }
   ],
   "source": [
    "R_Score_RR2 = ridge2.score(X2_test,y2_test)\n",
    "Adj_R_Score_RR2 = 1 - (1-R_Score_RR2)*(len(y2_train)-1)/(len(y2_train)-X2_train.shape[1]-1)\n",
    "print(\"Adjusted R^2 Score with feature2 <-- on test set: {}\".format(Adj_R_Score_RR2))\n",
    "\n",
    "predicted_values = ridge2.predict(X2_test)\n",
    "mse = sklearn.metrics.mean_squared_error(y2_test, predicted_values)\n",
    "print(\"Mean Squared Error with feature2 <-- on test set: {} \".format(mse))\n",
    "rmse = math.sqrt(mse)\n",
    "print(\"Root Mean Squared Error with feature2 <-- on test set: {} \".format(rmse))"
   ]
  },
  {
   "cell_type": "code",
   "execution_count": 64,
   "metadata": {},
   "outputs": [
    {
     "name": "stdout",
     "output_type": "stream",
     "text": [
      "Adjusted R^2 Score with feature3 <-- on test set: 0.8750388994747597\n",
      "Mean Squared Error with feature3 <-- on test set: 16.377937070335758 \n",
      "Root Mean Squared Error with feature3 <-- on test set: 4.046966403410801 \n"
     ]
    }
   ],
   "source": [
    "R_Score_RR3 = ridge3.score(X3_test,y3_test)\n",
    "Adj_R_Score_RR3 = 1 - (1-R_Score_RR3)*(len(y3_train)-1)/(len(y3_train)-X3_train.shape[1]-1)\n",
    "print(\"Adjusted R^2 Score with feature3 <-- on test set: {}\".format(Adj_R_Score_RR3))\n",
    "\n",
    "predicted_values = ridge3.predict(X3_test)\n",
    "mse = sklearn.metrics.mean_squared_error(y3_test, predicted_values)\n",
    "print(\"Mean Squared Error with feature3 <-- on test set: {} \".format(mse))\n",
    "rmse = math.sqrt(mse)\n",
    "print(\"Root Mean Squared Error with feature3 <-- on test set: {} \".format(rmse))"
   ]
  },
  {
   "cell_type": "code",
   "execution_count": 65,
   "metadata": {},
   "outputs": [
    {
     "name": "stdout",
     "output_type": "stream",
     "text": [
      "Adjusted R^2 Score with feature4 <-- on test set: 0.877027189302196\n",
      "Mean Squared Error with feature4 <-- on test set: 16.117008112812204 \n",
      "Root Mean Squared Error with feature4 <-- on test set: 4.014599371395881 \n"
     ]
    }
   ],
   "source": [
    "R_Score_RR4 = ridge4.score(X4_test,y4_test)\n",
    "Adj_R_Score_RR4 = 1 - (1-R_Score_RR4)*(len(y4_train)-1)/(len(y4_train)-X4_train.shape[1]-1)\n",
    "print(\"Adjusted R^2 Score with feature4 <-- on test set: {}\".format(Adj_R_Score_RR4))\n",
    "\n",
    "predicted_values = ridge4.predict(X4_test)\n",
    "mse = sklearn.metrics.mean_squared_error(y4_test, predicted_values)\n",
    "print(\"Mean Squared Error with feature4 <-- on test set: {} \".format(mse))\n",
    "rmse = math.sqrt(mse)\n",
    "print(\"Root Mean Squared Error with feature4 <-- on test set: {} \".format(rmse))"
   ]
  },
  {
   "cell_type": "markdown",
   "metadata": {},
   "source": [
    "#### Lasso Regression"
   ]
  },
  {
   "cell_type": "code",
   "execution_count": 66,
   "metadata": {},
   "outputs": [
    {
     "name": "stdout",
     "output_type": "stream",
     "text": [
      "Adjusted R^2 Score with feature1 <-- on test set: 0.8055511654779605\n",
      "Mean Squared Error with feature1 <-- on test set: 25.485751398315212 \n",
      "Root Mean Squared Error with feature1 <-- on test set: 5.048341450250291 \n"
     ]
    }
   ],
   "source": [
    "R_Score_La1 = lasso1.score(X1_test,y1_test)\n",
    "Adj_R_Score_La1 = 1 - (1-R_Score_La1)*(len(y1_train)-1)/(len(y1_train)-X1_train.shape[1]-1)\n",
    "print(\"Adjusted R^2 Score with feature1 <-- on test set: {}\".format(Adj_R_Score_La1))\n",
    "\n",
    "predicted_values = lasso1.predict(X1_test)\n",
    "mse = sklearn.metrics.mean_squared_error(y1_test, predicted_values)\n",
    "print(\"Mean Squared Error with feature1 <-- on test set: {} \".format(mse))\n",
    "rmse = math.sqrt(mse)\n",
    "print(\"Root Mean Squared Error with feature1 <-- on test set: {} \".format(rmse))"
   ]
  },
  {
   "cell_type": "code",
   "execution_count": 67,
   "metadata": {},
   "outputs": [
    {
     "name": "stdout",
     "output_type": "stream",
     "text": [
      "Adjusted R^2 Score with feature2 <-- on test set: 0.8590273146693252\n",
      "Mean Squared Error with feature2 <-- on test set: 18.476483956026648 \n",
      "Root Mean Squared Error with feature2 <-- on test set: 4.2984280796619885 \n"
     ]
    }
   ],
   "source": [
    "R_Score_La2 = lasso2.score(X2_test,y2_test)\n",
    "Adj_R_Score_La2 = 1 - (1-R_Score_La2)*(len(y2_train)-1)/(len(y2_train)-X2_train.shape[1]-1)\n",
    "print(\"Adjusted R^2 Score with feature2 <-- on test set: {}\".format(Adj_R_Score_La2))\n",
    "\n",
    "predicted_values = lasso2.predict(X2_test)\n",
    "mse = sklearn.metrics.mean_squared_error(y2_test, predicted_values)\n",
    "print(\"Mean Squared Error with feature2 <-- on test set: {} \".format(mse))\n",
    "rmse = math.sqrt(mse)\n",
    "print(\"Root Mean Squared Error with feature2 <-- on test set: {} \".format(rmse))"
   ]
  },
  {
   "cell_type": "code",
   "execution_count": 68,
   "metadata": {},
   "outputs": [
    {
     "name": "stdout",
     "output_type": "stream",
     "text": [
      "Adjusted R^2 Score with feature3 <-- on test set: 0.8650825019051529\n",
      "Mean Squared Error with feature3 <-- on test set: 17.682865181218748 \n",
      "Root Mean Squared Error with feature3 <-- on test set: 4.205099901455226 \n"
     ]
    }
   ],
   "source": [
    "R_Score_La3 = lasso3.score(X3_test,y3_test)\n",
    "Adj_R_Score_La3 = 1 - (1-R_Score_La3)*(len(y3_train)-1)/(len(y3_train)-X3_train.shape[1]-1)\n",
    "print(\"Adjusted R^2 Score with feature3 <-- on test set: {}\".format(Adj_R_Score_La3))\n",
    "\n",
    "predicted_values = lasso3.predict(X3_test)\n",
    "mse = sklearn.metrics.mean_squared_error(y3_test, predicted_values)\n",
    "print(\"Mean Squared Error with feature3 <-- on test set: {} \".format(mse))\n",
    "rmse = math.sqrt(mse)\n",
    "print(\"Root Mean Squared Error with feature3 <-- on test set: {} \".format(rmse))"
   ]
  },
  {
   "cell_type": "code",
   "execution_count": 69,
   "metadata": {},
   "outputs": [
    {
     "name": "stdout",
     "output_type": "stream",
     "text": [
      "Adjusted R^2 Score with feature4 <-- on test set: 0.8654922408797809\n",
      "Mean Squared Error with feature4 <-- on test set: 17.628796419918494 \n",
      "Root Mean Squared Error with feature4 <-- on test set: 4.198666028623674 \n"
     ]
    }
   ],
   "source": [
    "R_Score_La4 = lasso4.score(X4_test,y4_test)\n",
    "Adj_R_Score_La4 = 1 - (1-R_Score_La4)*(len(y4_train)-1)/(len(y4_train)-X4_train.shape[1]-1)\n",
    "print(\"Adjusted R^2 Score with feature4 <-- on test set: {}\".format(Adj_R_Score_La4))\n",
    "\n",
    "predicted_values = lasso4.predict(X4_test)\n",
    "mse = sklearn.metrics.mean_squared_error(y4_test, predicted_values)\n",
    "print(\"Mean Squared Error with feature4 <-- on test set: {} \".format(mse))\n",
    "rmse = math.sqrt(mse)\n",
    "print(\"Root Mean Squared Error with feature4 <-- on test set: {} \".format(rmse))"
   ]
  },
  {
   "cell_type": "markdown",
   "metadata": {},
   "source": [
    "#### ElastiNet Regression"
   ]
  },
  {
   "cell_type": "code",
   "execution_count": 70,
   "metadata": {},
   "outputs": [
    {
     "name": "stdout",
     "output_type": "stream",
     "text": [
      "Adjusted R^2 Score with feature1 <-- on test set: 0.8035753381142305\n",
      "Mean Squared Error with feature1 <-- on test set: 25.74471641151153 \n",
      "Root Mean Squared Error with feature1 <-- on test set: 5.073925148394636 \n"
     ]
    }
   ],
   "source": [
    "R_Score_EN1 = enet1.score(X1_test,y1_test)\n",
    "Adj_R_Score_EN1 = 1 - (1-R_Score_EN1)*(len(y1_train)-1)/(len(y1_train)-X1_train.shape[1]-1)\n",
    "print(\"Adjusted R^2 Score with feature1 <-- on test set: {}\".format(Adj_R_Score_EN1))\n",
    "\n",
    "predicted_values = enet1.predict(X1_test)\n",
    "mse = sklearn.metrics.mean_squared_error(y1_test, predicted_values)\n",
    "print(\"Mean Squared Error with feature1 <-- on test set: {} \".format(mse))\n",
    "rmse = math.sqrt(mse)\n",
    "print(\"Root Mean Squared Error with feature1 <-- on test set: {} \".format(rmse))"
   ]
  },
  {
   "cell_type": "code",
   "execution_count": 71,
   "metadata": {},
   "outputs": [
    {
     "name": "stdout",
     "output_type": "stream",
     "text": [
      "Adjusted R^2 Score with feature2 <-- on test set: 0.8625659319767347\n",
      "Mean Squared Error with feature2 <-- on test set: 18.012697615052108 \n",
      "Root Mean Squared Error with feature2 <-- on test set: 4.244136851593279 \n"
     ]
    }
   ],
   "source": [
    "R_Score_EN2 = enet2.score(X2_test,y2_test)\n",
    "Adj_R_Score_EN2 = 1 - (1-R_Score_EN2)*(len(y2_train)-1)/(len(y2_train)-X2_train.shape[1]-1)\n",
    "print(\"Adjusted R^2 Score with feature2 <-- on test set: {}\".format(Adj_R_Score_EN2))\n",
    "\n",
    "predicted_values = enet2.predict(X2_test)\n",
    "mse = sklearn.metrics.mean_squared_error(y2_test, predicted_values)\n",
    "print(\"Mean Squared Error with feature2 <-- on test set: {} \".format(mse))\n",
    "rmse = math.sqrt(mse)\n",
    "print(\"Root Mean Squared Error with feature2 <-- on test set: {} \".format(rmse))"
   ]
  },
  {
   "cell_type": "code",
   "execution_count": 72,
   "metadata": {},
   "outputs": [
    {
     "name": "stdout",
     "output_type": "stream",
     "text": [
      "Adjusted R^2 Score with feature3 <-- on test set: 0.8691665710183645\n",
      "Mean Squared Error with feature3 <-- on test set: 17.14758959028741 \n",
      "Root Mean Squared Error with feature3 <-- on test set: 4.140964813939791 \n"
     ]
    }
   ],
   "source": [
    "R_Score_EN3 = enet3.score(X3_test,y3_test)\n",
    "Adj_R_Score_EN3 = 1 - (1-R_Score_EN3)*(len(y3_train)-1)/(len(y3_train)-X3_train.shape[1]-1)\n",
    "print(\"Adjusted R^2 Score with feature3 <-- on test set: {}\".format(Adj_R_Score_EN3))\n",
    "\n",
    "predicted_values = enet3.predict(X3_test)\n",
    "mse = sklearn.metrics.mean_squared_error(y3_test, predicted_values)\n",
    "print(\"Mean Squared Error with feature3 <-- on test set: {} \".format(mse))\n",
    "rmse = math.sqrt(mse)\n",
    "print(\"Root Mean Squared Error with feature3 <-- on test set: {} \".format(rmse))\n"
   ]
  },
  {
   "cell_type": "code",
   "execution_count": 73,
   "metadata": {},
   "outputs": [
    {
     "name": "stdout",
     "output_type": "stream",
     "text": [
      "Adjusted R^2 Score with feature4 <-- on test set: 0.8696988073356091\n",
      "Mean Squared Error with feature1 <-- on test set: 17.0774772680592 \n",
      "Root Mean Squared Error with feature1 <-- on test set: 4.132490443795267 \n"
     ]
    }
   ],
   "source": [
    "R_Score_EN4 = enet4.score(X4_test,y4_test)\n",
    "Adj_R_Score_EN4 = 1 - (1-R_Score_EN4)*(len(y4_train)-1)/(len(y4_train)-X4_train.shape[1]-1)\n",
    "print(\"Adjusted R^2 Score with feature4 <-- on test set: {}\".format(Adj_R_Score_EN4))\n",
    "\n",
    "predicted_values = enet4.predict(X4_test)\n",
    "mse = sklearn.metrics.mean_squared_error(y4_test, predicted_values)\n",
    "print(\"Mean Squared Error with feature1 <-- on test set: {} \".format(mse))\n",
    "rmse = math.sqrt(mse)\n",
    "print(\"Root Mean Squared Error with feature1 <-- on test set: {} \".format(rmse))"
   ]
  },
  {
   "cell_type": "markdown",
   "metadata": {},
   "source": [
    "\n",
    "The Root Mean Squared Errors are given as follows :\n",
    "\n",
    "Model |  Feature1 | Feature2 | Feature3 | Feature4 |\n",
    "----- | --------- | -------- | -------- | -------- |\n",
    "DecisionTree Regression | 3.9734723263825984  | 3.774423598313993  | 3.7726103630097145 | 2.797486270628397 \n",
    "Ridge Regression | 4.94085184650141  | 4.07038760171802 | 4.046966403410801  | 4.014335191025011\n",
    "Lasso Regression | 5.048341677920922 | 4.298428227724754 | 4.20510022907211 | 4.199118234990604\n",
    "ElastiNet Regression | 5.073925148394636 | 4.244136851593279 | 4.140964813939791 | 4.132578040373532"
   ]
  },
  {
   "cell_type": "markdown",
   "metadata": {},
   "source": [
    "## Future Scope"
   ]
  },
  {
   "cell_type": "markdown",
   "metadata": {},
   "source": [
    "These Machine Learning Models can be used to predict the Temperature given the data attributes. These ML Models can be further used to identify which particular pollutant has the most effect on Temperature and government entities can take necessary steps required to curb air pollution. "
   ]
  }
 ],
 "metadata": {
  "kernelspec": {
   "display_name": "Python 3",
   "language": "python",
   "name": "python3"
  },
  "language_info": {
   "codemirror_mode": {
    "name": "ipython",
    "version": 3
   },
   "file_extension": ".py",
   "mimetype": "text/x-python",
   "name": "python",
   "nbconvert_exporter": "python",
   "pygments_lexer": "ipython3",
   "version": "3.8.5"
  }
 },
 "nbformat": 4,
 "nbformat_minor": 4
}
